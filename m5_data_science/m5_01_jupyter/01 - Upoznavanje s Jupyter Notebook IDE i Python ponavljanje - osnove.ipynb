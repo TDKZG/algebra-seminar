{
 "cells": [
  {
   "cell_type": "markdown",
   "id": "ca1073f8",
   "metadata": {},
   "source": [
    "<a href='http://www.algebra.hr'> <img src='algebra_logo_color_h.png' alt=\"Algebra\" width=\"500\" /></a>\n",
    "___\n",
    "# Jupyter Notebook IDE\n",
    "## Što je Jupyter Notebook\n",
    "\n",
    "To je IDE koji omogućava pisanje, editiranje i pokretanje kôda zajedno s formatiranim tekstom. Jako je raširena primjena u znanstvenim institucijama i zajednicama, a posebno u *Data Scienceu* (podatkovnoj znanosti).\n",
    "\n",
    "* Primjer: želite napisati članak u kojem će biti opisano zašto se neke stvari događaju u vašem gradu. Prvo ćete koristiti tekst u kojemu ćete opisati događaje, zatim vašu tezu o tome što vi smatrate da je uzrok tih događaja i  sve ćete to \"začiniti\" grafovima i analizom neke velike količine podataka. Pri tome ćete pokazati postupak pripreme te velike količine podataka, postupak obrade i na kraju grafički prikaz obrađenih podataka osnovom kojih ste došli do zaključaka. Na ovaj će način svaka osoba, koja želi provjeriti vaše zaključke, moći sve jednostavno analizirati i provjeriti jesu li vaši zaključci točni ili ako nisu, moći će ukazati na mjesto gdje ste pogriješili. Sve ovo navedeno je ustaljena praksa u znanstvenim istraživanjima.\n",
    "* Primjer: želite podučavati druge programiranju u Pythonu ili nekom od 40 drugih podržanih jezika, na način da gotovo svaku liniju kôda imate opisanu, ne kao komentar u kôdu, nego kao formatirani tekst koji može sadržavati i datoteke sa slikama.\n",
    "\n",
    "Jupyter Notebook se pokazao idealnim za ove namjene, ali i za puno više.\n",
    "\n",
    "Osim što se trebamo upoznati s Jupyter Notebook okruženjem, iskoristit ćemo priliku i ponoviti neke ključne ugrađene komponente u Pythonu kako bismo mogli krenuti prema alatima u podatkovnoj znanosti.\n",
    "\n",
    "## Struktura Jupyter Notebook datoteke\n",
    "\n",
    "Osnovna jedinica za unos kôda ili teksta u Jupyter Notebook je ćelija. Ovisno o sadržaju, ćelije mogu imati nekoliko tipova, ali nama su najvažnija dva:\n",
    "* *Code cell* (ćelija za unos kôda)\n",
    "* *Markdown cell* (ćelija za unos teksta, fotografija ...)"
   ]
  },
  {
   "cell_type": "code",
   "execution_count": 1,
   "id": "d35dc352",
   "metadata": {},
   "outputs": [
    {
     "name": "stdout",
     "output_type": "stream",
     "text": [
      "Pozdrav iz Jupyter Notebook-a\n"
     ]
    }
   ],
   "source": [
    "# Ovo je CODE CELL u Jupyter Notebook. To je ćelija ili prosto u kojem pišemo naš kôd.\n",
    "# Tekst iznad ove ćelije je MARKDOWN CELL ili prosto u kojem pišemo tekst \n",
    "# u koji možemo formatirati, dodati fotografije ... Puno bolje od komentara\n",
    "\n",
    "print('Pozdrav iz Jupyter Notebook-a') # Kombinacija tipki SHIFT+ENTER će pokrenuti kôd u ćeliji"
   ]
  },
  {
   "cell_type": "markdown",
   "id": "3299a281",
   "metadata": {},
   "source": [
    "**NAPOMENA:** važno je znati da se, za razliku od klasičnih IDE programa, u Jupyter Notebooku, kôd izvršava ćeliju po ćeliju. To znači da će se izvršiti kôd samo onih ćelija koje smo mi pokrenuli, a ne sve. Naravno, postoji mogućnost pokretanja svih ćelija, ali to nije predefinirano funkcioniranje IDE.\n",
    "\n",
    "Primijetite kako ispred *Code Cell* postoji oznaka \"In \\[broj\\]\". To je skraćeno od **In**put te sadržava broj toga koliko je puta pokrenut kôd unutar te ćelije."
   ]
  },
  {
   "cell_type": "markdown",
   "id": "82d7572b",
   "metadata": {},
   "source": [
    "## Stanja u kojima se nalaze ćelije\n",
    "\n",
    "U Jupyter Notebook uvijek je **samo jedna** ćelija aktivna. Svaka ćelija može biti u dva stanja, ovisno o tome što želimo sa sadržajem ćelije. Ako želimo mijenjati sadržaj, onda ćelija treba biti u ***EDIT MODE*** stanju, a ako želimo pokretati sadržaj ili mijenjati tip sadržaja (kôd ili tekst ...) onda ćelija treba biti u ***COMMAND MODE*** stanju:\n",
    "\n",
    "- kada se ćelija nalazi u ***COMMAND MODEU***, onda je okvir ćelije u **plavoj boji**\n",
    "- kada je ćelija u ***EDIT MODE***, onda je njen okvir **zelene boje**"
   ]
  },
  {
   "cell_type": "markdown",
   "id": "3ab7006e",
   "metadata": {},
   "source": [
    "## Prečaci na tipkovnici\n",
    "\n",
    "Tijekom programiranja, naši su prsti na tipkovnici i nije praktično stalno micati ruku s tipkovnice kako bismo pomoću miša kliknuli na neki gumb pa onda opet nastavili tipkati. Zbog toga postoje prečaci na tipkovnici i dobro je za svaki IDE usvojiti one koje najčešće koristimo. Tako ubrzavamo rad, odnosno ne prekidamo tijek naših misli, već samo tipkamo. Jupyter Notebook ima jako puno prečaca. Popis svih prečaca te mogućnost njihovog uređivanja nalazi se u izborniku \"Help -> Keyboard Shortcuts\". \n",
    "\n",
    "**NAPOMENA - prečac na tipkovnici ovisi o stanju u kojem se nalazi ćelija.** Promjenu stanja ćelije na kojoj trenutno radimo, možemo napraviti pomoću tipke **ESC** koja prebacuje ćeliju u ***COMMAND MODE***, a ako želimo ćeliju prebaciti u ***EDIT MODE***, tada samo pritisnemo tipku **ENTER**.\n",
    "\n",
    "### Pokretanje ili aktiviranje sadržaja ćelije\n",
    "\n",
    "Svaku ćeliju možemo pokrenuti tako da kliknemo na gumb *\"Run\"* ili na jednostavniji način: kombinacijom tipki **SHIFT+ENTER**. Ova kombinacija vrijedi za oba stanja ćelije. Ako je u ćeliji kôd, onda će se taj dio kôda izvršiti, a ako je u ćeliji tekst, onda će se taj tekst prikazati uz primjenu svih pravila formatiranja.\n",
    "\n",
    "### Promjena tipa sadržaja - CODE CELL <-> MARKDOWN CELL\n",
    "\n",
    "Ćelija mora biti aktivna te u *COMMAND MODEU* mora imati plavi okvir. Za prebacivanje ćelije u *CODE CELL* u kojem možemo pisati programski kôd, pritisnemo tipku **Y**, a ako pritisnemo tipku **M**, prebacit ćemo ćeliju u *MARKDOWN CELL*.\n",
    "\n",
    "### Drugi korisni prečaci\n",
    "\n",
    "Gore navedeni prečaci omogućavaju rad na Jupyter Notebook dokumentu bez prekidanja zbog korištenja miša. Međutim, postoji još nekoliko korisnih prečaca koji mogu isto tako olakšati rad. **Ćelija mora biti u** ***COMMAND MODEU*** u slučaju:\n",
    "\n",
    "- A - ubaci novu ćeliju iznad\n",
    "- B - ubaci novu ćeliju ispod\n",
    "- D,D - izbriši aktivnu ćeliju\n",
    "- X - izreži *(cut)* aktivnu ćeliju *(Ako je ćelija u EDIT MODE, onda vrijedi prečac CRTL+X)*\n",
    "- V - zalijepi ćeliju ispod aktivne ćelije *(Ako je ćelija u EDIT MODE, onda vrijedi prečac CRTL+V)*\n",
    "- Z - poništi zadnji korak/aktivnost *(Ako je ćelija u EDIT MODE, onda vrijedi prečac CRTL+Z)*\n",
    "- S - Pohrani izmjene na dokumentu *(Ako je ćelija u EDIT MODE, onda vrijedi prečac CRTL+S)*\n",
    "__________"
   ]
  },
  {
   "cell_type": "code",
   "execution_count": 2,
   "id": "d3e382ed",
   "metadata": {},
   "outputs": [
    {
     "name": "stdout",
     "output_type": "stream",
     "text": [
      "Bok\n"
     ]
    }
   ],
   "source": [
    "print(\"Bok\")"
   ]
  },
  {
   "cell_type": "markdown",
   "id": "67e690e1",
   "metadata": {},
   "source": [
    "## Format zapisa (ekstenzija datoteke) Juypter Notebook datoteke\n",
    "\n",
    "Osnovni format, u kojem se pohranjuju Jupyter Notebook datoteke, je **.ipynb**. Ako znamo da je Jupyter Notebook nastao od IPythona, onda je jasan prvi dio naziva ekstenzije *ipy*, a drugi dio *nb* koji bi označavao **n**ote**b**ook.\n",
    "\n",
    "### Dijeljenje Jupyter Notebook dokumenta\n",
    "\n",
    "Međutim, dokument koji smo napravili u Jupyter Notebook alatu možemo pohraniti u nekoliko drugih tipova, ovisno o tome koja je namjena, odnosno s kim želimo podijeliti naš dokument. Važno ga je prije dijeljenja dokumenta pripremiti za dijeljenje, zato što će Jupyter Notebook dokument podijeliti u trenutnom stanju. Koraci za pripremu dokumenta za dijeljenje:\n",
    "1. Kliknuti na *“Cell > All Output > Clear”* - ova akcija će \"počistiti\" sve rezultate pokretanja našeg kôda u ćelijama\n",
    "2. Kliknuti na *“Kernel > Restart & Run All”* - ova akcija će ponovno pokrenuti sve ćelije u dokumentu, jednu po jednu\n",
    "3. I treći korak je najlakši - trebamo pričekati da se izvrše sve ćelije te provjeriti je li se sve izvršilo kako smo očekivali.\n",
    "\n",
    "Nakon što smo pripremili dokument, unutar izbornika ***File -> Download*** as imamo popis tipova dokumenata u kojima možemo izvesti naš dokument. Tako možemo pohraniti naš dokument kao obični Python dokument s *.py* ekstenzijom ili u obliku web stranice s *.html* ekstenzijom. Za izvod u PDF formatu, potrebno je dodati alate koji će konvertirati naš dokument u PDF format."
   ]
  },
  {
   "cell_type": "markdown",
   "id": "361bb792",
   "metadata": {},
   "source": [
    "#### Tab\n",
    "\n",
    "Python Notebook, kao i većina drugih IDE alata intenzivno koristi tipku *TAB* za automatsko popunjavanje naziva. Evo nekih primjera kada nam *TAB* tipka može jako dobro doći:\n",
    "- nakon što upišemo točku nakon naziva varijable, pomoću TAB-a dobit ćemo listu dostupnih metoda za tu varijablu ili objekt\n",
    "- nakon otvorene zagrade u funkciji/metodi, TAB prikazuje listu argumenata (čak doda i znak = uz naziv argumenta)\n",
    "- kada prikazuje klase i svojstva nekog modula, jednako kao i za varijable/objekte, nakon unosa naziva modula upišemo točku i pomoću TAB tipke dobijemo listu svojstava i klasa u modulu\n",
    "- kada dopunjava putanju do datoteke tako što na kraju mape, pomoću TAB tipke, dobijete popis datoteka, možete početi i pisati naziv datoteke pa pomoću TAB tipke dobijete listu svih datoteka koje počinju tim slovom ili slovima."
   ]
  },
  {
   "cell_type": "markdown",
   "id": "7ed32f5c",
   "metadata": {},
   "source": [
    "#### Znak \"?\"\n",
    "\n",
    "Još jedna mogućnost koju nudi Jupyter notebook IDE je uporaba znaka \"?\". Znak \"?\" možete koristiti nakon naziva varijable, metode, ali i za pretraživanje metoda i klasa unutar nekog modula.\n",
    "\n",
    "Ako koristite dvostruki znak „?“, dobit ćete i prikaz kôda metode."
   ]
  },
  {
   "cell_type": "code",
   "execution_count": 3,
   "id": "f421ebe9",
   "metadata": {},
   "outputs": [],
   "source": [
    "lista = [1, 2, 3]\n",
    "lista?"
   ]
  },
  {
   "cell_type": "markdown",
   "id": "2f21a016",
   "metadata": {},
   "source": [
    "Otvorit će se dodatni prozor u kojem će biti opisan objekt, prikazan *DocString* sadržaj, signatura metode. Slično *help()* metodi, samo malo prikladnije za Jupyter Notebook.\n",
    "\n",
    "Probajmo još nekoliko primjera."
   ]
  },
  {
   "cell_type": "code",
   "execution_count": 4,
   "id": "9a18f737",
   "metadata": {},
   "outputs": [],
   "source": [
    "import datetime\n",
    "datetime.date*?"
   ]
  },
  {
   "cell_type": "code",
   "execution_count": 5,
   "id": "f9809f7c",
   "metadata": {},
   "outputs": [],
   "source": [
    "datetime.date??"
   ]
  },
  {
   "cell_type": "markdown",
   "id": "13534f6f",
   "metadata": {},
   "source": [
    "### *Magic Commands*\n",
    "\n",
    "Jupyter Notebook koristi *Magic Commands* pomoću kojih imamo mogućnost interakcije s datotekama i operacijskim sustavom na računalu na kojemu se pokreće Jupyter Notebook skripta. *Magic* naredbe nisu dio Pythona i specifične su zato jer počinju znakom za postotak \"%\" pa slijedi naziv naredbe.\n",
    "\n",
    "- **%run** naziv_skripte.py - pokreće Python skripte unutar Jupyter Notebook datoteke, ali bez integracije. Kao da ste u konzoli upisali *python naziv_skripte.py*. Ukoliko želite interakciju s Jupyter Notebook datotekom, dakle pristup modulima, varijablama, funkcijama unutar Jupyter Notebook datoteke, onda treba koristiti integrirani način rada: *%run* ***-i*** *naziv_skripte.py*\n",
    "- **%timeit python_naredba** - mjeri vrijeme izvršavanja neke *python* naredbe. Jako korisno kod provjere učinkovitosti nekog dijela kôda.\n",
    "- **%pwd** - vraća putanju putanje mape u kojoj se trenutno izvršava kôd. PWD je skraćenica od *Print Working Directory*.\n",
    "\n",
    "Rezultati *Magic* naredbi mogu se pohraniti u varijable."
   ]
  },
  {
   "cell_type": "code",
   "execution_count": 6,
   "id": "66276941",
   "metadata": {},
   "outputs": [
    {
     "name": "stdout",
     "output_type": "stream",
     "text": [
      "/Users/acarin/Projects/algebra/python-tecaj/python-lectures/m5_data_science/m5_01_jupyter\n"
     ]
    }
   ],
   "source": [
    "radna_mapa = %pwd\n",
    "print(radna_mapa)"
   ]
  },
  {
   "cell_type": "markdown",
   "id": "c4a3c4d6",
   "metadata": {},
   "source": [
    "*Magic* naredbe:\n",
    "\n",
    "- *%magic* - detaljna dokumentacija o *Magic* naredbama\n",
    "- *%quickref* - kratke informacije o *Magic* naredbama. Kraće su od dokumentacije, ali ipak nisu tako kratke."
   ]
  },
  {
   "cell_type": "markdown",
   "id": "bc661c39",
   "metadata": {},
   "source": [
    "# Python ponavaljanje"
   ]
  },
  {
   "cell_type": "markdown",
   "id": "e5cbf88b",
   "metadata": {},
   "source": [
    "Do sada smo jako puno toga prošli vezano uz Python pa ćemo sada to ponoviti. Ponavljanje ćemo napraviti u odnosu na primjenu u Data Science području.\n",
    "\n",
    "Prvo ćemo krenuti s virtualnim okruženjem u Pythonu."
   ]
  },
  {
   "cell_type": "markdown",
   "id": "8ff267cf",
   "metadata": {},
   "source": [
    "## Python Virtual Environment\n",
    "\n",
    "Python virtualno okruženje jedna je odlična funkcionalnost koju nam Python omogućava. Radi se o situaciji, u kojoj ćete se kao Python developer jako često naći, a gotovo da je uporaba Python virtualnih okruženja u podatkovnoj znanosti pravilo.\n",
    "\n",
    "Pomoću opisa primjera, bit će vam jasnije o čemu se radi. Primjena Pythona u programiranju, naročito u podatkovnoj znanosti, zahtijeva dodavanje Python modula (u podatkovnoj znanosti je to obvezno). Gotovo svaki projekt ima svoju kombinaciju instaliranih modula, kao i verziju Pythona. Klasičnom bismo primjenom na računalu mogli imati instaliranu samo jednu verziju Pythona i modula. To može uzrokovati razne nepredviđene probleme s radom naših Python aplikacija. Jedno rješenje bi bilo imati jedno računalo, odnosno jednu instalaciju Windowsa (ili nekog drugog operacijskog sustava) za svaki projekt. To je jako nepraktično. Postoje i virtualna računala pa bismo na jednom fizičkom računalu mogli imati jedno virtualno računalo za svaki projekt. Ovo je malo bolje, ali i dalje jako nepraktično.\n",
    "\n",
    "Zbog toga postoje virtualna okruženja koja omogućavaju paralelno instalaciju i korištenje više verzija Pythona i modula na jednom računalu. U jednoj mapi na računalu jednostavno kreirate virtualno okruženje i u njemu instalirate verzije koje vam trebaju za određeni projekt. U drugoj mapi instalirate drugo okruženje ... i tako za svaki projekt na kojem radite. Hoćete li koristiti jednu mapu za virtualno okruženje, za svaku važniju verziju Pythona i u njoj imati projekte s modulima, ili ćete za svaki projekt kreirati jedinstvenu mapu te u njoj kreirati virtualno okruženje, ostaje na vama i vašoj osobnoj preferenciji ili uvjetima koje može uvjetovati firma u kojoj radite.\n",
    "\n",
    "**NAPOMENA: tijekom instalacije Anaconda distribucije, kreira se i virtualno okruženje naziva \"base\". Preporuka je ne koristiti to okruženje u produkcijske svrhe. Ali zbog jednostavnosti, tijekom ovog modula, mi ćemo koristiti upravo to okruženje i nećemo se opterećivati verzijama modula i Pythona. To je nekako razumljivo tijekom učenja, istraživanja novih mogućnosti i slično. JAKO je VAŽNO da ste toga svjesni i da znate razlog zbog kojeg ne slijedite preporuke.**"
   ]
  },
  {
   "cell_type": "markdown",
   "id": "5defdae2",
   "metadata": {},
   "source": [
    "**Kreiranje Python virtualnog okruženja**\n",
    "\n",
    "Od verzije 3.3, Python ima ugrađen modul *venv* (dio *virtualenv* modula) pomoću kojeg možemo kreirati Python virtualna okruženja.\n",
    "\n",
    "Za verzije Pythona prije 3.3, procedura kreiranja virtualnog okruženja je:\n",
    "\n",
    "1.\tKreirajte mapu na disku u kojoj želite čuvati virtualno okruženje. To je mapa u kojoj će biti pohranjene i datoteke programa kojeg razvijate. U CMD, PowerShell ili Terminalu (jednim nazivom konzola) pozicionirajte se u tu mapu.\n",
    "2.\tInstalirajte virtualenv modul upisivanjem naredbe u konzoli: **pip install virtualenv**.\n",
    "3.\tKreirajte virtualno okruženje upisivanjem naredbe u konzoli: **virtualenv naziv_virt_okruzenja**, gdje je \"naziv_virt_okruzenja\" naziv Python virtualnog okruženja BEZ RAZMAKA. Naziv okruženja će najčešće biti naziv projekta.\n",
    "4.\tTijekom kreiranja virtualnog okruženja, kreirat će se nekoliko mapa s Python skriptama. Jedna od njih je mapa Scripts, a unutar nje je skripta **activate**. Pomoću skripte, aktivirajte kreirano Python okruženje. **Ovo okruženje je sada postalo glavno okruženje koje će se koristiti na računalu i svi će programi, uključujući i IDE, koristiti to okruženje**. Naredba za aktiviranje virtualnog okruženja izgleda ovako: *./naziv_virt_okruzenja/Scripts/activate.*\n",
    "\n",
    "Nakon što ste aktivirali virtualno okruženje, u konzoli će, na početku linije u kojoj piše kôd u zagradi, pisati naziv virtualnog okruženja. Ako ne piše ništa, onda ste u inicijalnom okruženju. To je ono okruženje koje ste imali odmah nakon instalacije Pythona na svoje računalo. To će vam omogućiti provjeru u kojem virtualnom okruženju trenutno radite.\n",
    "Za promjenu virtualnog okruženja ili izlazak iz trenutnog te povratak na \"glavnu\" verziju Pythona, trebamo deaktivirati virtualno okruženje naredbom *deactivate*. Za naš primjer to bi izgledalo ovako:\n",
    "\n",
    "*./naziv_virt_okruzenja/Scripts/deactivate.*"
   ]
  },
  {
   "cell_type": "markdown",
   "id": "9e2db02c",
   "metadata": {},
   "source": [
    "**Kreiranje Python virtualnog okruženja uz Anacondu**\n",
    "\n",
    "Postupak je gotovo identičan kao i bez Anaconda distribucije alata, razlika je samo u naredbama. I dalje trebamo koristiti konzolu. **Većina naredbi počinje s riječju \"conda\" koja označava to da se koriste Anaconda alati.**\n",
    "\n",
    "Za kreiranje virtualnog okruženja naziva \"MyPython3Version\" koje će imati Python verziju 3.7 te instaliranu NumPy biblioteku koristit ćemo sljedeću naredbu:<br>\n",
    "***conda create --name MyPython3Version python=3.7 numpy.***\n",
    "\n",
    "Novo virtualno okruženje trebamo aktivirati naredbom:<br>\n",
    "***conda activate MyPython3Version.***\n",
    "\n",
    "A deaktivirati naredbom:<br>\n",
    "***conda deactivate*** - ne treba navoditi naziv virtualnog okruženja jer će ova naredba deaktivirati trenutno aktivno virtualno okruženje.\n",
    "\n",
    "Ponekad ćete trebati popis svih virtualnih okruženja na računalu. To možete dobiti naredbom:<br>\n",
    "***conda info --envs*** ili\n",
    "***conda env list.***\n",
    "\n",
    "Virtualno okruženje možete i izbrisati naredbom:<br>\n",
    "***conda env remove -n MyPython3Version.***"
   ]
  },
  {
   "cell_type": "markdown",
   "id": "023758fb",
   "metadata": {},
   "source": [
    "**Virtualna okruženja u Jupyter Notebook**\n",
    "\n",
    "Za korištenje virtualnih okruženja, u Jupyter Notebook IDE treba napraviti nekoliko priprema prije jer postojeća okruženja nisu \"prikazana\" kao izbor. Prilikom kreiranja Jupyter Notebook datoteka, koristili smo se web sučeljem u kojem smo birali *New -> Python* 3 i to bi nam kreiralo novu datoteku Jupyter Notebook formata. To će uvijek koristiti osnovno Anaconda virtualno okruženje *(base)*.\n",
    "\n",
    "Za dodavanje virtualnih okruženja u Jupyter Notebook, trebamo instalirati *ipykernel* (već je instaliran kroz Anaconda, ali u slučaju da ga nemate):<br>\n",
    "*pip install --user ipykernel*\n",
    "\n",
    "te ga ručno dodati u virtualno okruženje<br>\n",
    "*python -m ipykernel install --user --name=MyPython3Version.*\n",
    "\n",
    "Ovime smo dobili da kroz web sučelje umjesto *New -> Python 3 imamo New -> MyPython3Version.*\n",
    "\n",
    "Virtualno okruženje možemo mijenjati i klikom na *Kernel -> Change kernel >*.\n",
    "\n",
    "*Važno: kao što smo rekli, važno je da znate za virtualna okruženja i kako prepoznati u kojem radite pa zbog toga neke naredbe ne rade i slično, a mi ćemo se za nastavak seminara nastaviti služiti osnovnim okruženjem.*"
   ]
  },
  {
   "cell_type": "markdown",
   "id": "5b4aba3e",
   "metadata": {},
   "source": [
    "## Python osnove\n",
    "\n",
    "Prođimo kratko kroz osnove programiranja u Pythonu. Većinu toga znate, ali nije loše malo osvježiti znanje, a i neke stvari dodatno naglasiti kako bismo lakše pratili dio seminara, odnosno Python biblioteke koje se najčešće koriste u podatkovnoj znanosti."
   ]
  },
  {
   "cell_type": "markdown",
   "id": "f4bf6b5f",
   "metadata": {},
   "source": [
    "### Računanje u Pythonu"
   ]
  },
  {
   "cell_type": "markdown",
   "id": "c78863a5",
   "metadata": {},
   "source": [
    "**PITANJE<br>\n",
    "Možete li se sjetiti kojim će se redoslijedom izvršavati slijedeći matematički izračun?**"
   ]
  },
  {
   "cell_type": "code",
   "execution_count": 7,
   "id": "b51b83c0",
   "metadata": {},
   "outputs": [
    {
     "data": {
      "text/plain": [
       "21.75"
      ]
     },
     "execution_count": 7,
     "metadata": {},
     "output_type": "execute_result"
    }
   ],
   "source": [
    "5 * (12.7 - 4) / 2"
   ]
  },
  {
   "cell_type": "markdown",
   "id": "2b0377c7",
   "metadata": {},
   "source": [
    "**POJAŠNJENJE**<br>\n",
    "Python slijedi pravila kao u matematici pa će zagrade imati prednost. Nakon toga će se rezultat u zagradama pomnožiti s 5, zatim će se rezultat toga podijeliti s 2. Dodatne informacije imate na: https://docs.python.org/3/reference/expressions.html#operator-precedence."
   ]
  },
  {
   "cell_type": "markdown",
   "id": "eee761ce",
   "metadata": {},
   "source": [
    "### Varijable"
   ]
  },
  {
   "cell_type": "markdown",
   "id": "8471c47e",
   "metadata": {},
   "source": [
    "U Pythonu nismo prisiljeni definirati tip varijable pa zbog toga svaka varijabla može biti bilo kojeg tipa. Ipak, u Pythonu možemo provjeriti koji je tip varijable, odnosno koji je tip podatka pohranjen u njoj pomoću ugrađene funkcije *type()*."
   ]
  },
  {
   "cell_type": "code",
   "execution_count": 8,
   "id": "631fb64f",
   "metadata": {},
   "outputs": [
    {
     "name": "stdout",
     "output_type": "stream",
     "text": [
      "varijabla = 5\t <class 'int'>\n",
      "varijabla = 'Tekstualni tip'\t <class 'str'>\n"
     ]
    }
   ],
   "source": [
    "varijabla = 5\n",
    "print('varijabla = 5\\t', type(varijabla))\n",
    "\n",
    "varijabla = 'Tekstualni tip'\n",
    "print(\"varijabla = 'Tekstualni tip'\\t\", type(varijabla))"
   ]
  },
  {
   "cell_type": "code",
   "execution_count": 9,
   "id": "76c7c189",
   "metadata": {},
   "outputs": [
    {
     "ename": "TypeError",
     "evalue": "can only concatenate str (not \"int\") to str",
     "output_type": "error",
     "traceback": [
      "\u001b[0;31m---------------------------------------------------------------------------\u001b[0m",
      "\u001b[0;31mTypeError\u001b[0m                                 Traceback (most recent call last)",
      "Cell \u001b[0;32mIn[9], line 1\u001b[0m\n\u001b[0;32m----> 1\u001b[0m varijabla \u001b[38;5;241m+\u001b[39m\u001b[38;5;241m=\u001b[39m \u001b[38;5;241m5\u001b[39m\n",
      "\u001b[0;31mTypeError\u001b[0m: can only concatenate str (not \"int\") to str"
     ]
    }
   ],
   "source": [
    "varijabla += 5"
   ]
  },
  {
   "cell_type": "markdown",
   "id": "657d1fd1",
   "metadata": {},
   "source": [
    "Također je važno znati kako neke varijable, zbog tipa podatka koji je pohranjen u njima, ne možemo obrađivati kao neke druge (iz primjera, ne možemo zbrajati tekstualne i brojčane vrijednosti). Osim toga, tekstualne varijable su nepromjenjive pa za manipulaciju s njima, prilikom manipulacije trebamo kreirati kopiju.\n",
    "\n",
    "Gornji izraz možemo pisati i duže:<br>\n",
    "*varijabla = varijabla + 5.*\n",
    "\n",
    "**Važno je znati da Python kreira reference na varijable.**"
   ]
  },
  {
   "cell_type": "code",
   "execution_count": 10,
   "id": "b11862d6",
   "metadata": {},
   "outputs": [],
   "source": [
    "a = [1, 2, 3]\n",
    "b = a"
   ]
  },
  {
   "cell_type": "code",
   "execution_count": 11,
   "id": "7b0dc912",
   "metadata": {},
   "outputs": [],
   "source": [
    "a.append(4) # Dodali smo u listu naziva a, broj 4"
   ]
  },
  {
   "cell_type": "code",
   "execution_count": 12,
   "id": "3b88ab93",
   "metadata": {},
   "outputs": [
    {
     "name": "stdout",
     "output_type": "stream",
     "text": [
      "[1, 2, 3, 4]\n"
     ]
    }
   ],
   "source": [
    "print(b) # Trebalo bi biti [1, 2, 3] ALI TO NIJE TOČNO"
   ]
  },
  {
   "cell_type": "code",
   "execution_count": 13,
   "id": "4d848c38",
   "metadata": {},
   "outputs": [
    {
     "name": "stdout",
     "output_type": "stream",
     "text": [
      "Lista a: [1, 2, 3, 4, 5]\n",
      "Lista b: [1, 2, 3, 4]\n"
     ]
    }
   ],
   "source": [
    "# Probajmo koristiti \"slice\"\n",
    "b = a[::]\n",
    "a.append(5)\n",
    "print(f'Lista a: {a}')\n",
    "print(f'Lista b: {b}')"
   ]
  },
  {
   "cell_type": "markdown",
   "id": "54c3b9aa",
   "metadata": {},
   "source": [
    "*Slice* **kreira** novu listu koju smo pohranili u **zasebnu** varijablu \"b\". Sada promjene na jednoj varijabli **neće** biti propagirane na drugu jer više nisu reference na istu memorijsku lokaciju."
   ]
  },
  {
   "cell_type": "markdown",
   "id": "59af706d",
   "metadata": {},
   "source": [
    "Druga opcija je da napravimo kopiju s b = a.copy()"
   ]
  },
  {
   "cell_type": "markdown",
   "id": "7c111b3c",
   "metadata": {},
   "source": [
    "### *Print()* funkcija\n",
    "\n",
    "Funkcija koja služi za ispis podataka u konzolu. Funkcija kao argument prima jednu ili više tekstualnih varijabli.\n",
    "\n",
    "Najčešće korišteni dodatni argumenti:<br>\n",
    "- *sep=' '* - argument koji definira separator između tekstualnih varijabli, predefinirana vrijednost je *razmak*\n",
    "- *end='\\n'* - argument koji definira koji znak dolazi na kraju izvršavanja funkcije *print()*, predefinirana vrijednost je *novi red*.\n",
    "\n",
    "Formatiranje prikaza sadržaja *print()* funkcije radimo pomoću *.format()* metode ili kraćom sintaksom *f'tekst* koju ispisujemo zajedno s *{varijablama}.'*, a dostupne su nad tekstualnim tipom podataka."
   ]
  },
  {
   "cell_type": "code",
   "execution_count": 14,
   "id": "e2868af8",
   "metadata": {},
   "outputs": [
    {
     "name": "stdout",
     "output_type": "stream",
     "text": [
      "Pozdrav iz \"print()\" funkcije\n",
      "Pozdrav iz print() funkcije\n",
      "Pozdrav iz\n",
      "\"print()\" \tfunkcije\n",
      "Pozdrav iz \"print()\" funkcije\n"
     ]
    }
   ],
   "source": [
    "print('Pozdrav iz \"print()\" funkcije') # uporaba navodnika\n",
    "\n",
    "print('Pozdrav', 'iz', \"print()\", 'funkcije',) # ispis liste tekstualnih varijabli\n",
    "\n",
    "print('Pozdrav iz\\n\"print()\" \\tfunkcije') # specijalni znakovi za prelazak novi red ili dodavanje uvlake (TAB)\n",
    "\n",
    "print('Pozdrav iz \"print()\" \\\n",
    "funkcije') # \"prijelom\" sadržaja linije u novi red pomoću \\ znaka. Koristi se ako je linija dugačka."
   ]
  },
  {
   "cell_type": "code",
   "execution_count": 15,
   "id": "e351b9ff",
   "metadata": {},
   "outputs": [
    {
     "name": "stdout",
     "output_type": "stream",
     "text": [
      "Lorem ipsum dolor sit amet, consectetur adipiscing elit, sed do eiusmod tempor incididunt ut labore et dolore magna aliqua. Ut enim ad minim veniam, quis nostrud exercitation ullamco laboris nisi ut aliquip ex ea commodo consequat. Duis aute irure dolor in reprehenderit in voluptate velit esse cillum dolore eu fugiat nulla pariatur.\n",
      "\n",
      "\n",
      "Lorem ipsum dolor sit amet, consectetur adipiscing elit, \n",
      "sed do eiusmod tempor incididunt ut labore et dolore magna aliqua. \n",
      "Ut enim ad minim veniam, quis nostrud exercitation ullamco laboris nisi ut aliquip ex ea commodo consequat. \n",
      "Duis aute irure dolor in reprehenderit in voluptate velit esse cillum dolore eu fugiat nulla pariatur.\n"
     ]
    }
   ],
   "source": [
    "print('Lorem ipsum dolor sit amet, consectetur adipiscing elit, \\\n",
    "sed do eiusmod tempor incididunt ut labore et dolore magna aliqua. \\\n",
    "Ut enim ad minim veniam, quis nostrud exercitation ullamco laboris nisi ut aliquip ex ea commodo consequat. \\\n",
    "Duis aute irure dolor in reprehenderit in voluptate velit esse cillum dolore eu fugiat nulla pariatur.\\n\\n')\n",
    "\n",
    "# ILI pomoću trostrukih navodnika\n",
    "\n",
    "print('''Lorem ipsum dolor sit amet, consectetur adipiscing elit, \n",
    "sed do eiusmod tempor incididunt ut labore et dolore magna aliqua. \n",
    "Ut enim ad minim veniam, quis nostrud exercitation ullamco laboris nisi ut aliquip ex ea commodo consequat. \n",
    "Duis aute irure dolor in reprehenderit in voluptate velit esse cillum dolore eu fugiat nulla pariatur.''')"
   ]
  },
  {
   "cell_type": "markdown",
   "id": "c50e8cf7",
   "metadata": {},
   "source": [
    "**NAPOMENA:** trostruki navodnici \"čuvaju\" podatak o novom redu pa se zbog toga razlikuju ispisi gornjih dvaju dugih tekstova."
   ]
  },
  {
   "cell_type": "markdown",
   "id": "60af83e4",
   "metadata": {},
   "source": [
    "### *Input()* funkcija\n",
    "\n",
    "Funkcija *input()* služi za unos podataka s konzole, odnosno s tastature u aplikaciju. Važno je naglasiti da je podatak koji se unese pomoću funkcije *input()* UVIJEK tekstualnog tipa, odnosno *string*."
   ]
  },
  {
   "cell_type": "code",
   "execution_count": 16,
   "id": "bde2cdd8",
   "metadata": {},
   "outputs": [
    {
     "name": "stdout",
     "output_type": "stream",
     "text": [
      "Upisite vrijednost varijable 1\t\n",
      "Upisite vrijednost varijable 2\t\n",
      "Upisite vrijednost varijable 3\t4\n",
      "\n"
     ]
    },
    {
     "ename": "TypeError",
     "evalue": "unsupported operand type(s) for -: 'str' and 'str'",
     "output_type": "error",
     "traceback": [
      "\u001b[0;31m---------------------------------------------------------------------------\u001b[0m",
      "\u001b[0;31mTypeError\u001b[0m                                 Traceback (most recent call last)",
      "Cell \u001b[0;32mIn[16], line 6\u001b[0m\n\u001b[1;32m      3\u001b[0m varijabla_3 \u001b[38;5;241m=\u001b[39m \u001b[38;5;28minput\u001b[39m(\u001b[38;5;124m'\u001b[39m\u001b[38;5;124mUpisite vrijednost varijable 3\u001b[39m\u001b[38;5;130;01m\\t\u001b[39;00m\u001b[38;5;124m'\u001b[39m)\n\u001b[1;32m      5\u001b[0m \u001b[38;5;28mprint\u001b[39m(varijabla_1)\n\u001b[0;32m----> 6\u001b[0m \u001b[38;5;28mprint\u001b[39m(\u001b[43mvarijabla_2\u001b[49m\u001b[43m \u001b[49m\u001b[38;5;241;43m-\u001b[39;49m\u001b[43m \u001b[49m\u001b[43mvarijabla_3\u001b[49m) \u001b[38;5;66;03m# PROBLEM!!!\u001b[39;00m\n",
      "\u001b[0;31mTypeError\u001b[0m: unsupported operand type(s) for -: 'str' and 'str'"
     ]
    }
   ],
   "source": [
    "varijabla_1 = input('Upisite vrijednost varijable 1\\t')\n",
    "varijabla_2 = input('Upisite vrijednost varijable 2\\t')\n",
    "varijabla_3 = input('Upisite vrijednost varijable 3\\t')\n",
    "\n",
    "print(varijabla_1)\n",
    "print(varijabla_2 - varijabla_3) # PROBLEM!!!"
   ]
  },
  {
   "cell_type": "markdown",
   "id": "52c4ac12",
   "metadata": {},
   "source": [
    "Upravo zbog činjenice da *input()* funkcija UVIJEK vrati podatke tipa *string*, kreirane su funkcije za konverziju podataka između različitih tipova.\n",
    "\n",
    "Funkcije za konverziju tipova podataka:\n",
    "\n",
    "- *int()* - pretvara tip podatka u dekadski broj\n",
    "- *float()* - pretvara cijeli broj u decimalni broj\n",
    "- *ord()* - pretvara znak u ASCII broj\n",
    "- *chr()* - pretvara ASCII broj u znak\n",
    "- *hex()* - pretvara broj u heksadekadski broj\n",
    "- *oct()* - pretvara dekadski broj u oktalni broj\n",
    "- *str()* - pretvara bilo koji tip u tekstualni tip podatka\n",
    "- *tuple()* - pretvara dobiveni podatak u nterac (tuple)\n",
    "- *set()* - pretvara dobiveni podatak u set (listu koja IMA JEDINSTVENE članove - nema duplikata)\n",
    "- *list()* - pretvara dobiveni podatak u listu\n",
    "- *dict()* - pretvara dobiveni podatak u rječnik.\n",
    "\n",
    "**VJEŽBA**<br>\n",
    "**Dio 1.**<br>\n",
    "\n",
    "**Napravite zaseban primjer za svaku od navedenih funkcija za konverziju. To znači da za svaku konverziju treba kreirati novi podatak.**\n",
    "\n",
    "**Dio 2.**<br>\n",
    "**Osmislite smislen primjer aplikacije u kojoj ćete iskoristiti sve gore navedene funkcije za konverziju. Pomoć: IP adrese računala su u dekadskom obliku, a novije i u heksadekadskom obliku, ali je Subnet maska mreže definirana u binarnom. Može biti više IP adresa.**"
   ]
  },
  {
   "cell_type": "markdown",
   "id": "e1e2c3b6",
   "metadata": {},
   "source": [
    "### Kolekcije podataka - List, Dict, Tuple, Set\n",
    "\n",
    "Najčešće korišteni tipovi podataka za ugrađene kolekcije podataka u Pythonu su:<br>\n",
    "- *List* - sortirana, neograničena kolekcija podataka\n",
    "- *Dictionary* - kolekcija podataka koju čine ključ i podaci pohranjeni pod tim ključem\n",
    "- *Tuple* - kolekcija podataka slična List kolekciji, ALI nije moguće dodavati ili brisati članove\n",
    "- *Set* - kolekcija podataka slična List kolekciji u kojoj su svi podaci jedinstveni - nema duplih vrijednosti.\n",
    "\n",
    "#### List\n",
    "\n",
    "List je varijabilna, sortirana, promjenjiva kolekcija podataka."
   ]
  },
  {
   "cell_type": "code",
   "execution_count": 17,
   "id": "66f4f4bf",
   "metadata": {},
   "outputs": [],
   "source": [
    "dnevne_temperature = [15.1, 15.2, 15.6, 16.1, 16.8, 17.3, 17.3, 17.9, 18.3, 19.1, 20.3, 20.5, 20.8, \n",
    "                      21.2, 21.8, 22.3, 23.1, 24.5, 25.6, 25.9, 26.3, 26.8, 27.1, 27.3, 27.5, 27.8, \n",
    "                      27.2, 26.8, 26.3, 26.1, 25.5, 24.6, 23.9, 23.3, 22.8, 22.1, 21.3, 20.5, 19.8,\n",
    "                      19.5, 19.1, 18.6, 18.1, 17.6, 16.8, 16.3, 15.9, 15.4, 15.2, 14.9, 14.6, 14.1]"
   ]
  },
  {
   "cell_type": "markdown",
   "id": "d381282d",
   "metadata": {},
   "source": [
    "Dekompozicija liste (kolekcije podataka) ili pridruživanje vrijednosti elemenata liste varijablama."
   ]
  },
  {
   "cell_type": "code",
   "execution_count": 18,
   "id": "675cce89",
   "metadata": {},
   "outputs": [
    {
     "name": "stdout",
     "output_type": "stream",
     "text": [
      "Ime:\t\tJosip\n",
      "Prezime:\tJelačić\n"
     ]
    }
   ],
   "source": [
    "lista = ['Josip', 'Jelačić']\n",
    "ime, prezime = lista\n",
    "\n",
    "print(f'Ime:\\t\\t{ime}')\n",
    "print(f'Prezime:\\t{prezime}')"
   ]
  },
  {
   "cell_type": "code",
   "execution_count": 19,
   "id": "794d1e91",
   "metadata": {},
   "outputs": [
    {
     "data": {
      "text/plain": [
       "range(0, 10)"
      ]
     },
     "execution_count": 19,
     "metadata": {},
     "output_type": "execute_result"
    }
   ],
   "source": [
    "brojevi = range(10)\n",
    "brojevi"
   ]
  },
  {
   "cell_type": "code",
   "execution_count": 20,
   "id": "473151d0",
   "metadata": {},
   "outputs": [
    {
     "data": {
      "text/plain": [
       "[0, 1, 2, 3, 4, 5, 6, 7, 8, 9]"
      ]
     },
     "execution_count": 20,
     "metadata": {},
     "output_type": "execute_result"
    }
   ],
   "source": [
    "brojevi = list(brojevi)\n",
    "brojevi # Sada je lista brojeva od 0 do 10"
   ]
  },
  {
   "cell_type": "markdown",
   "id": "53cac694",
   "metadata": {},
   "source": [
    "**Dodavanje i brisanje elemenata liste**\n",
    "\n",
    "- *append()* - dodaje element na kraj liste\n",
    "- *insert(index, element)* - umeće element na poziciju navedenog indeksa\n",
    "- *extend (lista)* - kao *append()* samo dodaje više elemenata odjednom"
   ]
  },
  {
   "cell_type": "code",
   "execution_count": 21,
   "id": "064dd33b",
   "metadata": {},
   "outputs": [
    {
     "data": {
      "text/plain": [
       "[0, 1, 2, 3, 4, 5, 6, 7, 8, 9, 12]"
      ]
     },
     "execution_count": 21,
     "metadata": {},
     "output_type": "execute_result"
    }
   ],
   "source": [
    "brojevi.append(12)\n",
    "brojevi"
   ]
  },
  {
   "cell_type": "code",
   "execution_count": 22,
   "id": "67581876",
   "metadata": {},
   "outputs": [
    {
     "data": {
      "text/plain": [
       "[0, 1, 2, 3, 'Novi element', 4, 5, 6, 7, 8, 9, 12]"
      ]
     },
     "execution_count": 22,
     "metadata": {},
     "output_type": "execute_result"
    }
   ],
   "source": [
    "brojevi.insert(4, 'Novi element')\n",
    "brojevi"
   ]
  },
  {
   "cell_type": "code",
   "execution_count": 23,
   "id": "cdf858fb",
   "metadata": {},
   "outputs": [
    {
     "data": {
      "text/plain": [
       "[0, 1, 2, 3, 'Novi element', 4, 5, 6, 7, 8, 9, 12, 50, 51, 52, 53, 54]"
      ]
     },
     "execution_count": 23,
     "metadata": {},
     "output_type": "execute_result"
    }
   ],
   "source": [
    "b2 = list(range(50,55))\n",
    "brojevi.extend(b2)\n",
    "brojevi"
   ]
  },
  {
   "cell_type": "markdown",
   "id": "c33bd9d4",
   "metadata": {},
   "source": [
    "- *remove()* - prvo pronađe element pa ga ukloni iz liste\n",
    "- *pop(index)* - obrnuto od *insert()*, uklanja element s pozicije navedenog indeksa"
   ]
  },
  {
   "cell_type": "code",
   "execution_count": 24,
   "id": "1fd33fe0",
   "metadata": {},
   "outputs": [
    {
     "data": {
      "text/plain": [
       "[0, 1, 2, 3, 'Novi element', 4, 5, 6, 7, 8, 9, 50, 51, 52, 53, 54]"
      ]
     },
     "execution_count": 24,
     "metadata": {},
     "output_type": "execute_result"
    }
   ],
   "source": [
    "brojevi.remove(12)\n",
    "brojevi"
   ]
  },
  {
   "cell_type": "code",
   "execution_count": 25,
   "id": "6481d778",
   "metadata": {},
   "outputs": [
    {
     "data": {
      "text/plain": [
       "[0, 1, 2, 3, 4, 5, 6, 7, 8, 9, 50, 51, 52, 53, 54]"
      ]
     },
     "execution_count": 25,
     "metadata": {},
     "output_type": "execute_result"
    }
   ],
   "source": [
    "brojevi.pop(4)\n",
    "brojevi"
   ]
  },
  {
   "cell_type": "markdown",
   "id": "a5aadbf8",
   "metadata": {},
   "source": [
    "Provjera postoji li neka vrijednost u listi:"
   ]
  },
  {
   "cell_type": "code",
   "execution_count": 26,
   "id": "4c4ac0f2",
   "metadata": {},
   "outputs": [
    {
     "data": {
      "text/plain": [
       "True"
      ]
     },
     "execution_count": 26,
     "metadata": {},
     "output_type": "execute_result"
    }
   ],
   "source": [
    "5 in brojevi"
   ]
  },
  {
   "cell_type": "markdown",
   "id": "14849836",
   "metadata": {},
   "source": [
    "*Slice* liste [START:END:STEP]"
   ]
  },
  {
   "cell_type": "code",
   "execution_count": 27,
   "id": "1c542b07",
   "metadata": {},
   "outputs": [
    {
     "data": {
      "text/plain": [
       "[54, 53, 52, 51, 50]"
      ]
     },
     "execution_count": 27,
     "metadata": {},
     "output_type": "execute_result"
    }
   ],
   "source": [
    "brojevi_b2 = brojevi[:-6:-1]\n",
    "brojevi_b2"
   ]
  },
  {
   "cell_type": "markdown",
   "id": "3ea7730d",
   "metadata": {},
   "source": [
    "**Sortiranje**\n",
    "\n",
    "*.sorted(lista)* - privremeno promijeni redoslijed elemenata:"
   ]
  },
  {
   "cell_type": "code",
   "execution_count": 28,
   "id": "711394a6",
   "metadata": {
    "scrolled": true
   },
   "outputs": [
    {
     "data": {
      "text/plain": [
       "[14.1,\n",
       " 14.6,\n",
       " 14.9,\n",
       " 15.1,\n",
       " 15.2,\n",
       " 15.2,\n",
       " 15.4,\n",
       " 15.6,\n",
       " 15.9,\n",
       " 16.1,\n",
       " 16.3,\n",
       " 16.8,\n",
       " 16.8,\n",
       " 17.3,\n",
       " 17.3,\n",
       " 17.6,\n",
       " 17.9,\n",
       " 18.1,\n",
       " 18.3,\n",
       " 18.6,\n",
       " 19.1,\n",
       " 19.1,\n",
       " 19.5,\n",
       " 19.8,\n",
       " 20.3,\n",
       " 20.5,\n",
       " 20.5,\n",
       " 20.8,\n",
       " 21.2,\n",
       " 21.3,\n",
       " 21.8,\n",
       " 22.1,\n",
       " 22.3,\n",
       " 22.8,\n",
       " 23.1,\n",
       " 23.3,\n",
       " 23.9,\n",
       " 24.5,\n",
       " 24.6,\n",
       " 25.5,\n",
       " 25.6,\n",
       " 25.9,\n",
       " 26.1,\n",
       " 26.3,\n",
       " 26.3,\n",
       " 26.8,\n",
       " 26.8,\n",
       " 27.1,\n",
       " 27.2,\n",
       " 27.3,\n",
       " 27.5,\n",
       " 27.8]"
      ]
     },
     "execution_count": 28,
     "metadata": {},
     "output_type": "execute_result"
    }
   ],
   "source": [
    "sorted(dnevne_temperature)"
   ]
  },
  {
   "cell_type": "code",
   "execution_count": 29,
   "id": "6768fa41",
   "metadata": {
    "scrolled": true
   },
   "outputs": [
    {
     "data": {
      "text/plain": [
       "[15.1,\n",
       " 15.2,\n",
       " 15.6,\n",
       " 16.1,\n",
       " 16.8,\n",
       " 17.3,\n",
       " 17.3,\n",
       " 17.9,\n",
       " 18.3,\n",
       " 19.1,\n",
       " 20.3,\n",
       " 20.5,\n",
       " 20.8,\n",
       " 21.2,\n",
       " 21.8,\n",
       " 22.3,\n",
       " 23.1,\n",
       " 24.5,\n",
       " 25.6,\n",
       " 25.9,\n",
       " 26.3,\n",
       " 26.8,\n",
       " 27.1,\n",
       " 27.3,\n",
       " 27.5,\n",
       " 27.8,\n",
       " 27.2,\n",
       " 26.8,\n",
       " 26.3,\n",
       " 26.1,\n",
       " 25.5,\n",
       " 24.6,\n",
       " 23.9,\n",
       " 23.3,\n",
       " 22.8,\n",
       " 22.1,\n",
       " 21.3,\n",
       " 20.5,\n",
       " 19.8,\n",
       " 19.5,\n",
       " 19.1,\n",
       " 18.6,\n",
       " 18.1,\n",
       " 17.6,\n",
       " 16.8,\n",
       " 16.3,\n",
       " 15.9,\n",
       " 15.4,\n",
       " 15.2,\n",
       " 14.9,\n",
       " 14.6,\n",
       " 14.1]"
      ]
     },
     "execution_count": 29,
     "metadata": {},
     "output_type": "execute_result"
    }
   ],
   "source": [
    "dnevne_temperature"
   ]
  },
  {
   "cell_type": "markdown",
   "id": "90e9f834",
   "metadata": {},
   "source": [
    "*.sort()* trajno promijeni redoslijed elemenata:"
   ]
  },
  {
   "cell_type": "code",
   "execution_count": 30,
   "id": "6f877f9b",
   "metadata": {
    "scrolled": true
   },
   "outputs": [
    {
     "data": {
      "text/plain": [
       "[14.1,\n",
       " 14.6,\n",
       " 14.9,\n",
       " 15.1,\n",
       " 15.2,\n",
       " 15.2,\n",
       " 15.4,\n",
       " 15.6,\n",
       " 15.9,\n",
       " 16.1,\n",
       " 16.3,\n",
       " 16.8,\n",
       " 16.8,\n",
       " 17.3,\n",
       " 17.3,\n",
       " 17.6,\n",
       " 17.9,\n",
       " 18.1,\n",
       " 18.3,\n",
       " 18.6,\n",
       " 19.1,\n",
       " 19.1,\n",
       " 19.5,\n",
       " 19.8,\n",
       " 20.3,\n",
       " 20.5,\n",
       " 20.5,\n",
       " 20.8,\n",
       " 21.2,\n",
       " 21.3,\n",
       " 21.8,\n",
       " 22.1,\n",
       " 22.3,\n",
       " 22.8,\n",
       " 23.1,\n",
       " 23.3,\n",
       " 23.9,\n",
       " 24.5,\n",
       " 24.6,\n",
       " 25.5,\n",
       " 25.6,\n",
       " 25.9,\n",
       " 26.1,\n",
       " 26.3,\n",
       " 26.3,\n",
       " 26.8,\n",
       " 26.8,\n",
       " 27.1,\n",
       " 27.2,\n",
       " 27.3,\n",
       " 27.5,\n",
       " 27.8]"
      ]
     },
     "execution_count": 30,
     "metadata": {},
     "output_type": "execute_result"
    }
   ],
   "source": [
    "dnevne_temperature.sort()\n",
    "dnevne_temperature"
   ]
  },
  {
   "cell_type": "markdown",
   "id": "1c78134a",
   "metadata": {},
   "source": [
    "*reversed()* metoda obrnuta je od *sorted()*.\n",
    "\n",
    "**NAPOMENA: *reserved()* generira novu listu tako da ju je potrebno pohraniti u varijablu ili samo objekt pretvoriti metodom u listu.**"
   ]
  },
  {
   "cell_type": "code",
   "execution_count": 31,
   "id": "9bea7c7b",
   "metadata": {},
   "outputs": [
    {
     "data": {
      "text/plain": [
       "<list_reverseiterator at 0x7fafc04a7820>"
      ]
     },
     "execution_count": 31,
     "metadata": {},
     "output_type": "execute_result"
    }
   ],
   "source": [
    "reversed(dnevne_temperature)"
   ]
  },
  {
   "cell_type": "code",
   "execution_count": 32,
   "id": "3b5af9d7",
   "metadata": {
    "scrolled": true
   },
   "outputs": [
    {
     "data": {
      "text/plain": [
       "[27.8,\n",
       " 27.5,\n",
       " 27.3,\n",
       " 27.2,\n",
       " 27.1,\n",
       " 26.8,\n",
       " 26.8,\n",
       " 26.3,\n",
       " 26.3,\n",
       " 26.1,\n",
       " 25.9,\n",
       " 25.6,\n",
       " 25.5,\n",
       " 24.6,\n",
       " 24.5,\n",
       " 23.9,\n",
       " 23.3,\n",
       " 23.1,\n",
       " 22.8,\n",
       " 22.3,\n",
       " 22.1,\n",
       " 21.8,\n",
       " 21.3,\n",
       " 21.2,\n",
       " 20.8,\n",
       " 20.5,\n",
       " 20.5,\n",
       " 20.3,\n",
       " 19.8,\n",
       " 19.5,\n",
       " 19.1,\n",
       " 19.1,\n",
       " 18.6,\n",
       " 18.3,\n",
       " 18.1,\n",
       " 17.9,\n",
       " 17.6,\n",
       " 17.3,\n",
       " 17.3,\n",
       " 16.8,\n",
       " 16.8,\n",
       " 16.3,\n",
       " 16.1,\n",
       " 15.9,\n",
       " 15.6,\n",
       " 15.4,\n",
       " 15.2,\n",
       " 15.2,\n",
       " 15.1,\n",
       " 14.9,\n",
       " 14.6,\n",
       " 14.1]"
      ]
     },
     "execution_count": 32,
     "metadata": {},
     "output_type": "execute_result"
    }
   ],
   "source": [
    "list(reversed(dnevne_temperature))"
   ]
  },
  {
   "cell_type": "code",
   "execution_count": 33,
   "id": "13c21c63",
   "metadata": {},
   "outputs": [
    {
     "name": "stdout",
     "output_type": "stream",
     "text": [
      "14.1\n",
      "14.6\n",
      "14.9\n",
      "15.1\n",
      "15.2\n",
      "15.2\n",
      "15.4\n",
      "15.6\n",
      "15.9\n",
      "16.1\n",
      "16.3\n",
      "16.8\n",
      "16.8\n",
      "17.3\n",
      "17.3\n",
      "17.6\n",
      "17.9\n",
      "18.1\n",
      "18.3\n",
      "18.6\n",
      "19.1\n",
      "19.1\n",
      "19.5\n",
      "19.8\n",
      "20.3\n",
      "20.5\n",
      "20.5\n",
      "20.8\n",
      "21.2\n",
      "21.3\n",
      "21.8\n",
      "22.1\n",
      "22.3\n",
      "22.8\n",
      "23.1\n",
      "23.3\n",
      "23.9\n",
      "24.5\n",
      "24.6\n",
      "25.5\n",
      "25.6\n",
      "25.9\n",
      "26.1\n",
      "26.3\n",
      "26.3\n",
      "26.8\n",
      "26.8\n",
      "27.1\n",
      "27.2\n",
      "27.3\n",
      "27.5\n",
      "27.8\n"
     ]
    }
   ],
   "source": [
    "for i, temp in enumerate(dnevne_temperature):\n",
    "    print(dnevne_temperature[i])"
   ]
  },
  {
   "cell_type": "markdown",
   "id": "659286d3",
   "metadata": {},
   "source": [
    "**List comprehension**\n",
    "\n",
    "newlist = [expression for item in iterable if condition == True]"
   ]
  },
  {
   "cell_type": "code",
   "execution_count": 34,
   "id": "fcf9e6ff",
   "metadata": {},
   "outputs": [
    {
     "name": "stdout",
     "output_type": "stream",
     "text": [
      "[1, 2, 3, 4, 5, 6, 7, 8, 9, 10]\n"
     ]
    }
   ],
   "source": [
    "lista1 = [1, 2, 3, 4, 5, 6, 7, 8, 9, 10]\n",
    "lista2 = []\n",
    "for broj in lista1:\n",
    "    lista2.append(broj)\n",
    "print(lista2)"
   ]
  },
  {
   "cell_type": "code",
   "execution_count": 35,
   "id": "b5e23ea7",
   "metadata": {},
   "outputs": [
    {
     "data": {
      "text/plain": [
       "[1, 2, 3, 4, 5, 6, 7, 8, 9, 10]"
      ]
     },
     "execution_count": 35,
     "metadata": {},
     "output_type": "execute_result"
    }
   ],
   "source": [
    "lista2 = [broj for broj in lista1]\n",
    "lista2"
   ]
  },
  {
   "cell_type": "code",
   "execution_count": 36,
   "id": "82a3f278",
   "metadata": {},
   "outputs": [
    {
     "data": {
      "text/plain": [
       "[4, 5, 6, 7, 8, 9, 10]"
      ]
     },
     "execution_count": 36,
     "metadata": {},
     "output_type": "execute_result"
    }
   ],
   "source": [
    "[broj for broj in lista1 if broj > 3]"
   ]
  },
  {
   "cell_type": "code",
   "execution_count": 37,
   "id": "ee2d25f9",
   "metadata": {},
   "outputs": [
    {
     "data": {
      "text/plain": [
       "[25.6, 25.9, 26.1, 26.3, 26.3, 26.8, 26.8, 27.1, 27.2, 27.3, 27.5, 27.8]"
      ]
     },
     "execution_count": 37,
     "metadata": {},
     "output_type": "execute_result"
    }
   ],
   "source": [
    "sorted([temp for temp in dnevne_temperature if temp > 25.5])"
   ]
  },
  {
   "cell_type": "markdown",
   "id": "e1edb23d",
   "metadata": {},
   "source": [
    "#### *Dict* ili *Dictionary* ili rječnik\n",
    "\n",
    "Kolekcija podataka specifična po tome što umjesto indeksa koristi par ključ/vrijednost. Pod ključem čuva jednu ili više vrijednosti."
   ]
  },
  {
   "cell_type": "code",
   "execution_count": 38,
   "id": "7f0630ad",
   "metadata": {},
   "outputs": [
    {
     "data": {
      "text/plain": [
       "{1: ['Senzor pokreta', 'Aktivan', 'Ulazna vrata'],\n",
       " 2: ['Senzor pokreta', 'Aktivan', 'Vrata na terasi'],\n",
       " 3: ['Senzor pokreta', 'Aktivan', 'Ulaz u dvoriste'],\n",
       " 4: ['Senzor plinova', 'Aktivan', 'Ulaz u garazu']}"
      ]
     },
     "execution_count": 38,
     "metadata": {},
     "output_type": "execute_result"
    }
   ],
   "source": [
    "senzori = {1 : ['Senzor pokreta', 'Aktivan', 'Ulazna vrata'],\n",
    "           2 : ['Senzor pokreta', 'Aktivan', 'Vrata na terasi'],\n",
    "           3 : ['Senzor pokreta', 'Aktivan', 'Ulaz u dvoriste'],\n",
    "           4 : ['Senzor plinova', 'Aktivan', 'Ulaz u garazu']\n",
    "          }\n",
    "\n",
    "senzori"
   ]
  },
  {
   "cell_type": "markdown",
   "id": "1471189a",
   "metadata": {},
   "source": [
    "Većina metoda koja vrijedi za liste, vrijedi i za rječnik.\n",
    "\n",
    "Neke su ipak specifične:\n",
    "- *keys() - tuple* s kolekcijom svih ključeva\n",
    "- *values() - tuple* s kolekcijom svih vrijednosti\n",
    "- *items() - tuple* s kolekcijom svih ključeva i vrijednosti."
   ]
  },
  {
   "cell_type": "code",
   "execution_count": 39,
   "id": "869bcd0b",
   "metadata": {},
   "outputs": [
    {
     "data": {
      "text/plain": [
       "dict_keys([1, 2, 3, 4])"
      ]
     },
     "execution_count": 39,
     "metadata": {},
     "output_type": "execute_result"
    }
   ],
   "source": [
    "senzori.keys()"
   ]
  },
  {
   "cell_type": "code",
   "execution_count": 40,
   "id": "cf18777b",
   "metadata": {},
   "outputs": [
    {
     "data": {
      "text/plain": [
       "dict_values([['Senzor pokreta', 'Aktivan', 'Ulazna vrata'], ['Senzor pokreta', 'Aktivan', 'Vrata na terasi'], ['Senzor pokreta', 'Aktivan', 'Ulaz u dvoriste'], ['Senzor plinova', 'Aktivan', 'Ulaz u garazu']])"
      ]
     },
     "execution_count": 40,
     "metadata": {},
     "output_type": "execute_result"
    }
   ],
   "source": [
    "senzori.values()"
   ]
  },
  {
   "cell_type": "code",
   "execution_count": 41,
   "id": "48105fb3",
   "metadata": {},
   "outputs": [
    {
     "data": {
      "text/plain": [
       "dict_items([(1, ['Senzor pokreta', 'Aktivan', 'Ulazna vrata']), (2, ['Senzor pokreta', 'Aktivan', 'Vrata na terasi']), (3, ['Senzor pokreta', 'Aktivan', 'Ulaz u dvoriste']), (4, ['Senzor plinova', 'Aktivan', 'Ulaz u garazu'])])"
      ]
     },
     "execution_count": 41,
     "metadata": {},
     "output_type": "execute_result"
    }
   ],
   "source": [
    "senzori.items()"
   ]
  },
  {
   "cell_type": "markdown",
   "id": "38a07886",
   "metadata": {},
   "source": [
    "#### *Tuple*\n",
    "\n",
    "*Tuple* ili n-terac kolekcija je podataka fiksne dužine, dakle fiksnog broja elemenata. To znači kako *tuple* nije moguće mijenjati.\n",
    "\n",
    "Sve što smo koristili u vezi lista, možemo koristiti uz *tuple*, osim metoda koje dodaju, uklanjaju ili mijenjaju elemente. *Tuple* je jako koristan kod učitavanja podataka iz baze zato jer želimo imati kolekciju podataka kakvi se nalaze u bazi i želimo se osigurati da se to ne može promijeniti tijekom njihovog korištenja."
   ]
  },
  {
   "cell_type": "code",
   "execution_count": 42,
   "id": "db1e0ccd",
   "metadata": {},
   "outputs": [],
   "source": [
    "dnevne_temperature_zakljucano = (15.1, 15.2, 15.6, 16.1, 16.8, 17.3, 17.3, 17.9, 18.3, 19.1, 20.3, \n",
    "                                 20.5, 20.8, 21.2, 21.8, 22.3, 23.1, 24.5, 25.6, 25.9, 26.3, 26.8, \n",
    "                                 27.1, 27.3, 27.5, 27.8, 27.2, 26.8, 26.3, 26.1, 25.5, 24.6, 23.9, \n",
    "                                 23.3, 22.8, 22.1, 21.3, 20.5, 19.8, 19.5, 19.1, 18.6, 18.1, 17.6, \n",
    "                                 16.8, 16.3, 15.9, 15.4, 15.2, 14.9, 14.6, 14.1)"
   ]
  },
  {
   "cell_type": "code",
   "execution_count": 43,
   "id": "14f712e7",
   "metadata": {},
   "outputs": [
    {
     "name": "stdout",
     "output_type": "stream",
     "text": [
      "(15.1, 15.2, 15.6, 16.1, 16.8, 17.3, 17.3, 17.9, 18.3, 19.1)\n"
     ]
    }
   ],
   "source": [
    "dnevne_temperature_zakljucano_prvih_deset = dnevne_temperature_zakljucano[:10]\n",
    "print(dnevne_temperature_zakljucano_prvih_deset)"
   ]
  },
  {
   "cell_type": "markdown",
   "id": "3fccd99a",
   "metadata": {},
   "source": [
    "**PITANJE<br>\n",
    "Možemo li izvršiti kôd u sljedećoj ćeliji?**"
   ]
  },
  {
   "cell_type": "code",
   "execution_count": 44,
   "id": "434423ae",
   "metadata": {},
   "outputs": [],
   "source": [
    "nterac = ([1, 2, 3], 4)\n",
    "nterac[0].append(4)"
   ]
  },
  {
   "cell_type": "code",
   "execution_count": 45,
   "id": "6827d324",
   "metadata": {},
   "outputs": [
    {
     "data": {
      "text/plain": [
       "([1, 2, 3, 4], 4)"
      ]
     },
     "execution_count": 45,
     "metadata": {},
     "output_type": "execute_result"
    }
   ],
   "source": [
    "nterac"
   ]
  },
  {
   "cell_type": "markdown",
   "id": "74ad1009",
   "metadata": {},
   "source": [
    "**ODGOVOR<br>**\n",
    "**Nismo mijenjali *tuple*, nego listu koja je element *tuplea*. Dakle, *tuple* kao kolekcija elemenata NIJE promjenjiva, ali ako je neki element tuplea promjenjiv, kao lista na primjer, onda tu listu možemo mijenjati.**"
   ]
  },
  {
   "cell_type": "markdown",
   "id": "75cd1d46",
   "metadata": {},
   "source": [
    "#### *Set*\n",
    "\n",
    "*Set* je nesortirana kolekcija jedinstvenih podataka."
   ]
  },
  {
   "cell_type": "code",
   "execution_count": 46,
   "id": "e1ff0b59",
   "metadata": {},
   "outputs": [
    {
     "data": {
      "text/plain": [
       "[2, 2, 3, 1, 5, 4, 5, 6]"
      ]
     },
     "execution_count": 46,
     "metadata": {},
     "output_type": "execute_result"
    }
   ],
   "source": [
    "lista = [2, 2, 3, 1, 5, 4, 5, 6]\n",
    "lista"
   ]
  },
  {
   "cell_type": "code",
   "execution_count": 47,
   "id": "1585171a",
   "metadata": {},
   "outputs": [
    {
     "data": {
      "text/plain": [
       "{1, 2, 3, 4, 5, 6}"
      ]
     },
     "execution_count": 47,
     "metadata": {},
     "output_type": "execute_result"
    }
   ],
   "source": [
    "set(lista)"
   ]
  },
  {
   "cell_type": "markdown",
   "id": "a8cf0967",
   "metadata": {},
   "source": [
    "*set()* metoda \"preuzme\" samo jedinstvene vrijednosti. Ako se neka vrijednost ponavlja, jednostavno je izostavi."
   ]
  },
  {
   "cell_type": "markdown",
   "id": "83103f16",
   "metadata": {},
   "source": [
    "### *String*\n",
    "\n",
    "*String* kao tekstualni tip varijable smo već spomenuli tijekom opisa *print()* funkcije. Potrebno je još samo navesti kako je *string* u stvari kolekcija znakova koju NE možemo mijenjati i koju jednostavno možemo pretvoriti u neku listu."
   ]
  },
  {
   "cell_type": "code",
   "execution_count": 48,
   "id": "9759c9f8",
   "metadata": {
    "scrolled": true
   },
   "outputs": [
    {
     "data": {
      "text/plain": [
       "['L',\n",
       " 'i',\n",
       " 's',\n",
       " 't',\n",
       " 'a',\n",
       " ' ',\n",
       " 'd',\n",
       " 'n',\n",
       " 'e',\n",
       " 'v',\n",
       " 'n',\n",
       " 'i',\n",
       " 'h',\n",
       " ' ',\n",
       " 't',\n",
       " 'e',\n",
       " 'm',\n",
       " 'p',\n",
       " 'e',\n",
       " 'r',\n",
       " 'a',\n",
       " 't',\n",
       " 'u',\n",
       " 'r',\n",
       " 'a']"
      ]
     },
     "execution_count": 48,
     "metadata": {},
     "output_type": "execute_result"
    }
   ],
   "source": [
    "naslov = 'Lista dnevnih temperatura'\n",
    "list(naslov)"
   ]
  },
  {
   "cell_type": "markdown",
   "id": "0713d09e",
   "metadata": {},
   "source": [
    "Ili ako kolekciju znakova pretvorimo u *set*, onda ćemo iz rečenice dobiti kolekciju jedinstvenih znakova. Ponekad ćemo trebati i tu funkcionalnost pa ju je dobro znati."
   ]
  },
  {
   "cell_type": "code",
   "execution_count": 49,
   "id": "176b0db7",
   "metadata": {},
   "outputs": [
    {
     "data": {
      "text/plain": [
       "{' ', 'L', 'a', 'd', 'e', 'h', 'i', 'm', 'n', 'p', 'r', 's', 't', 'u', 'v'}"
      ]
     },
     "execution_count": 49,
     "metadata": {},
     "output_type": "execute_result"
    }
   ],
   "source": [
    "set(naslov)"
   ]
  },
  {
   "cell_type": "markdown",
   "id": "7cf0dece",
   "metadata": {},
   "source": [
    "Ako je *string* kolekcija znakova, onda bismo trebali moći koristiti *slice* naredbu."
   ]
  },
  {
   "cell_type": "code",
   "execution_count": 50,
   "id": "858a041a",
   "metadata": {},
   "outputs": [
    {
     "data": {
      "text/plain": [
       "'Lista dne'"
      ]
     },
     "execution_count": 50,
     "metadata": {},
     "output_type": "execute_result"
    }
   ],
   "source": [
    "naslov[:9]"
   ]
  },
  {
   "cell_type": "markdown",
   "id": "6dbfbb8b",
   "metadata": {},
   "source": [
    "Radi.\n",
    "\n",
    "Kako se tekstualni podaci najčešće pohranjuju kao *string*, onda je jako korisno poznavati mogućnosti toga kako se može formatirati prikaz tog teksta.\n",
    "\n",
    "Posebni znakovi, koje nazivamo *escape*, koriste se za prikaz nekih posebnih znakova u koje ubrajamo novi red i *tab*:\n",
    "- *\\n* - novi red\n",
    "- *\\t* - tab ili uvlaka\n",
    "- *\\\\\"* - dvostruki navodnici\n",
    "- *\\\\'* - jednostruki navodnici\n",
    "- *\\* - kosa crta (backslash)."
   ]
  },
  {
   "cell_type": "code",
   "execution_count": 51,
   "id": "58eed3d6",
   "metadata": {},
   "outputs": [
    {
     "name": "stdout",
     "output_type": "stream",
     "text": [
      "ListaDnevni\n",
      "h\n",
      "Temperatura\n"
     ]
    }
   ],
   "source": [
    "naslov = 'ListaDnevni\\nh\\nTemperatura'\n",
    "print(naslov)"
   ]
  },
  {
   "cell_type": "markdown",
   "id": "b0543a26",
   "metadata": {},
   "source": [
    "Ako ispred navodnika, unutar kojih upisujemo znakove koji čine *string*, napišemo slovo **r**, poništit ćemo svo formatiranje koje smo postigli uporabom *escape* znakova.\n",
    "\n",
    "Slovo *r* je od engleske riječi *raw* što znači sirovo."
   ]
  },
  {
   "cell_type": "code",
   "execution_count": 52,
   "id": "5212bc70",
   "metadata": {},
   "outputs": [
    {
     "name": "stdout",
     "output_type": "stream",
     "text": [
      "Lista\\nDnevnih\\nTemperatura\n"
     ]
    }
   ],
   "source": [
    "naslov = r'Lista\\nDnevnih\\nTemperatura'\n",
    "print(naslov)"
   ]
  },
  {
   "cell_type": "markdown",
   "id": "53c3d1d5",
   "metadata": {},
   "source": [
    "**PITANJE<br>**\n",
    "**Osim slova *r*, postoje li još neke slične modifikacije* string* varijable? Istražite na internetu.**\n",
    "\n",
    "*.format()* metoda je dostupna nad *str* objektom i koristimo je kada želimo izravno, unutar rečenice, (*string* varijable) umetnuti vrijednosti varijabli. To je jako korisno jer onda točno znamo na kojem mjestu će doći vrijednost varijable te koji će se znakovi ispisati oko te vrijednosti.\n",
    "\n",
    "Osim toga, postoje još i modifikatori koji služe za promjenu prikaza vrijednosti varijable, kao na primjer prikaz valuta.\n",
    "\n",
    "- *{0:.2f}* - koristi se za formatiranje decimalnih brojeva (zato ima ono slovo *f*), a broj decimalnih mjesta je definiran nakon točke - u ovom slučaju to je broj 2. Nula, koja je prvi znak unutar vitičastih zagrada, označava indeks elementa unutar liste varijabli koje se prosljeđuju kao argument metode *.format()*.\n",
    "- *{1:s}* - formatiraj vrijednost varijable kao tekst.\n",
    "- *{2:d}* - formatiraj vrijednost varijable kao broj (*d* kao prvo slovo od riječi *digit*)."
   ]
  },
  {
   "cell_type": "code",
   "execution_count": 53,
   "id": "3184293e",
   "metadata": {},
   "outputs": [
    {
     "data": {
      "text/plain": [
       "'7.50 kn (Hrvatska kuna) vrijedi 1 EUR'"
      ]
     },
     "execution_count": 53,
     "metadata": {},
     "output_type": "execute_result"
    }
   ],
   "source": [
    "predlozak_teksta = '{0:.2f} {1:s} vrijedi {2:d} EUR'\n",
    "predlozak_teksta.format(7.5, 'kn (Hrvatska kuna)', 1)"
   ]
  },
  {
   "cell_type": "code",
   "execution_count": 54,
   "id": "f881bfa1",
   "metadata": {},
   "outputs": [
    {
     "data": {
      "text/plain": [
       "'7.50 kn (Hrvatska kuna) vrijedi 1 EUR'"
      ]
     },
     "execution_count": 54,
     "metadata": {},
     "output_type": "execute_result"
    }
   ],
   "source": [
    "predlozak_teksta = '{0:.2f} {1:s} vrijedi {2:d} EUR'.format(7.5, 'kn (Hrvatska kuna)', 1)\n",
    "predlozak_teksta"
   ]
  },
  {
   "cell_type": "markdown",
   "id": "6de64074",
   "metadata": {},
   "source": [
    "### *Boolean* kao istina ili laž\n",
    "\n",
    "Python, kao i svaki drugi jezik, ima tip varijable *Boolean* koji označava je li neki izraz istina ili laž, *True* ili *False*. Koristi se kod uvjetnog grananja kôda, ali i kod raznih provjera ima li neka varijabla traženu vrijednost ili ne."
   ]
  },
  {
   "cell_type": "markdown",
   "id": "a3e997e6",
   "metadata": {},
   "source": [
    "### *None* kao podatak bez vrijednosti\n",
    "\n",
    "*None* je Python oznaka toga da varijabla **NEMA vrijednost**. Dakle, ako je u nekoj varijabli pohranjen broj 0, onda ta varijabla NEMA vrijednost *None*, već nulu."
   ]
  },
  {
   "cell_type": "markdown",
   "id": "c1e3f9eb",
   "metadata": {},
   "source": [
    "### Kontrola toka izvršavanja programa"
   ]
  },
  {
   "cell_type": "markdown",
   "id": "e36a747b",
   "metadata": {},
   "source": [
    "**Uvjetno izvršavanje**<br>\n",
    "if<br>\n",
    "if ... else<br>\n",
    "if ... elif ... else<br>\n",
    "<br>\n",
    "**Ponavljajuće izvršavanje**<br>\n",
    "while<br>\n",
    "for<br>"
   ]
  },
  {
   "cell_type": "markdown",
   "id": "3b7a02be",
   "metadata": {},
   "source": [
    "**if**"
   ]
  },
  {
   "cell_type": "code",
   "execution_count": 55,
   "id": "56631914",
   "metadata": {},
   "outputs": [],
   "source": [
    "temperatura = 22\n",
    "\n",
    "if temperatura >= 25:\n",
    "    print('Klima je ukljucena!')\n",
    "    print('Temepratura hladenja: 24 C')"
   ]
  },
  {
   "cell_type": "markdown",
   "id": "62c9ecdb",
   "metadata": {},
   "source": [
    "**if ... else**"
   ]
  },
  {
   "cell_type": "code",
   "execution_count": 56,
   "id": "9b617648",
   "metadata": {},
   "outputs": [
    {
     "name": "stdout",
     "output_type": "stream",
     "text": [
      "Trenutna temepratura je 22\n"
     ]
    }
   ],
   "source": [
    "temperatura = 22\n",
    "\n",
    "if temperatura >= 25:\n",
    "    print('Klima je ukljucena!')\n",
    "    print('Temepratura hladenja: 24 C')\n",
    "else:\n",
    "    print(f'Trenutna temepratura je {temperatura}')"
   ]
  },
  {
   "cell_type": "markdown",
   "id": "a458b9da",
   "metadata": {},
   "source": [
    "**if ... elif ... else**"
   ]
  },
  {
   "cell_type": "code",
   "execution_count": 57,
   "id": "af0e3cce",
   "metadata": {},
   "outputs": [
    {
     "name": "stdout",
     "output_type": "stream",
     "text": [
      "Grijanje je iskljuceno!\n",
      "Trenutna temepratura je 22\n"
     ]
    }
   ],
   "source": [
    "temperatura = 22\n",
    "\n",
    "if temperatura <= 18:\n",
    "    print('Grijanje je ukljuceno!')\n",
    "    print('Temepratura grijanja je: 21 C')\n",
    "    print(f'Trenutna temepratura je {temperatura}')\n",
    "elif temperatura == 22:\n",
    "    print('Grijanje je iskljuceno!')\n",
    "    print(f'Trenutna temepratura je {temperatura}')\n",
    "elif temperatura >= 27:\n",
    "    print('Klima je ukljucena!')\n",
    "    print('Temepratura hladenja: 25 C')\n",
    "    print(f'Trenutna temepratura je {temperatura}')\n",
    "elif temperatura == 24:\n",
    "    print('Hladenje je iskljuceno!')\n",
    "    print(f'Trenutna temepratura je {temperatura}')\n",
    "else:\n",
    "    print(f'Trenutna temepratura je {temperatura}')"
   ]
  },
  {
   "cell_type": "markdown",
   "id": "62f13e53",
   "metadata": {},
   "source": [
    "**while**"
   ]
  },
  {
   "cell_type": "code",
   "execution_count": 58,
   "id": "6b85dbe7",
   "metadata": {},
   "outputs": [
    {
     "name": "stdout",
     "output_type": "stream",
     "text": [
      "Vlaznost tla je 25%, sto je manje ili jednako od 65 %. Ventil je OTVOREN\n",
      "Vlaznost tla je 30%, sto je manje ili jednako od 65 %. Ventil je OTVOREN\n",
      "Vlaznost tla je 35%, sto je manje ili jednako od 65 %. Ventil je OTVOREN\n",
      "Vlaznost tla je 40%, sto je manje ili jednako od 65 %. Ventil je OTVOREN\n",
      "Vlaznost tla je 45%, sto je manje ili jednako od 65 %. Ventil je OTVOREN\n",
      "Vlaznost tla je 50%, sto je manje ili jednako od 65 %. Ventil je OTVOREN\n",
      "Vlaznost tla je 55%, sto je manje ili jednako od 65 %. Ventil je OTVOREN\n",
      "Vlaznost tla je 60%, sto je manje ili jednako od 65 %. Ventil je OTVOREN\n",
      "Vlaznost tla je 65%, sto je manje ili jednako od 65 %. Ventil je OTVOREN\n",
      "Vlaznost tla je 70%, sto je vise od 65 %. Ventil je ZATVOREN\n"
     ]
    }
   ],
   "source": [
    "vlaznost_tla = 25\n",
    "\n",
    "while True:\n",
    "    if vlaznost_tla > 65:\n",
    "        break\n",
    "    print(f'Vlaznost tla je {vlaznost_tla}%, sto je manje ili jednako od 65 %. Ventil je OTVOREN')\n",
    "    vlaznost_tla += 5\n",
    "    \n",
    "print(f'Vlaznost tla je {vlaznost_tla}%, sto je vise od 65 %. Ventil je ZATVOREN')"
   ]
  },
  {
   "cell_type": "code",
   "execution_count": 59,
   "id": "dd028c9f",
   "metadata": {},
   "outputs": [
    {
     "name": "stdout",
     "output_type": "stream",
     "text": [
      "Vlaznost tla je 25%, sto je manje ili jednako od 65 %. Ventil je OTVOREN\n",
      "Vlaznost tla je 30%, sto je manje ili jednako od 65 %. Ventil je OTVOREN\n",
      "Vlaznost tla je 35%, sto je manje ili jednako od 65 %. Ventil je OTVOREN\n",
      "Vlaznost tla je 40%, sto je manje ili jednako od 65 %. Ventil je OTVOREN\n",
      "Vlaznost tla je 45%, sto je manje ili jednako od 65 %. Ventil je OTVOREN\n",
      "Vlaznost tla je 50%, sto je manje ili jednako od 65 %. Ventil je OTVOREN\n",
      "Vlaznost tla je 55%, sto je manje ili jednako od 65 %. Ventil je OTVOREN\n",
      "Vlaznost tla je 60%, sto je manje ili jednako od 65 %. Ventil je OTVOREN\n",
      "Vlaznost tla je 65%, sto je manje ili jednako od 65 %. Ventil je OTVOREN\n",
      "Vlaznost tla je 70%, sto je vise od 65 %. Ventil je ZATVOREN\n"
     ]
    }
   ],
   "source": [
    "vlaznost_tla = 25\n",
    "\n",
    "while vlaznost_tla <= 65:\n",
    "    # pokreni funkciju koja ce otvoriti ventil na cijevi i zalijevati biljku\n",
    "    print(f'Vlaznost tla je {vlaznost_tla}%, sto je manje ili jednako od 65 %. Ventil je OTVOREN')\n",
    "    vlaznost_tla += 5\n",
    "    \n",
    "print(f'Vlaznost tla je {vlaznost_tla}%, sto je vise od 65 %. Ventil je ZATVOREN')"
   ]
  },
  {
   "cell_type": "markdown",
   "id": "ec163c3a",
   "metadata": {},
   "source": [
    "**for**"
   ]
  },
  {
   "cell_type": "code",
   "execution_count": 60,
   "id": "fef6d818",
   "metadata": {},
   "outputs": [
    {
     "name": "stdout",
     "output_type": "stream",
     "text": [
      "ID: 1\tTip: Senzor pokreta\tStatus: Aktivan\tLokacija: Ulazna vrata\n",
      "ID: 2\tTip: Senzor pokreta\tStatus: Aktivan\tLokacija: Vrata na terasi\n",
      "ID: 3\tTip: Senzor pokreta\tStatus: Aktivan\tLokacija: Ulaz u dvoriste\n",
      "ID: 4\tTip: Senzor plinova\tStatus: Aktivan\tLokacija: Ulaz u garazu\n"
     ]
    }
   ],
   "source": [
    "# ID senzora, tip senzora, status senzora, lokacija senzora\n",
    "senzori = {1 : ['Senzor pokreta', 'Aktivan', 'Ulazna vrata'],\n",
    "           2 : ['Senzor pokreta', 'Aktivan', 'Vrata na terasi'],\n",
    "           3 : ['Senzor pokreta', 'Aktivan', 'Ulaz u dvoriste'],\n",
    "           4 : ['Senzor plinova', 'Aktivan', 'Ulaz u garazu']\n",
    "          }\n",
    "\n",
    "for id_senzora, senzor in senzori.items():\n",
    "    print(f'ID: {id_senzora}\\tTip: {senzor[0]}\\tStatus: {senzor[1]}\\tLokacija: {senzor[2]}')"
   ]
  },
  {
   "cell_type": "code",
   "execution_count": 61,
   "id": "c21d74aa",
   "metadata": {},
   "outputs": [
    {
     "name": "stdout",
     "output_type": "stream",
     "text": [
      "Vlaznost tla je 25%, sto je manje ili jednako od 65 %. Ventil je OTVOREN\n",
      "Vlaznost tla je 30%, sto je manje ili jednako od 65 %. Ventil je OTVOREN\n",
      "Vlaznost tla je 35%, sto je manje ili jednako od 65 %. Ventil je OTVOREN\n",
      "Vlaznost tla je 40%, sto je manje ili jednako od 65 %. Ventil je OTVOREN\n",
      "Vlaznost tla je 45%, sto je manje ili jednako od 65 %. Ventil je OTVOREN\n",
      "Vlaznost tla je 50%, sto je manje ili jednako od 65 %. Ventil je OTVOREN\n",
      "Vlaznost tla je 55%, sto je manje ili jednako od 65 %. Ventil je OTVOREN\n",
      "Vlaznost tla je 60%, sto je manje ili jednako od 65 %. Ventil je OTVOREN\n",
      "Vlaznost tla je 65%, sto je manje ili jednako od 65 %. Ventil je OTVOREN\n",
      "Vlaznost tla je 65%, sto je vise od 65 %. Ventil je ZATVOREN\n"
     ]
    }
   ],
   "source": [
    "for vlaznost_tla in range(25, 70, 5):\n",
    "    print(f'Vlaznost tla je {vlaznost_tla}%, sto je manje ili jednako od 65 %. Ventil je OTVOREN')\n",
    "\n",
    "print(f'Vlaznost tla je {vlaznost_tla}%, sto je vise od 65 %. Ventil je ZATVOREN')"
   ]
  },
  {
   "cell_type": "markdown",
   "id": "31c940a3",
   "metadata": {},
   "source": [
    "#### Python način kraćeg pisanja kôda"
   ]
  },
  {
   "cell_type": "code",
   "execution_count": 62,
   "id": "dcd0dac5",
   "metadata": {},
   "outputs": [
    {
     "data": {
      "text/plain": [
       "['SENZOR POKRETA', 'AKTIVAN', 'ULAZNA VRATA']"
      ]
     },
     "execution_count": 62,
     "metadata": {},
     "output_type": "execute_result"
    }
   ],
   "source": [
    "rijeci = ['Senzor pokreta', 'Aktivan', 'Ulazna vrata']\n",
    "rezultat = []\n",
    "\n",
    "for rijec in rijeci:\n",
    "    if len(rijec) > 2:\n",
    "        rezultat.append(rijec.upper())\n",
    "        \n",
    "rezultat"
   ]
  },
  {
   "cell_type": "markdown",
   "id": "71420dfb",
   "metadata": {},
   "source": [
    "Ili kraće"
   ]
  },
  {
   "cell_type": "code",
   "execution_count": 63,
   "id": "8b0379fd",
   "metadata": {},
   "outputs": [
    {
     "data": {
      "text/plain": [
       "['SENZOR POKRETA', 'AKTIVAN', 'ULAZNA VRATA']"
      ]
     },
     "execution_count": 63,
     "metadata": {},
     "output_type": "execute_result"
    }
   ],
   "source": [
    "rijeci = ['Senzor pokreta', 'Aktivan', 'Ulazna vrata']\n",
    "\n",
    "rezultat = [rijec.upper() for rijec in rijeci if len(rijec) > 2]\n",
    "rezultat"
   ]
  },
  {
   "cell_type": "markdown",
   "id": "d265cb12",
   "metadata": {},
   "source": [
    "Sve stavimo u uglate zagrade kako bismo kreirali listu. Zatim navedemo što želimo raditi. U našem slučaju: slova iz varijable *X* (naziv koji mi definiramo) pretvori u velika slova. Varijablu *X* dobit ćete tako što ćete *FOR* petljom proći kroz listu RIJEČI i jedan po jedan element liste dodijeliti varijabli *X*, ali samo ako zadovoljava uvjet da je dužina te riječi veća od 2.\n",
    "\n",
    "Kada se naviknete na ovaj način pisanja, postat će vam razumljiv i bit će vam jako teško prihvatiti pisanje komplicirane, dugačke konstrukcije u drugim programskim jezicima.\n",
    "\n",
    "**Konstrukcija DICT kolekcije**\n",
    "\n",
    "*Dict_konstrukcija = {kljuc_naredba : vrijednost_naredba for vrijednost in kolekcija if uvjet}.*<br>\n",
    "Kljuc_naredba - predstavlja jednu liniju kao što smo imali u *x.upper()*, dakle predstavlja kako ćemo dobiti ključ. Isto se odnosi  i na vrijednost.\n",
    "\n",
    "**Konstrukcija SET kolekcije**<br>\n",
    "*dict_comp = {naredba for vrijednost in kolekcija if uvjet}*\n",
    "\n",
    "**PRIMJER**"
   ]
  },
  {
   "cell_type": "code",
   "execution_count": 64,
   "id": "5995ca37",
   "metadata": {},
   "outputs": [
    {
     "data": {
      "text/plain": [
       "{1, 2, 3, 5, 6}"
      ]
     },
     "execution_count": 64,
     "metadata": {},
     "output_type": "execute_result"
    }
   ],
   "source": [
    "stringovi = ['a', 'b', 'ab', 'bc', 'abc', 'def', 'ghj', 'oiu', 'qwerty', 'asdfg']\n",
    "\n",
    "duzine_stringova = {len(x) for x in stringovi}\n",
    "duzine_stringova"
   ]
  },
  {
   "cell_type": "markdown",
   "id": "5f13c927",
   "metadata": {},
   "source": [
    "**ZADATAK<br>**\n",
    "Kreirajte program koji će prikazati:\n",
    "\n",
    "- minimalnu dnevnu temperaturu\n",
    "- maksimalnu dnevnu temperaturu\n",
    "- prosječnu dnevnu temperaturu\n",
    "- broj mjerenja (očitanja senzora) temperature."
   ]
  },
  {
   "cell_type": "code",
   "execution_count": 65,
   "id": "1995498a",
   "metadata": {},
   "outputs": [],
   "source": [
    "dnevne_temperature = [15.1, 15.2, 15.6, 16.1, 16.8, 17.3, 17.3, 17.9, 18.3, 19.1, 20.3, 20.5, 20.8, \n",
    "                      21.2, 21.8, 22.3, 23.1, 24.5, 25.6, 25.9, 26.3, 26.8, 27.1, 27.3, 27.5, 27.8, \n",
    "                      27.2, 26.8, 26.3, 26.1, 25.5, 24.6, 23.9, 23.3, 22.8, 22.1, 21.3, 20.5, 19.8,\n",
    "                      19.5, 19.1, 18.6, 18.1, 17.6, 16.8, 16.3, 15.9, 15.4, 15.2, 14.9, 14.6, 14.1]"
   ]
  },
  {
   "cell_type": "code",
   "execution_count": 66,
   "id": "3e88ae37",
   "metadata": {},
   "outputs": [
    {
     "name": "stdout",
     "output_type": "stream",
     "text": [
      "min vrijednost 14.1\n",
      "max vrijednost 27.8\n"
     ]
    }
   ],
   "source": [
    "dnevne_temperature.sort()\n",
    "\n",
    "print(\"min vrijednost\", dnevne_temperature[0])\n",
    "print(\"max vrijednost\", dnevne_temperature[-1])"
   ]
  },
  {
   "cell_type": "code",
   "execution_count": 67,
   "id": "cd6e71b3",
   "metadata": {},
   "outputs": [],
   "source": [
    "import math"
   ]
  },
  {
   "cell_type": "code",
   "execution_count": 68,
   "id": "c784bc3d",
   "metadata": {},
   "outputs": [
    {
     "name": "stdout",
     "output_type": "stream",
     "text": [
      "14.1\n"
     ]
    }
   ],
   "source": [
    "temp_min = 100\n",
    "\n",
    "for temp in dnevne_temperature:\n",
    "    if temp < temp_min:\n",
    "        temp_min = temp\n",
    "        \n",
    "print(temp_min)"
   ]
  },
  {
   "cell_type": "code",
   "execution_count": 69,
   "id": "449eb6c5",
   "metadata": {},
   "outputs": [
    {
     "name": "stdout",
     "output_type": "stream",
     "text": [
      "27.8\n"
     ]
    }
   ],
   "source": [
    "temp_max = -math.inf\n",
    "\n",
    "for temp in dnevne_temperature:\n",
    "    if temp > temp_max:\n",
    "        temp_max = temp\n",
    "        \n",
    "print(temp_max)"
   ]
  },
  {
   "cell_type": "code",
   "execution_count": 70,
   "id": "70d367fd",
   "metadata": {},
   "outputs": [
    {
     "name": "stdout",
     "output_type": "stream",
     "text": [
      "1083.8\n"
     ]
    }
   ],
   "source": [
    "total = 0\n",
    "\n",
    "for temp in dnevne_temperature:\n",
    "    total += temp\n",
    "\n",
    "print(total)"
   ]
  },
  {
   "cell_type": "code",
   "execution_count": 71,
   "id": "cfa76613",
   "metadata": {},
   "outputs": [
    {
     "data": {
      "text/plain": [
       "20.842307692307692"
      ]
     },
     "execution_count": 71,
     "metadata": {},
     "output_type": "execute_result"
    }
   ],
   "source": [
    "sum(dnevne_temperature)/len(dnevne_temperature)"
   ]
  },
  {
   "cell_type": "code",
   "execution_count": 72,
   "id": "797f73df",
   "metadata": {},
   "outputs": [
    {
     "name": "stdout",
     "output_type": "stream",
     "text": [
      "Minimalna dnevna temperatura je: 14.1 C\n",
      "Maksimalna dnevna temperatura je: 27.8 C\n",
      "Prosjecna dnevna temperatura je: 20.84 C\n",
      "Broj mjerenja temperatura je: 52 puta\n"
     ]
    }
   ],
   "source": [
    "dnevne_temperature = [15.1, 15.2, 15.6, 16.1, 16.8, 17.3, 17.3, 17.9, 18.3, 19.1, 20.3, 20.5, 20.8, \n",
    "                      21.2, 21.8, 22.3, 23.1, 24.5, 25.6, 25.9, 26.3, 26.8, 27.1, 27.3, 27.5, 27.8, \n",
    "                      27.2, 26.8, 26.3, 26.1, 25.5, 24.6, 23.9, 23.3, 22.8, 22.1, 21.3, 20.5, 19.8,\n",
    "                      19.5, 19.1, 18.6, 18.1, 17.6, 16.8, 16.3, 15.9, 15.4, 15.2, 14.9, 14.6, 14.1]\n",
    "\n",
    "minimalna_dnevna_teperatura = min(dnevne_temperature)\n",
    "print(f'Minimalna dnevna temperatura je: {minimalna_dnevna_teperatura} C')\n",
    "\n",
    "maksimaln_dnevna_temperatura = max(dnevne_temperature)\n",
    "print(f'Maksimalna dnevna temperatura je: {maksimaln_dnevna_temperatura} C')\n",
    "\n",
    "prosjecna_dnevna_temperatura = sum(dnevne_temperature) / len(dnevne_temperature)\n",
    "print(f'Prosjecna dnevna temperatura je: {prosjecna_dnevna_temperatura:.2f} C')\n",
    "\n",
    "broj_mjerenja_temperature = len(dnevne_temperature)\n",
    "print(f'Broj mjerenja temperatura je: {broj_mjerenja_temperature} puta')"
   ]
  },
  {
   "cell_type": "markdown",
   "id": "2cf67b2b",
   "metadata": {},
   "source": [
    "## Python moduli\n",
    "### Python integrirani moduli"
   ]
  },
  {
   "cell_type": "markdown",
   "id": "6b4c4540",
   "metadata": {},
   "source": [
    "Već smo krenuli s obradom podataka tražeći ekstreme (najmanju i najveću vrijednost), prosjek i broj ponavljanja. U podatkovnoj znanosti, intenzivno se koriste ove vrijednosti kako bi se dobila gruba slika kvalitete podataka. Međutim, nedostaju još tri jednako važne vrijednosti koje opisuju vrijednosti grupirane oko sredine. \n",
    "\n",
    "- **Prosjek ili srednja vrijednost (eng. mean)** - predstavlja zbroj svih vrijednosti neke liste podataka, podijeljen s ukupnim brojem elemenata te liste. Koristan podatak, ali nekada ne daje kvalitetnu sliku zato jer na srednju vrijednost jako utječu granične vrijednosti.\n",
    "- **Medijan (eng. median)** - vrijednost središnjeg podatka koji podatke poredane po veličini dijeli u dva jednako brojna dijela. Ako je broj podataka neparan, medijan je vrijednost središnjeg podatka, a ako je broj podataka paran, medijan predstavlja srednju vrijednost dva središnja podatka.\n",
    "- **Mod (eng. mode)** — vrijednost podatka koji se najčešće ponavlja u listi."
   ]
  },
  {
   "cell_type": "markdown",
   "id": "936e86a4",
   "metadata": {},
   "source": [
    "Python je programski jezik uz koji se isporučuju baterije, odnosno sve ono što je potrebno za programiranje velike većine aplikacija. Razlog tome je velika količina integriranih modula u programski jezik. Ovi moduli se nazivaju **Python Standard Library** moduli. Neke od njih smo koristili, a neke ćemo koristiti tijekom ovog seminara:<br>\n",
    "- **collections** - modul s dodatnim kolekcijama podataka, osim lista, n-teraca (*tuple*), rječnika i setova\n",
    "- **csv** - modul za procesiranje sadržaja *CSV* datoteka\n",
    "- **datetime, time** - rad s vremenom i datumima kao tipovima podataka\n",
    "- **decimal** - računanje s fiksnim i promjenjivim decimalnim mjestima, uključujući i monetarne izračune\n",
    "- **json** - modul za procesiranje json (*JavaScript Object Notation (JSON)*)\n",
    "- **math** - najčešće matematičke konstante i operacije vezane uz njih\n",
    "- **os** - modul za interakciju s operacijskim sustavom računala\n",
    "- **timeit** - modul za analizu performansi algoritma (cilj je da nam obrada podataka bude brza)\n",
    "- **random** - generator nasumičnih brojeva\n",
    "- **re** - modul za rad s *\"Regular expressions\"*, odnosno za provjeru unesenih podataka na osnovu prethodno definiranih predložaka, recimo provjera je li unos u neko polje unutar forme u formatu *email* adrese ili je samo nekakva hrpa nabacanih slova\n",
    "- **sqlite3** - modul za rad s SQLite bazom podataka\n",
    "- **statistics** - statističke matematičke funkcije kao \"mean\", \"median\", \"mode\", \"variance\" \n",
    "- **string** - obrada tekstualnih tipova podataka\n",
    "- **sys** - prilikom pokretanja Python skripti (datoteke s *.py* ekstenzijom) u konzoli možemo proslijediti neke podatke koji će se iskoristiti kod pokretanja skripte *.modul sys* koji je namijenjen procesiranju tih dodatnih argumenata."
   ]
  },
  {
   "cell_type": "markdown",
   "id": "ca3a8c59",
   "metadata": {},
   "source": [
    "### Python moduli koji se koriste u podatkovnoj znanosti"
   ]
  },
  {
   "cell_type": "markdown",
   "id": "61a3f33a",
   "metadata": {},
   "source": [
    "- **NumPy** - *Numerical Python* - modul za statističke proračune nad listama i matricama (matrice se mogu najjednostavnije predstaviti kao tabela s kolonama i redovima)\n",
    "- **Pandas** - modul manipulacije s podacima i njihove analize\n",
    "- **Matplotlib** - vizualizacija podataka"
   ]
  },
  {
   "cell_type": "markdown",
   "id": "8d7b2172",
   "metadata": {},
   "source": [
    "Krenimo prvo s ugrađenim modulima.\n",
    "\n",
    "Pokažimo na primjerima statističkih vrijednosti za srednju vrijednost, medijan i mod, ali uz pomoć ugrađenog modula Pythona **statistics**.\n"
   ]
  },
  {
   "cell_type": "code",
   "execution_count": 73,
   "id": "60b403bd",
   "metadata": {},
   "outputs": [
    {
     "name": "stdout",
     "output_type": "stream",
     "text": [
      "Srednja vrijednosti podataka je: 128.1\n",
      "Srednja vrijednosti podataka bez ekstrema je: 17.7\n",
      "Medijan je: 18.0\n",
      "Mod je: 2\n"
     ]
    }
   ],
   "source": [
    "import statistics\n",
    "\n",
    "podaci = [41, 11, 29, 7, 37, 41, 1013, 17, 2, 1009, 5, 23, 31, 13, 2, 19, 3, 2]\n",
    "\n",
    "# SREDNJA VRIJEDNOST\n",
    "srednja_vrijednost = statistics.mean(podaci)\n",
    "print(f'Srednja vrijednosti podataka je: {srednja_vrijednost:.1f}') \n",
    "# Srednja vrijednost se UVIJEK izrazava za jedno decimalno mjesto vise od podataka\n",
    "# Dokaz kako ekstremi utjecu na srednju vrijednost\n",
    "podaci_bez_ekstrema = [41, 11, 29, 7, 37, 41, 17, 2, 5, 23, 31, 13, 2, 19, 3, 2]\n",
    "srednja_vrijednost_bez_ekstrema = statistics.mean(podaci_bez_ekstrema)\n",
    "print(f'Srednja vrijednosti podataka bez ekstrema je: {srednja_vrijednost_bez_ekstrema:.1f}') \n",
    "\n",
    "\n",
    "# MEDIJAN\n",
    "medijan = statistics.median(podaci)\n",
    "print(f'Medijan je: {medijan}')\n",
    "# Obratite pažnju kako su medijan i srednja vrijednost bez ekstrema sada blizu.\n",
    "\n",
    "\n",
    "# MOD\n",
    "mod = statistics.mode(podaci)\n",
    "print(f'Mod je: {mod}')"
   ]
  },
  {
   "cell_type": "markdown",
   "id": "fe9f8319",
   "metadata": {},
   "source": [
    "#### Datumi i vrijeme\n",
    "\n"
   ]
  },
  {
   "cell_type": "code",
   "execution_count": 74,
   "id": "6d2b5686",
   "metadata": {},
   "outputs": [],
   "source": [
    "from datetime import datetime, date, time, timedelta\n",
    "\n",
    "dt = datetime(2021, 7, 24, 4, 45, 59)"
   ]
  },
  {
   "cell_type": "code",
   "execution_count": 75,
   "id": "cbeb3728",
   "metadata": {},
   "outputs": [
    {
     "data": {
      "text/plain": [
       "datetime.datetime(2021, 7, 24, 4, 45, 59)"
      ]
     },
     "execution_count": 75,
     "metadata": {},
     "output_type": "execute_result"
    }
   ],
   "source": [
    "dt"
   ]
  },
  {
   "cell_type": "code",
   "execution_count": 76,
   "id": "702326f4",
   "metadata": {},
   "outputs": [
    {
     "name": "stdout",
     "output_type": "stream",
     "text": [
      "Dan:\t\t24\n",
      "Sekunde:\t59\n"
     ]
    }
   ],
   "source": [
    "print(f'Dan:\\t\\t{dt.day}')\n",
    "print(f'Sekunde:\\t{dt.second}')"
   ]
  },
  {
   "cell_type": "code",
   "execution_count": 77,
   "id": "cb69d05b",
   "metadata": {},
   "outputs": [
    {
     "data": {
      "text/plain": [
       "datetime.date(2021, 7, 24)"
      ]
     },
     "execution_count": 77,
     "metadata": {},
     "output_type": "execute_result"
    }
   ],
   "source": [
    "dt.date()"
   ]
  },
  {
   "cell_type": "code",
   "execution_count": 78,
   "id": "35db1e4c",
   "metadata": {},
   "outputs": [
    {
     "data": {
      "text/plain": [
       "datetime.time(4, 45, 59)"
      ]
     },
     "execution_count": 78,
     "metadata": {},
     "output_type": "execute_result"
    }
   ],
   "source": [
    "dt.time()"
   ]
  },
  {
   "cell_type": "code",
   "execution_count": 79,
   "id": "bef4f09c",
   "metadata": {},
   "outputs": [
    {
     "data": {
      "text/plain": [
       "'07/24/2021 04:45'"
      ]
     },
     "execution_count": 79,
     "metadata": {},
     "output_type": "execute_result"
    }
   ],
   "source": [
    "dt.strftime('%m/%d/%Y %H:%M')"
   ]
  },
  {
   "cell_type": "code",
   "execution_count": 80,
   "id": "9f126f7d",
   "metadata": {},
   "outputs": [
    {
     "data": {
      "text/plain": [
       "datetime.datetime(2009, 10, 31, 0, 0)"
      ]
     },
     "execution_count": 80,
     "metadata": {},
     "output_type": "execute_result"
    }
   ],
   "source": [
    "datetime.strptime('20091031', '%Y%m%d')"
   ]
  },
  {
   "cell_type": "code",
   "execution_count": 81,
   "id": "d3a21fa0",
   "metadata": {},
   "outputs": [
    {
     "data": {
      "text/plain": [
       "datetime.datetime(2021, 7, 24, 4, 0)"
      ]
     },
     "execution_count": 81,
     "metadata": {},
     "output_type": "execute_result"
    }
   ],
   "source": [
    "dt.replace(minute=0, second=0)"
   ]
  },
  {
   "cell_type": "code",
   "execution_count": 82,
   "id": "d50c2c8c",
   "metadata": {},
   "outputs": [
    {
     "data": {
      "text/plain": [
       "datetime.timedelta(days=-3539, seconds=63841)"
      ]
     },
     "execution_count": 82,
     "metadata": {},
     "output_type": "execute_result"
    }
   ],
   "source": [
    "dt2 = datetime(2011, 11, 15, 22, 30)\n",
    "delta = dt2 - dt\n",
    "delta"
   ]
  },
  {
   "cell_type": "code",
   "execution_count": 83,
   "id": "5892199a",
   "metadata": {},
   "outputs": [
    {
     "data": {
      "text/plain": [
       "datetime.datetime(2011, 11, 15, 22, 30)"
      ]
     },
     "execution_count": 83,
     "metadata": {},
     "output_type": "execute_result"
    }
   ],
   "source": [
    "dt + delta"
   ]
  },
  {
   "cell_type": "markdown",
   "id": "076b5321",
   "metadata": {},
   "source": [
    "Vidjeli smo kako možemo upravljati varijablama koje čuvaju podatke o datumu i vremenu, kako možemo računati razliku između dva datuma (*timedelta()*) te kako možemo formatirati (*str**f**time*) i čitati, odnosno pisati (*str**p**time*) tekst u varijablama i iz varijabli tipa datum i vrijeme.\n",
    "\n",
    "Pomoću kombinacije znaka postotak i slova, možemo odrediti u koji dio *datetime* varijable će se neki tekst učitati ili iz kojeg ćemo dijela te iste varijable dohvatiti vrijednost:<br>\n",
    "- **%Y** - godina zapisana kao četveroznamenkasti broj\n",
    "- **%y** - godina zapisana kao dvoznamenkasti broj (21 za 2021. godinu)\n",
    "- **%m** - mjesec zapisan kao dvoznamenkasti broj (01, 02, 12)\n",
    "- **%d** - dan zapisan kao dvoznamenkasti broj (01, 02, 23, 31)\n",
    "- **%H** - sat u 24-satnom formatu zapisa (00, 01, 23)\n",
    "- **%I** - sat u 12-satnom formatu zapisa (00, 01, 12)\n",
    "- **%M** - minute zapisane kao dvoznamenkasti broj (01, 02, 59)\n",
    "- **%S** - sekunde zapisane kao dvoznamenkasti broj (01, 02, 59)\n",
    "- **%w** - dan u tjednu kao broj od 0 do 6 za ponedjeljak do nedjelje\n",
    "- **%U** - dvoznamenkasti broj tjedna u godini. *Nedjelja* se smatra prvim danom u tjednu i dani poslije prve nedjelje u godini smatraju se dijelom 00 tjedna.\n",
    "- **%W** - dvoznamenkasti broj tjedna u godini. *Ponedjeljak* se smatra prvim danom u tjednu i dani poslije prve nedjelje u godini smatraju se dijelom 00 tjedna.\n",
    "- **%z** - odstupanje od UTC vremenske zone kao +HHHH ili -HHHH (sati).\n",
    "- **%F** - skraćeni oblik za format: %Y-%m-%d (2021-9-18)\n",
    "- **%D** - skraćeni oblik za format: %m/%d/%y (09/18/21)"
   ]
  },
  {
   "cell_type": "markdown",
   "id": "bd4ba12c",
   "metadata": {},
   "source": [
    "**PITANJE<br>**\n",
    "**Pronađite koje još formate datuma i vremena imate unutar *datetime* modula. Kao pomoć: možemo li dobiti to da za dan u tjednu ispiše Petak, a ne broj 4?**\n",
    "\n",
    "**Pomoću *locale* modula, prikažite datum: *Petak, 24. Rujan 2021. godine* na hrvatskom, engleskom i njemačkom jeziku.**"
   ]
  },
  {
   "cell_type": "code",
   "execution_count": 84,
   "id": "a8ed9259",
   "metadata": {},
   "outputs": [],
   "source": [
    "import locale"
   ]
  },
  {
   "cell_type": "code",
   "execution_count": 85,
   "id": "bf024feb",
   "metadata": {},
   "outputs": [],
   "source": [
    "def print_day_lang(lang):\n",
    "    locale.setlocale(locale.LC_TIME, lang)\n",
    "    day = custom_date.strftime(\"%A\")\n",
    "    rest = custom_date.strftime(\"%d. %B %Y.\")\n",
    "    print(f\"{day}, {rest}\")"
   ]
  },
  {
   "cell_type": "code",
   "execution_count": 86,
   "id": "16e8eeae",
   "metadata": {},
   "outputs": [
    {
     "name": "stdout",
     "output_type": "stream",
     "text": [
      "Petak, 24. Rujan 2021.\n",
      "Friday, 24. September 2021.\n",
      "Freitag, 24. September 2021.\n"
     ]
    }
   ],
   "source": [
    "custom_date = datetime.strptime(\"210924\", \"%y%m%d\").date()\n",
    "print_day_lang(\"hr_HR\")\n",
    "print_day_lang(\"en_US\")\n",
    "print_day_lang(\"de_DE\")"
   ]
  },
  {
   "cell_type": "markdown",
   "id": "da9a6c32",
   "metadata": {},
   "source": [
    "**ZADATAK**<br>\n",
    "**Napravite aplikaciju koja će generirati nasumične podatke, tako da simulira dnevni rast temperature od jutra do poslijepodneva i zatim pad do ranog jutra. Podatke treba pohraniti u rječnik, tako da je ključ datum, a podaci lista parova vrijednosti (*tuple*) vremena i temperature. Temperatura treba biti izmjerena svakih 15 minuta.**\n",
    "\n",
    "- **Temperatura zraka od -25 do +39 stupnjeva Celzijusa**\n",
    "- **Početni datum i vrijeme trebaju biti uneseni od strane korisnika, a moraju biti minimalno dvije godine prije današnjeg datuma.**\n",
    "\n",
    "**Podacima se mogu dodati i informacije o vlažnosti zraka (vrijednosti od 15% do 95%) te tlak zraka (990 hPa do 1035 hPa).**"
   ]
  },
  {
   "cell_type": "code",
   "execution_count": 87,
   "id": "86511f59",
   "metadata": {},
   "outputs": [],
   "source": [
    "import random\n",
    "\n",
    "\n",
    "def generate_data():\n",
    "    measurements = 24 * 60 // 15\n",
    "    arr = [random.randint(-25, 39) for i in range(measurements)]\n",
    "    first = arr[measurements // 2 :]\n",
    "    second = arr[: measurements // 2]\n",
    "    final = sorted(first) + sorted(second, reverse=True)\n",
    "    return final"
   ]
  },
  {
   "cell_type": "code",
   "execution_count": 89,
   "id": "8285b78c",
   "metadata": {},
   "outputs": [
    {
     "name": "stdout",
     "output_type": "stream",
     "text": [
      "unesite datum u obliku yyyymmdd: 20200505\n"
     ]
    }
   ],
   "source": [
    "while True:\n",
    "    dt_str = input(\"unesite datum u obliku yyyymmdd: \")\n",
    "    datetime = datetime.strptime(dt_str, '%Y%m%d')\n",
    "    dt = datetime.date()\n",
    "    diff = datetime.today().date() - dt\n",
    "    if diff.days > 365*2:\n",
    "        break\n",
    "    print(\"Nije dobar datum\")"
   ]
  },
  {
   "cell_type": "code",
   "execution_count": 90,
   "id": "c0f01753",
   "metadata": {},
   "outputs": [],
   "source": [
    "temps = {}\n",
    "\n",
    "for d in range(diff.days):\n",
    "    dt = dt + timedelta(days=d)\n",
    "    temps[dt] = [(15*i, val) for i, val in enumerate(generate_data())]"
   ]
  },
  {
   "cell_type": "code",
   "execution_count": 94,
   "id": "3a0f5629",
   "metadata": {},
   "outputs": [
    {
     "name": "stdout",
     "output_type": "stream",
     "text": [
      "key: 2020-05-05\n",
      "value: [(0, -25), (15, -23), (30, -23), (45, -23), (60, -22), (75, -20), (90, -19), (105, -18), (120, -17), (135, -15), (150, -15), (165, -11), (180, -6), (195, -6), (210, -5), (225, -3), (240, -3), (255, -2), (270, 6), (285, 8), (300, 8), (315, 8), (330, 10), (345, 11), (360, 12), (375, 13), (390, 16), (405, 17), (420, 17), (435, 17), (450, 18), (465, 20), (480, 20), (495, 20), (510, 22), (525, 25), (540, 26), (555, 26), (570, 27), (585, 28), (600, 28), (615, 29), (630, 32), (645, 35), (660, 36), (675, 37), (690, 37), (705, 38), (720, 32), (735, 31), (750, 31), (765, 30), (780, 25), (795, 24), (810, 23), (825, 22), (840, 22), (855, 20), (870, 18), (885, 16), (900, 15), (915, 15), (930, 13), (945, 13), (960, 10), (975, 10), (990, 9), (1005, 8), (1020, 7), (1035, 6), (1050, 6), (1065, 5), (1080, 4), (1095, 3), (1110, 1), (1125, -2), (1140, -3), (1155, -6), (1170, -7), (1185, -10), (1200, -10), (1215, -10), (1230, -13), (1245, -14), (1260, -16), (1275, -16), (1290, -17), (1305, -17), (1320, -17), (1335, -17), (1350, -18), (1365, -21), (1380, -21), (1395, -22), (1410, -24), (1425, -25)]\n"
     ]
    }
   ],
   "source": [
    "for k, v in temps.items():\n",
    "    print(\"key:\", k)\n",
    "    print(\"value:\", v)\n",
    "    break"
   ]
  }
 ],
 "metadata": {
  "celltoolbar": "Raw Cell Format",
  "kernelspec": {
   "display_name": "algebra",
   "language": "python",
   "name": "algebra"
  },
  "language_info": {
   "codemirror_mode": {
    "name": "ipython",
    "version": 3
   },
   "file_extension": ".py",
   "mimetype": "text/x-python",
   "name": "python",
   "nbconvert_exporter": "python",
   "pygments_lexer": "ipython3",
   "version": "3.10.9"
  }
 },
 "nbformat": 4,
 "nbformat_minor": 5
}
