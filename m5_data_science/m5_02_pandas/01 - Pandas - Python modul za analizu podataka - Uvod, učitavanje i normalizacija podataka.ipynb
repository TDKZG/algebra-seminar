{
 "cells": [
  {
   "attachments": {},
   "cell_type": "markdown",
   "id": "9da116af",
   "metadata": {},
   "source": [
    "<a href='http://www.algebra.hr'> <img src='../algebra_logo_color_h.png' alt=\"Algebra\" width=\"500\" /></a>\n",
    "___\n",
    "# Pandas - Python Data Analysis Library\n",
    "\n",
    "Znamo da Python ima nekoliko tipova podataka koji se odnose na kolekcije. To su liste, rječnici, n-terci. Rad s ovim tipovima podataka nije tako brz kao u jezicima baziranim na C-u ili u Fortranu. Zbog toga su nastale biblioteke koje imaju učinkovitost kao da su pisane u C-u ili Fortranu, a istovremeno imaju jednostavnost pisanja kôda kao u Pythonu.\n",
    "\n",
    "Pandas je jedna od njih. To je Python biblioteka za analizu i manipulaciju podataka, strukturiranih u obliku  tablice. Pandas koristi NumPy biblioteku kao podlogu. NumPy ćemo upoznati kasnije, a njegova osnovna karakteristika je također rad s tabličnim tipom podataka koji može pohraniti samo podatke koji se zbrajaju i množe (najčešće brojeve). Pandas, s druge strane, također radi s tabličnim tipom podataka, ali za razliku od NumPy biblioteke, nema uvjet koji se tip podatka može pohraniti u tablici."
   ]
  },
  {
   "attachments": {},
   "cell_type": "markdown",
   "id": "fc707058",
   "metadata": {},
   "source": [
    "Pandas je jako korisna biblioteka i ovo su samo neke od situacija u kojima se koristi:<br>\n",
    "- upravljanje podacima koji nedostaju u tablicama s brojevima (na njihova mjesta dodaje *NaN - Not a Number*)\n",
    "- mogućnost promjene veličine objekta tako što se dodaju ili oduzimaju kolone iz *DataFrame* objekta\n",
    "- fleksibilno, a opet učinkovito grupiranje podataka koje omogućava modifikacije kao što su podjela, dodavanje, kombiniranje...\n",
    "- jednostavna konverzija Python i NumPy struktura podataka, bez obzira na način indeksacije izvornih objekata u *DateFrame* objekt\n",
    "- mogućnost izdvajanja dijelova podataka u zasebne cjeline na osnovi naziva kolona\n",
    "- promjena oblika i rotacija (eng. *pivoting*) tablica\n",
    "- uvoz i izvoz podataka iz datoteka CSV, Excel, baze podataka.\n",
    "\n",
    "... i još puno drugih."
   ]
  },
  {
   "attachments": {},
   "cell_type": "markdown",
   "id": "9835d71e",
   "metadata": {},
   "source": [
    "## Instalacija i uporaba\n",
    "\n",
    "Dolazi kao dio Anaconda distribucije, a Pandas paket moguće je instalirati i koristiti zasebno pomoću naredbe:"
   ]
  },
  {
   "cell_type": "code",
   "execution_count": 1,
   "id": "d1c9d9d5",
   "metadata": {},
   "outputs": [],
   "source": [
    "# pip install pandas"
   ]
  },
  {
   "attachments": {},
   "cell_type": "markdown",
   "id": "58e4bd70",
   "metadata": {},
   "source": [
    "Više detalja o instalaciji Pandas paketa na adresi: https://pandas.pydata.org/pandas-docs/stable/getting_started/install.html\n",
    "\n",
    "Nakon instalacije, Pandas trebamo uključiti u skriptu, odnosno program:"
   ]
  },
  {
   "cell_type": "code",
   "execution_count": 2,
   "id": "b912f2f3",
   "metadata": {},
   "outputs": [],
   "source": [
    "import pandas as pd"
   ]
  },
  {
   "attachments": {},
   "cell_type": "markdown",
   "id": "662ccfd2",
   "metadata": {},
   "source": [
    "Uobičajeno je da se Pandas dodaje tako da se preimenuje u \"pd\"."
   ]
  },
  {
   "attachments": {},
   "cell_type": "markdown",
   "id": "5d20a412",
   "metadata": {},
   "source": [
    "## Struktura podataka\n",
    "\n",
    "Već smo naveli da se Pandas koristi za rad s podacima u obliku tablice. Nudi mogućnost da se učita cijela tablica i od nje napravi Python objekt s kojim možemo raditi svakojake manipulacije na podacima unutar tog objekta."
   ]
  },
  {
   "attachments": {},
   "cell_type": "markdown",
   "id": "8f40453c",
   "metadata": {},
   "source": [
    "### *DataFrame*\n",
    "\n",
    "Tablični oblik pohrane podataka zastupljen je u bazama podataka, tabličnim kalkulatorima (Excel, CSV). Ovakav, tablični tip podataka u Pandasu naziva se ***DataFrame*** i on predstavlja tablicu koja ima više redaka i stupaca. *DataFrame* ima retke i stupce pa kažemo da ima dvije dimenzije (os 0 - stupci i os 1 - redovi).\n",
    "\n",
    "<img src='./01_table_dataframe.svg' alt=\"DataFrame\" width=\"500\" />\n",
    "<center>Slika je preuzeta s:<br >\n",
    "<a href='https://pandas.pydata.org/pandas-docs/stable/getting_started/intro_tutorials/01_table_oriented.html'> Pandas Documentation </a><center><br >"
   ]
  },
  {
   "attachments": {},
   "cell_type": "markdown",
   "id": "a1f9cf58",
   "metadata": {},
   "source": [
    "#### Kreiranje *DataFrame* objekta\n",
    "\n",
    "Kreirajmo jedan *DataFrame* da nam bude malo jasnije.\n",
    "\n",
    "Prvo ćemo uključiti Pandas biblioteku."
   ]
  },
  {
   "cell_type": "code",
   "execution_count": 3,
   "id": "281e8bb7",
   "metadata": {},
   "outputs": [],
   "source": [
    "import pandas as pd"
   ]
  },
  {
   "attachments": {},
   "cell_type": "markdown",
   "id": "7158507e",
   "metadata": {},
   "source": [
    "**NAPOMENA:** Mi ćemo u ovom slučaju kreirati jednu varijablu tipa *dict* i od nje ćemo kreirati tablicu. Vrijednost ključeva rječnika koristit će se kao nazivi stupaca, a kao vrijednost ćemo imati liste čiji će elementi biti dodijeljeni u redove svakog stupca. **Neki elementi lista su namjerno izbačeni, odnosno neke liste imaju manji broj članova!**"
   ]
  },
  {
   "cell_type": "code",
   "execution_count": 4,
   "id": "267c1b77",
   "metadata": {},
   "outputs": [],
   "source": [
    "data = {\n",
    "    'Kolona 1':['K1_Podatak 1', 'K1_Podatak 2', 'K1_Podatak 3', 'K1_Podatak 4', 'K1_Podatak 5'],\n",
    "    'Kolona 2':['K2_Podatak 1', 'K2_Podatak 2', 'K2_Podatak 3', 'K2_Podatak 4', 'K2_Podatak 5'],\n",
    "    'Kolona 3':['K3_Podatak 1', 'K3_Podatak 2', 'K3_Podatak 3', 'K3_Podatak 4', 'K2_Podatak 5'],\n",
    "    'Kolona 4':['K4_Podatak 1', 'K4_Podatak 2', 'K4_Podatak 3', 'K4_Podatak 4', 'K4_Podatak 5']\n",
    "}"
   ]
  },
  {
   "attachments": {},
   "cell_type": "markdown",
   "id": "0c90bebe",
   "metadata": {},
   "source": [
    "Sada možemo kreirati jednu varijablu u koju ćemo pohraniti našu tablicu pretvorenu u Python objekt, a koju ćemo dalje nazivati *DataFrame*. Dodatna informacija: često ćete u primjerima na internetu naći da se ove varijable nazivaju generičkim nazivom *df* kao *DataFrame*."
   ]
  },
  {
   "cell_type": "code",
   "execution_count": 5,
   "id": "651f8fed",
   "metadata": {},
   "outputs": [
    {
     "data": {
      "text/html": [
       "<div>\n",
       "<style scoped>\n",
       "    .dataframe tbody tr th:only-of-type {\n",
       "        vertical-align: middle;\n",
       "    }\n",
       "\n",
       "    .dataframe tbody tr th {\n",
       "        vertical-align: top;\n",
       "    }\n",
       "\n",
       "    .dataframe thead th {\n",
       "        text-align: right;\n",
       "    }\n",
       "</style>\n",
       "<table border=\"1\" class=\"dataframe\">\n",
       "  <thead>\n",
       "    <tr style=\"text-align: right;\">\n",
       "      <th></th>\n",
       "      <th>Kolona 1</th>\n",
       "      <th>Kolona 2</th>\n",
       "      <th>Kolona 3</th>\n",
       "      <th>Kolona 4</th>\n",
       "    </tr>\n",
       "  </thead>\n",
       "  <tbody>\n",
       "    <tr>\n",
       "      <th>0</th>\n",
       "      <td>K1_Podatak 1</td>\n",
       "      <td>K2_Podatak 1</td>\n",
       "      <td>K3_Podatak 1</td>\n",
       "      <td>K4_Podatak 1</td>\n",
       "    </tr>\n",
       "    <tr>\n",
       "      <th>1</th>\n",
       "      <td>K1_Podatak 2</td>\n",
       "      <td>K2_Podatak 2</td>\n",
       "      <td>K3_Podatak 2</td>\n",
       "      <td>K4_Podatak 2</td>\n",
       "    </tr>\n",
       "    <tr>\n",
       "      <th>2</th>\n",
       "      <td>K1_Podatak 3</td>\n",
       "      <td>K2_Podatak 3</td>\n",
       "      <td>K3_Podatak 3</td>\n",
       "      <td>K4_Podatak 3</td>\n",
       "    </tr>\n",
       "    <tr>\n",
       "      <th>3</th>\n",
       "      <td>K1_Podatak 4</td>\n",
       "      <td>K2_Podatak 4</td>\n",
       "      <td>K3_Podatak 4</td>\n",
       "      <td>K4_Podatak 4</td>\n",
       "    </tr>\n",
       "    <tr>\n",
       "      <th>4</th>\n",
       "      <td>K1_Podatak 5</td>\n",
       "      <td>K2_Podatak 5</td>\n",
       "      <td>K2_Podatak 5</td>\n",
       "      <td>K4_Podatak 5</td>\n",
       "    </tr>\n",
       "  </tbody>\n",
       "</table>\n",
       "</div>"
      ],
      "text/plain": [
       "       Kolona 1      Kolona 2      Kolona 3      Kolona 4\n",
       "0  K1_Podatak 1  K2_Podatak 1  K3_Podatak 1  K4_Podatak 1\n",
       "1  K1_Podatak 2  K2_Podatak 2  K3_Podatak 2  K4_Podatak 2\n",
       "2  K1_Podatak 3  K2_Podatak 3  K3_Podatak 3  K4_Podatak 3\n",
       "3  K1_Podatak 4  K2_Podatak 4  K3_Podatak 4  K4_Podatak 4\n",
       "4  K1_Podatak 5  K2_Podatak 5  K2_Podatak 5  K4_Podatak 5"
      ]
     },
     "execution_count": 5,
     "metadata": {},
     "output_type": "execute_result"
    }
   ],
   "source": [
    "# na internetu bi ova linija izgledala ovako:\n",
    "# df = pd.DataFrame(data)\n",
    "data_frame = pd.DataFrame(data)\n",
    "data_frame"
   ]
  },
  {
   "attachments": {},
   "cell_type": "markdown",
   "id": "173b27a6",
   "metadata": {},
   "source": [
    "Obratite pažnju na prvu kolonu s brojevima od 0 do 4. To je kolona s indeksima redaka. Pandas je kolonu s indeksima sam kreirao. Kasnije ćemo se upoznati s mogućnostima prilagodbe ove opcije.\n",
    "\n",
    "Isto tako, nismo morali koristiti print() funkciju za ispis, nego je bilo dovoljno samo navesti naziv *DataFrame* objekta i dobili smo formatirani ispis našeg rječnika u obliku tablice.\n",
    "\n",
    "Vratit ćemo se na detaljne primjere rada s *DataFrame* objektom malo kasnije."
   ]
  },
  {
   "attachments": {},
   "cell_type": "markdown",
   "id": "13097dc7",
   "metadata": {},
   "source": [
    "### Pandas *Series* / Serija\n",
    "\n",
    "Drugi oblik podataka, za čiju obradu se koristi Pandas je *Series* ili serija kako ćemo je mi zvati. Serija predstavlja stupac u *DataFrame* tablici i zbog toga ima samo jednu dimenziju (os 0)."
   ]
  },
  {
   "cell_type": "markdown",
   "id": "83c030b8",
   "metadata": {},
   "source": [
    "<img src='./01_table_series.svg' alt=\"DataFrame\" heght=\"200\" />\n",
    "<center>Slika je preuzeta s:<br >\n",
    "<a href='https://pandas.pydata.org/pandas-docs/stable/getting_started/intro_tutorials/01_table_oriented.html'> Pandas Documentation </a><center><br >\n"
   ]
  },
  {
   "attachments": {},
   "cell_type": "markdown",
   "id": "2eb14d59",
   "metadata": {},
   "source": [
    "#### Kreiranje Serije\n",
    "\n",
    "Rekli smo da je serija jednodimenzionalni Pandas objekt, jednostavnije, to je jedan stupac neke tablice ili *DataFrame* objekta. Seriju možemo kreirati na više načina pa krenimo s najčešćim, odnosno kreiranjem iz kolone prethodno kreiranog *DataFrame* objekta.\n",
    "\n",
    "Uzet ćemo za primjer kolonu 3 i od nje kreirati seriju."
   ]
  },
  {
   "cell_type": "code",
   "execution_count": 6,
   "id": "212fe41d",
   "metadata": {},
   "outputs": [
    {
     "data": {
      "text/plain": [
       "0    K3_Podatak 1\n",
       "1    K3_Podatak 2\n",
       "2    K3_Podatak 3\n",
       "3    K3_Podatak 4\n",
       "4    K2_Podatak 5\n",
       "Name: Kolona 3, dtype: object"
      ]
     },
     "execution_count": 6,
     "metadata": {},
     "output_type": "execute_result"
    }
   ],
   "source": [
    "data_frame[\"Kolona 3\"]"
   ]
  },
  {
   "attachments": {},
   "cell_type": "markdown",
   "id": "c1dd6645",
   "metadata": {},
   "source": [
    "U liniji 1 gornje skripte, trebali biste prepoznati sintaksu za dohvat \"vrijednosti\" rječnika koja je pohranjena pod \"ključem\" navedenim u uglatim zagradama. *DataFrame* smo kreirali na osnovi rječnika, za dohvat jednog objekta *DataFramea* koristimo njegov naziv i ključ pod kojim je stupac pohranjen.\n",
    "\n",
    "**Važno je zapamtiti: ovo je samo sintaksa za pristup stupcu *DataFrame* objekta, ali ovdje se NE radi o rječniku, već o objektu koji je Pandas *DataFrame* tip podatka!**\n",
    "\n",
    "Primijetite još da serija nema naslov nego samo vrijednosti, odnosno na kraju, u zadnjem redu ispisa, naveden je naziv serije preuzet od naziva kolone *DataFramea*.\n",
    "\n",
    "Kreirajmo novi Pandas serijski objekt koji nije vezan uz *DataFrame*."
   ]
  },
  {
   "cell_type": "code",
   "execution_count": 7,
   "id": "936df1c2",
   "metadata": {},
   "outputs": [
    {
     "data": {
      "text/plain": [
       "0    5\n",
       "1    8\n",
       "2    2\n",
       "3    6\n",
       "4    5\n",
       "5    4\n",
       "6    9\n",
       "Name: Serija, dtype: int64"
      ]
     },
     "execution_count": 7,
     "metadata": {},
     "output_type": "execute_result"
    }
   ],
   "source": [
    "serija = pd.Series([5, 8, 2, 6, 5, 4, 9], name='Serija')\n",
    "serija"
   ]
  },
  {
   "attachments": {},
   "cell_type": "markdown",
   "id": "eb846c7f",
   "metadata": {},
   "source": [
    "Kreirali smo novi Pandas *Series* objekt od liste brojeva te smo mu dali ime Oznaka. Listu brojeva smo mogli kreirati zasebno u jednu varijablu te onda tu varijablu predati kao argument u *Pandas.Series()* metodu.\n",
    "\n",
    "Kako seriju nismo vezali uz kolonu nekog *DataFramea*, korisno je navesti i naziv serije pa smo za to koristili argument name. Taj naziv će se prikazati u ispisu serije. Osim naziva serije, uvijek dobijemo i podatak o tipu podataka koji su pohranjeni u seriji (*dtype*). U ovom našem slučaju to je *int64*, odnosno *Integer* ili cijeli brojevi."
   ]
  },
  {
   "attachments": {},
   "cell_type": "markdown",
   "id": "8448f55d",
   "metadata": {},
   "source": [
    "**ZADATAK**<br>\n",
    "Kreirajte nekoliko novih serija sa sljedećim tipovima podataka: *string*, decimalni brojevi, *Boolean* vrijednosti, Python liste."
   ]
  },
  {
   "cell_type": "code",
   "execution_count": 8,
   "id": "c7daf227",
   "metadata": {},
   "outputs": [],
   "source": [
    "# U ovu ćeliju upisište Vaše rješenje"
   ]
  },
  {
   "attachments": {},
   "cell_type": "markdown",
   "id": "ce620f4d",
   "metadata": {},
   "source": [
    "Pandas serija uvijek kreira jednu kolonu, u kojoj su indeksi retka u kojemu se čuva određeni podatak. Predefinirana vrijednost su cijeli brojevi počevši od 0 (nula). Za indekse možemo koristiti i druge opcije, recimo slova.\n",
    "\n",
    "**NAPOMENA: Broj članova liste indeksa MORA biti jednak broju članova liste koju smo predali kao *DATA* argument!**"
   ]
  },
  {
   "cell_type": "code",
   "execution_count": 9,
   "id": "1dba8bf5",
   "metadata": {},
   "outputs": [
    {
     "data": {
      "text/plain": [
       "a    5\n",
       "b    8\n",
       "c    2\n",
       "d    6\n",
       "dtype: int64"
      ]
     },
     "execution_count": 9,
     "metadata": {},
     "output_type": "execute_result"
    }
   ],
   "source": [
    "serija_indeksi = pd.Series([5, 8, 2, 6], index=['a', 'b', 'c', 'd'])\n",
    "serija_indeksi"
   ]
  },
  {
   "attachments": {},
   "cell_type": "markdown",
   "id": "0bd39c41",
   "metadata": {},
   "source": [
    "#### Pristup i izmjena članova serije"
   ]
  },
  {
   "attachments": {},
   "cell_type": "markdown",
   "id": "f9311378",
   "metadata": {},
   "source": [
    "Kreirajmo Pandas seriju.\n",
    "\n",
    "*Dodatna informacija: mogli smo koristiti varijablu iz prethodno kreirane ćelije ovog Jupyter Notebook dokumenta, ali ovaj put ćemo napraviti iznimku da primjer bude jasniji, a u seriju ćemo dodati još elemenata (uključujući i elemente bez vrijednosti).*"
   ]
  },
  {
   "cell_type": "code",
   "execution_count": 10,
   "id": "7cd72024",
   "metadata": {},
   "outputs": [
    {
     "data": {
      "text/plain": [
       "0     5\n",
       "1     8\n",
       "2     2\n",
       "3     6\n",
       "4     5\n",
       "5     4\n",
       "6     9\n",
       "7     7\n",
       "8     1\n",
       "9     3\n",
       "10    5\n",
       "11    3\n",
       "12    4\n",
       "13    8\n",
       "14    9\n",
       "15    8\n",
       "16    2\n",
       "17    3\n",
       "18    5\n",
       "19    2\n",
       "Name: Oznaka, dtype: int64"
      ]
     },
     "execution_count": 10,
     "metadata": {},
     "output_type": "execute_result"
    }
   ],
   "source": [
    "serija = pd.Series([5, 8, 2, 6, 5, 4, 9, 7, 1, 3, 5, 3, 4, 8, 9, 8, 2, 3, 5, 2], name='Oznaka')\n",
    "serija"
   ]
  },
  {
   "attachments": {},
   "cell_type": "markdown",
   "id": "824d184e",
   "metadata": {},
   "source": [
    "Pristupimo 5. elementu serije."
   ]
  },
  {
   "cell_type": "code",
   "execution_count": 11,
   "id": "9ad8ed8b",
   "metadata": {},
   "outputs": [
    {
     "data": {
      "text/plain": [
       "4"
      ]
     },
     "execution_count": 11,
     "metadata": {},
     "output_type": "execute_result"
    }
   ],
   "source": [
    "serija[5]"
   ]
  },
  {
   "attachments": {},
   "cell_type": "markdown",
   "id": "f8e248c3",
   "metadata": {},
   "source": [
    "Sintaksa je ista kao za Python liste. Provjerimo, vrijedi li sintaksa za dohvat više elemenata istovremeno?"
   ]
  },
  {
   "cell_type": "code",
   "execution_count": 12,
   "id": "f3172cc3",
   "metadata": {},
   "outputs": [
    {
     "data": {
      "text/plain": [
       "0     5\n",
       "1     8\n",
       "2     2\n",
       "3     6\n",
       "4     5\n",
       "5     4\n",
       "6     9\n",
       "7     7\n",
       "8     1\n",
       "9     3\n",
       "10    5\n",
       "11    3\n",
       "12    4\n",
       "13    8\n",
       "14    9\n",
       "15    8\n",
       "16    2\n",
       "17    3\n",
       "18    5\n",
       "19    2\n",
       "Name: Oznaka, dtype: int64"
      ]
     },
     "execution_count": 12,
     "metadata": {},
     "output_type": "execute_result"
    }
   ],
   "source": [
    "serija[:]"
   ]
  },
  {
   "cell_type": "code",
   "execution_count": 13,
   "id": "93858604",
   "metadata": {},
   "outputs": [
    {
     "data": {
      "text/plain": [
       "3    6\n",
       "4    5\n",
       "5    4\n",
       "6    9\n",
       "7    7\n",
       "Name: Oznaka, dtype: int64"
      ]
     },
     "execution_count": 13,
     "metadata": {},
     "output_type": "execute_result"
    }
   ],
   "source": [
    "serija[3:8]"
   ]
  },
  {
   "cell_type": "code",
   "execution_count": 14,
   "id": "c64f015e",
   "metadata": {},
   "outputs": [
    {
     "data": {
      "text/plain": [
       "3    6\n",
       "6    9\n",
       "Name: Oznaka, dtype: int64"
      ]
     },
     "execution_count": 14,
     "metadata": {},
     "output_type": "execute_result"
    }
   ],
   "source": [
    "serija[3:8:3]"
   ]
  },
  {
   "attachments": {},
   "cell_type": "markdown",
   "id": "c42da905",
   "metadata": {},
   "source": [
    "**Obratite pažnju na zadnji red u kojem je naveden naziv serije te tip podatka - i dalje se radi o istoj seriji, samo su prikazani pojedinačni elementi.**\n",
    "\n",
    "Pokušajmo pohraniti izdvojene elemente u novu varijablu i provjerimo njezin tip i naziv."
   ]
  },
  {
   "cell_type": "code",
   "execution_count": 15,
   "id": "b3d7584a",
   "metadata": {},
   "outputs": [
    {
     "data": {
      "text/plain": [
       "2    2\n",
       "5    4\n",
       "Name: Oznaka, dtype: int64"
      ]
     },
     "execution_count": 15,
     "metadata": {},
     "output_type": "execute_result"
    }
   ],
   "source": [
    "podskup = serija[2:8:3]\n",
    "podskup"
   ]
  },
  {
   "attachments": {},
   "cell_type": "markdown",
   "id": "77a6c6b2",
   "metadata": {},
   "source": [
    "Nema promjena, to je zato jer se i dalje radi o istom Pandas objektu. Kako ćemo onda kreirati novu seriju? Pokušajmo ovaj izdvojeni podskup podataka proslijediti kao *DATA* argument u *Pandas.Series()* metodu.\n",
    "\n",
    "Prije toga, bilo bi dobro koristiti *help()* metodu, koja nam može pomoći ili dati neke smjernice."
   ]
  },
  {
   "cell_type": "code",
   "execution_count": null,
   "id": "f3908d85",
   "metadata": {
    "scrolled": true
   },
   "outputs": [],
   "source": [
    "help(pd.Series)"
   ]
  },
  {
   "attachments": {},
   "cell_type": "markdown",
   "id": "3ba065ed",
   "metadata": {},
   "source": [
    "Argument *\"copy : bool, default False | Copy input data.\"* mogao bi biti zanimljiv zato jer smo sa svim dosadašnjim operacijama **uvijek čuvali reference na izvorni objekt.**"
   ]
  },
  {
   "cell_type": "code",
   "execution_count": 16,
   "id": "0521e696",
   "metadata": {},
   "outputs": [
    {
     "data": {
      "text/plain": [
       "2    2\n",
       "5    4\n",
       "Name: Podskup, dtype: int64"
      ]
     },
     "execution_count": 16,
     "metadata": {},
     "output_type": "execute_result"
    }
   ],
   "source": [
    "podskup = pd.Series(serija[2:8:3], name='Podskup', copy=True)\n",
    "podskup"
   ]
  },
  {
   "attachments": {},
   "cell_type": "markdown",
   "id": "fd141c9f",
   "metadata": {},
   "source": [
    "Ako ispišemo varijablu \"serija\", vidjet ćemo da smo sada kreirali novi Pandas *Series* objekt."
   ]
  },
  {
   "cell_type": "code",
   "execution_count": 17,
   "id": "ada91b21",
   "metadata": {
    "scrolled": false
   },
   "outputs": [
    {
     "data": {
      "text/plain": [
       "0     5\n",
       "1     8\n",
       "2     2\n",
       "3     6\n",
       "4     5\n",
       "5     4\n",
       "6     9\n",
       "7     7\n",
       "8     1\n",
       "9     3\n",
       "10    5\n",
       "11    3\n",
       "12    4\n",
       "13    8\n",
       "14    9\n",
       "15    8\n",
       "16    2\n",
       "17    3\n",
       "18    5\n",
       "19    2\n",
       "Name: Oznaka, dtype: int64"
      ]
     },
     "execution_count": 17,
     "metadata": {},
     "output_type": "execute_result"
    }
   ],
   "source": [
    "serija"
   ]
  },
  {
   "attachments": {},
   "cell_type": "markdown",
   "id": "6e7c9fb0",
   "metadata": {},
   "source": [
    "Čitanje, odnosno dohvat podataka i sintaksa su identične kao za Python liste. Provjerimo kako radi pridruživanje podataka, odnosno izmjena podataka pojedinačnih elemenata.\n",
    "\n",
    "Za primjer ćemo koristiti novi Pandas *Series* objekt \"podskup\" i promijenit ćemo prvi element."
   ]
  },
  {
   "cell_type": "code",
   "execution_count": 18,
   "id": "1d8ceaf5",
   "metadata": {},
   "outputs": [
    {
     "ename": "KeyError",
     "evalue": "0",
     "output_type": "error",
     "traceback": [
      "\u001b[0;31m---------------------------------------------------------------------------\u001b[0m",
      "\u001b[0;31mValueError\u001b[0m                                Traceback (most recent call last)",
      "\u001b[0;32m~/opt/anaconda3/lib/python3.8/site-packages/pandas/core/indexes/range.py\u001b[0m in \u001b[0;36mget_loc\u001b[0;34m(self, key, method, tolerance)\u001b[0m\n\u001b[1;32m    350\u001b[0m                 \u001b[0;32mtry\u001b[0m\u001b[0;34m:\u001b[0m\u001b[0;34m\u001b[0m\u001b[0;34m\u001b[0m\u001b[0m\n\u001b[0;32m--> 351\u001b[0;31m                     \u001b[0;32mreturn\u001b[0m \u001b[0mself\u001b[0m\u001b[0;34m.\u001b[0m\u001b[0m_range\u001b[0m\u001b[0;34m.\u001b[0m\u001b[0mindex\u001b[0m\u001b[0;34m(\u001b[0m\u001b[0mnew_key\u001b[0m\u001b[0;34m)\u001b[0m\u001b[0;34m\u001b[0m\u001b[0;34m\u001b[0m\u001b[0m\n\u001b[0m\u001b[1;32m    352\u001b[0m                 \u001b[0;32mexcept\u001b[0m \u001b[0mValueError\u001b[0m \u001b[0;32mas\u001b[0m \u001b[0merr\u001b[0m\u001b[0;34m:\u001b[0m\u001b[0;34m\u001b[0m\u001b[0;34m\u001b[0m\u001b[0m\n",
      "\u001b[0;31mValueError\u001b[0m: 0 is not in range",
      "\nThe above exception was the direct cause of the following exception:\n",
      "\u001b[0;31mKeyError\u001b[0m                                  Traceback (most recent call last)",
      "\u001b[0;32m<ipython-input-18-635677580be4>\u001b[0m in \u001b[0;36m<module>\u001b[0;34m\u001b[0m\n\u001b[0;32m----> 1\u001b[0;31m \u001b[0mpodskup\u001b[0m\u001b[0;34m[\u001b[0m\u001b[0;36m0\u001b[0m\u001b[0;34m]\u001b[0m\u001b[0;34m\u001b[0m\u001b[0;34m\u001b[0m\u001b[0m\n\u001b[0m",
      "\u001b[0;32m~/opt/anaconda3/lib/python3.8/site-packages/pandas/core/series.py\u001b[0m in \u001b[0;36m__getitem__\u001b[0;34m(self, key)\u001b[0m\n\u001b[1;32m    851\u001b[0m \u001b[0;34m\u001b[0m\u001b[0m\n\u001b[1;32m    852\u001b[0m         \u001b[0;32melif\u001b[0m \u001b[0mkey_is_scalar\u001b[0m\u001b[0;34m:\u001b[0m\u001b[0;34m\u001b[0m\u001b[0;34m\u001b[0m\u001b[0m\n\u001b[0;32m--> 853\u001b[0;31m             \u001b[0;32mreturn\u001b[0m \u001b[0mself\u001b[0m\u001b[0;34m.\u001b[0m\u001b[0m_get_value\u001b[0m\u001b[0;34m(\u001b[0m\u001b[0mkey\u001b[0m\u001b[0;34m)\u001b[0m\u001b[0;34m\u001b[0m\u001b[0;34m\u001b[0m\u001b[0m\n\u001b[0m\u001b[1;32m    854\u001b[0m \u001b[0;34m\u001b[0m\u001b[0m\n\u001b[1;32m    855\u001b[0m         \u001b[0;32mif\u001b[0m \u001b[0mis_hashable\u001b[0m\u001b[0;34m(\u001b[0m\u001b[0mkey\u001b[0m\u001b[0;34m)\u001b[0m\u001b[0;34m:\u001b[0m\u001b[0;34m\u001b[0m\u001b[0;34m\u001b[0m\u001b[0m\n",
      "\u001b[0;32m~/opt/anaconda3/lib/python3.8/site-packages/pandas/core/series.py\u001b[0m in \u001b[0;36m_get_value\u001b[0;34m(self, label, takeable)\u001b[0m\n\u001b[1;32m    959\u001b[0m \u001b[0;34m\u001b[0m\u001b[0m\n\u001b[1;32m    960\u001b[0m         \u001b[0;31m# Similar to Index.get_value, but we do not fall back to positional\u001b[0m\u001b[0;34m\u001b[0m\u001b[0;34m\u001b[0m\u001b[0;34m\u001b[0m\u001b[0m\n\u001b[0;32m--> 961\u001b[0;31m         \u001b[0mloc\u001b[0m \u001b[0;34m=\u001b[0m \u001b[0mself\u001b[0m\u001b[0;34m.\u001b[0m\u001b[0mindex\u001b[0m\u001b[0;34m.\u001b[0m\u001b[0mget_loc\u001b[0m\u001b[0;34m(\u001b[0m\u001b[0mlabel\u001b[0m\u001b[0;34m)\u001b[0m\u001b[0;34m\u001b[0m\u001b[0;34m\u001b[0m\u001b[0m\n\u001b[0m\u001b[1;32m    962\u001b[0m         \u001b[0;32mreturn\u001b[0m \u001b[0mself\u001b[0m\u001b[0;34m.\u001b[0m\u001b[0mindex\u001b[0m\u001b[0;34m.\u001b[0m\u001b[0m_get_values_for_loc\u001b[0m\u001b[0;34m(\u001b[0m\u001b[0mself\u001b[0m\u001b[0;34m,\u001b[0m \u001b[0mloc\u001b[0m\u001b[0;34m,\u001b[0m \u001b[0mlabel\u001b[0m\u001b[0;34m)\u001b[0m\u001b[0;34m\u001b[0m\u001b[0;34m\u001b[0m\u001b[0m\n\u001b[1;32m    963\u001b[0m \u001b[0;34m\u001b[0m\u001b[0m\n",
      "\u001b[0;32m~/opt/anaconda3/lib/python3.8/site-packages/pandas/core/indexes/range.py\u001b[0m in \u001b[0;36mget_loc\u001b[0;34m(self, key, method, tolerance)\u001b[0m\n\u001b[1;32m    351\u001b[0m                     \u001b[0;32mreturn\u001b[0m \u001b[0mself\u001b[0m\u001b[0;34m.\u001b[0m\u001b[0m_range\u001b[0m\u001b[0;34m.\u001b[0m\u001b[0mindex\u001b[0m\u001b[0;34m(\u001b[0m\u001b[0mnew_key\u001b[0m\u001b[0;34m)\u001b[0m\u001b[0;34m\u001b[0m\u001b[0;34m\u001b[0m\u001b[0m\n\u001b[1;32m    352\u001b[0m                 \u001b[0;32mexcept\u001b[0m \u001b[0mValueError\u001b[0m \u001b[0;32mas\u001b[0m \u001b[0merr\u001b[0m\u001b[0;34m:\u001b[0m\u001b[0;34m\u001b[0m\u001b[0;34m\u001b[0m\u001b[0m\n\u001b[0;32m--> 353\u001b[0;31m                     \u001b[0;32mraise\u001b[0m \u001b[0mKeyError\u001b[0m\u001b[0;34m(\u001b[0m\u001b[0mkey\u001b[0m\u001b[0;34m)\u001b[0m \u001b[0;32mfrom\u001b[0m \u001b[0merr\u001b[0m\u001b[0;34m\u001b[0m\u001b[0;34m\u001b[0m\u001b[0m\n\u001b[0m\u001b[1;32m    354\u001b[0m             \u001b[0;32mraise\u001b[0m \u001b[0mKeyError\u001b[0m\u001b[0;34m(\u001b[0m\u001b[0mkey\u001b[0m\u001b[0;34m)\u001b[0m\u001b[0;34m\u001b[0m\u001b[0;34m\u001b[0m\u001b[0m\n\u001b[1;32m    355\u001b[0m         \u001b[0;32mreturn\u001b[0m \u001b[0msuper\u001b[0m\u001b[0;34m(\u001b[0m\u001b[0;34m)\u001b[0m\u001b[0;34m.\u001b[0m\u001b[0mget_loc\u001b[0m\u001b[0;34m(\u001b[0m\u001b[0mkey\u001b[0m\u001b[0;34m,\u001b[0m \u001b[0mmethod\u001b[0m\u001b[0;34m=\u001b[0m\u001b[0mmethod\u001b[0m\u001b[0;34m,\u001b[0m \u001b[0mtolerance\u001b[0m\u001b[0;34m=\u001b[0m\u001b[0mtolerance\u001b[0m\u001b[0;34m)\u001b[0m\u001b[0;34m\u001b[0m\u001b[0;34m\u001b[0m\u001b[0m\n",
      "\u001b[0;31mKeyError\u001b[0m: 0"
     ]
    }
   ],
   "source": [
    "podskup[0]"
   ]
  },
  {
   "attachments": {},
   "cell_type": "markdown",
   "id": "d84e6ca8",
   "metadata": {},
   "source": [
    "Dogodio se problem. Opis greške je \"ValueError: 0 is not in range\". Očigledno nemamo indeks 0 (nula). Podskup smo dobili od elemenata iz serije \"serija\". Ispišimo ponovno članove serije \"podskup\"."
   ]
  },
  {
   "cell_type": "code",
   "execution_count": 19,
   "id": "151c89b8",
   "metadata": {},
   "outputs": [
    {
     "data": {
      "text/plain": [
       "2    2\n",
       "5    4\n",
       "Name: Podskup, dtype: int64"
      ]
     },
     "execution_count": 19,
     "metadata": {},
     "output_type": "execute_result"
    }
   ],
   "source": [
    "podskup"
   ]
  },
  {
   "attachments": {},
   "cell_type": "markdown",
   "id": "bad5e21f",
   "metadata": {},
   "source": [
    "Prva kolona prikazuje brojeve 2 i 5 kao indekse nove Pandas serije naziva Podskup, kreirane od elemenata druge Pandas serije naziva Serija. Čuvanje indeksa može biti korisno, ali korisnije je ako za kolonu Index, koja se automatski kreira, znamo da uvijek počinje od 0. Ako se indeks kolona kreira automatski, onda se može jednostavno resetirati. Idemo to napraviti pomoću metode *reset_index()*.\n",
    "\n",
    "Prvo ćemo dohvatiti listu indeksa i listu vrijednosti (rječnik - ključ/vrijednost) kako bismo provjerili njihove vrijednosti. Ovo nije nužno raditi prije resetiranja indeksa, nego je pokazano kako se to radi, a može biti korisno pri obradi podataka."
   ]
  },
  {
   "cell_type": "code",
   "execution_count": 20,
   "id": "f6f0490b",
   "metadata": {},
   "outputs": [
    {
     "data": {
      "text/plain": [
       "RangeIndex(start=2, stop=8, step=3)"
      ]
     },
     "execution_count": 20,
     "metadata": {},
     "output_type": "execute_result"
    }
   ],
   "source": [
    "podskup.index"
   ]
  },
  {
   "cell_type": "code",
   "execution_count": 21,
   "id": "e471f2d1",
   "metadata": {},
   "outputs": [
    {
     "data": {
      "text/plain": [
       "array([2, 4])"
      ]
     },
     "execution_count": 21,
     "metadata": {},
     "output_type": "execute_result"
    }
   ],
   "source": [
    "podskup.values"
   ]
  },
  {
   "cell_type": "code",
   "execution_count": 22,
   "id": "5e198fcd",
   "metadata": {},
   "outputs": [
    {
     "data": {
      "text/html": [
       "<div>\n",
       "<style scoped>\n",
       "    .dataframe tbody tr th:only-of-type {\n",
       "        vertical-align: middle;\n",
       "    }\n",
       "\n",
       "    .dataframe tbody tr th {\n",
       "        vertical-align: top;\n",
       "    }\n",
       "\n",
       "    .dataframe thead th {\n",
       "        text-align: right;\n",
       "    }\n",
       "</style>\n",
       "<table border=\"1\" class=\"dataframe\">\n",
       "  <thead>\n",
       "    <tr style=\"text-align: right;\">\n",
       "      <th></th>\n",
       "      <th>index</th>\n",
       "      <th>Podskup</th>\n",
       "    </tr>\n",
       "  </thead>\n",
       "  <tbody>\n",
       "    <tr>\n",
       "      <th>0</th>\n",
       "      <td>2</td>\n",
       "      <td>2</td>\n",
       "    </tr>\n",
       "    <tr>\n",
       "      <th>1</th>\n",
       "      <td>5</td>\n",
       "      <td>4</td>\n",
       "    </tr>\n",
       "  </tbody>\n",
       "</table>\n",
       "</div>"
      ],
      "text/plain": [
       "   index  Podskup\n",
       "0      2        2\n",
       "1      5        4"
      ]
     },
     "execution_count": 22,
     "metadata": {},
     "output_type": "execute_result"
    }
   ],
   "source": [
    "podskup.reset_index()"
   ]
  },
  {
   "attachments": {},
   "cell_type": "markdown",
   "id": "87c4f933",
   "metadata": {},
   "source": [
    "Provjerimo kako sada izgleda Pandas serija *podskup*."
   ]
  },
  {
   "cell_type": "code",
   "execution_count": 23,
   "id": "506a5e1b",
   "metadata": {},
   "outputs": [
    {
     "data": {
      "text/plain": [
       "2    2\n",
       "5    4\n",
       "Name: Podskup, dtype: int64"
      ]
     },
     "execution_count": 23,
     "metadata": {},
     "output_type": "execute_result"
    }
   ],
   "source": [
    "podskup"
   ]
  },
  {
   "attachments": {},
   "cell_type": "markdown",
   "id": "c5059512",
   "metadata": {},
   "source": [
    "Očigledno smo napravili izmjenu, ali tako da smo kreirali novi objekt koji nismo nigdje pohranili pa smo ga nakon završetka izvođenja skripte izgubili (provjerite koji bi to bio tip novog objekta - metoda *type()*).\n",
    "\n",
    "Naš cilj je napraviti \"trajnu\" izmjenu indeksa, ali na našem postojećem objektu. Zato u metodu *reset_index()* trebamo dodati dva argumenta:<br>\n",
    "- *inplace=True* - napraviti to nad postojećim objektom\n",
    "- *drop=True* - uz *inplace* obavezan argument, osigurava to da se postojeći indeksi odbace i kreiraju novi. \n",
    "\n",
    "Provjerimo je li pomoglo."
   ]
  },
  {
   "cell_type": "code",
   "execution_count": 24,
   "id": "c5cf1654",
   "metadata": {},
   "outputs": [
    {
     "data": {
      "text/plain": [
       "0    2\n",
       "1    4\n",
       "Name: Podskup, dtype: int64"
      ]
     },
     "execution_count": 24,
     "metadata": {},
     "output_type": "execute_result"
    }
   ],
   "source": [
    "podskup.reset_index(inplace=True, drop=True)\n",
    "podskup"
   ]
  },
  {
   "attachments": {},
   "cell_type": "markdown",
   "id": "fe3871c4",
   "metadata": {},
   "source": [
    "Sada je već puno bolje. Vratimo se na mijenjanje podataka u Pandas seriji. Promijenimo prvi element serije i ispišimo seriju."
   ]
  },
  {
   "cell_type": "code",
   "execution_count": 25,
   "id": "fab73717",
   "metadata": {},
   "outputs": [
    {
     "data": {
      "text/plain": [
       "0    79\n",
       "1     4\n",
       "Name: Podskup, dtype: int64"
      ]
     },
     "execution_count": 25,
     "metadata": {},
     "output_type": "execute_result"
    }
   ],
   "source": [
    "podskup[0] = 79\n",
    "podskup"
   ]
  },
  {
   "attachments": {},
   "cell_type": "markdown",
   "id": "d05ee638",
   "metadata": {},
   "source": [
    "Probajmo promijeniti prvi element u neki podatak drugačijeg tipa, recimo u tekst."
   ]
  },
  {
   "cell_type": "code",
   "execution_count": 26,
   "id": "6f466c70",
   "metadata": {},
   "outputs": [
    {
     "data": {
      "text/plain": [
       "0    Prvi element\n",
       "1               4\n",
       "Name: Podskup, dtype: object"
      ]
     },
     "execution_count": 26,
     "metadata": {},
     "output_type": "execute_result"
    }
   ],
   "source": [
    "podskup[0] = 'Prvi element'\n",
    "podskup"
   ]
  },
  {
   "attachments": {},
   "cell_type": "markdown",
   "id": "cb5770f2",
   "metadata": {},
   "source": [
    "Dakle, možemo dodavati i druge tipove podataka. Isto kao i u Python listi."
   ]
  },
  {
   "attachments": {},
   "cell_type": "markdown",
   "id": "ceb4bd50",
   "metadata": {},
   "source": [
    "#### Filtriranje podataka\n",
    "\n",
    "Zahvaljujući činjenici da je Pandas razvijen na NumPy biblioteci, dobili smo neke funkcionalnosti nad Pandas tipovima podataka. Probajmo filtrirati podatke u seriji tako da dohvatimo samo one veće od 6."
   ]
  },
  {
   "cell_type": "code",
   "execution_count": 27,
   "id": "09ef36ed",
   "metadata": {},
   "outputs": [
    {
     "data": {
      "text/plain": [
       "0     5\n",
       "1     8\n",
       "2     2\n",
       "3     6\n",
       "4     5\n",
       "5     4\n",
       "6     9\n",
       "7     7\n",
       "8     1\n",
       "9     3\n",
       "10    5\n",
       "11    3\n",
       "12    4\n",
       "13    8\n",
       "14    9\n",
       "15    8\n",
       "16    2\n",
       "17    3\n",
       "18    5\n",
       "19    2\n",
       "Name: Oznaka, dtype: int64"
      ]
     },
     "execution_count": 27,
     "metadata": {},
     "output_type": "execute_result"
    }
   ],
   "source": [
    "serija"
   ]
  },
  {
   "cell_type": "code",
   "execution_count": 28,
   "id": "03aacfae",
   "metadata": {},
   "outputs": [
    {
     "data": {
      "text/plain": [
       "1     8\n",
       "6     9\n",
       "7     7\n",
       "13    8\n",
       "14    9\n",
       "15    8\n",
       "Name: Oznaka, dtype: int64"
      ]
     },
     "execution_count": 28,
     "metadata": {},
     "output_type": "execute_result"
    }
   ],
   "source": [
    "serija[serija > 6]"
   ]
  },
  {
   "attachments": {},
   "cell_type": "markdown",
   "id": "586babcc",
   "metadata": {},
   "source": [
    "Uzmimo, na primjer, da naša serija sadrži postotke uz neke podatke. Da bismo mogli računati s postotcima,  moramo ih pretvoriti u decimalni oblik 0,nn (5% = 0,05). Umjesto da koristimo *for* petlju u Pythonu, to možemo napraviti puno jednostavnije, tako da varijablu *serija* podijelimo sa 100."
   ]
  },
  {
   "cell_type": "code",
   "execution_count": 29,
   "id": "8cbfaca6",
   "metadata": {},
   "outputs": [
    {
     "data": {
      "text/plain": [
       "0     0.05\n",
       "1     0.08\n",
       "2     0.02\n",
       "3     0.06\n",
       "4     0.05\n",
       "5     0.04\n",
       "6     0.09\n",
       "7     0.07\n",
       "8     0.01\n",
       "9     0.03\n",
       "10    0.05\n",
       "11    0.03\n",
       "12    0.04\n",
       "13    0.08\n",
       "14    0.09\n",
       "15    0.08\n",
       "16    0.02\n",
       "17    0.03\n",
       "18    0.05\n",
       "19    0.02\n",
       "Name: Oznaka, dtype: float64"
      ]
     },
     "execution_count": 29,
     "metadata": {},
     "output_type": "execute_result"
    }
   ],
   "source": [
    "serija / 100"
   ]
  },
  {
   "attachments": {},
   "cell_type": "markdown",
   "id": "60b9d63c",
   "metadata": {},
   "source": [
    "Sada možemo koristiti vrijednosti podataka u seriji kao postotak.\n",
    "\n",
    "Možda ste primijetili da serija ima dosta istih brojeva. Napravimo filter koji će nam prikazati vrijednosti elemenata samo jednom, bez obzira koliko se puta taj element ponavljao."
   ]
  },
  {
   "cell_type": "code",
   "execution_count": 30,
   "id": "953a9526",
   "metadata": {},
   "outputs": [
    {
     "data": {
      "text/plain": [
       "array([5, 8, 2, 6, 4, 9, 7, 1, 3])"
      ]
     },
     "execution_count": 30,
     "metadata": {},
     "output_type": "execute_result"
    }
   ],
   "source": [
    "serija.unique()"
   ]
  },
  {
   "attachments": {},
   "cell_type": "markdown",
   "id": "80e9eaa0",
   "metadata": {},
   "source": [
    "Dobro je znati koje elemente imamo jedinstvene u našoj seriji, ali bi bilo dobro imati i informaciju koliko puta se taj broj ponavlja. To nam omogućava metoda *value_counts()* dostupna nad Pandas *Series* objektom. \n",
    "\n",
    "Provjerimo."
   ]
  },
  {
   "cell_type": "code",
   "execution_count": 31,
   "id": "ffa04215",
   "metadata": {},
   "outputs": [
    {
     "data": {
      "text/plain": [
       "1    1\n",
       "6    1\n",
       "7    1\n",
       "4    2\n",
       "9    2\n",
       "2    3\n",
       "3    3\n",
       "8    3\n",
       "5    4\n",
       "Name: Oznaka, dtype: int64"
      ]
     },
     "execution_count": 31,
     "metadata": {},
     "output_type": "execute_result"
    }
   ],
   "source": [
    "serija.value_counts().sort_values()"
   ]
  },
  {
   "attachments": {},
   "cell_type": "markdown",
   "id": "f6ca6f63",
   "metadata": {},
   "source": [
    "Prvi stupac prikazuje vrijednost (jedinstvenu), a drugi stupac prikazuje koliko se puta pojavljuje ta vrijednost u seriji. Dodali smo i još jednu metodu *sort_values()* koja sortira vrijednosti serije, što se može zaključiti iz naziva metode.\n",
    "\n",
    "Ponekad želimo provjeriti postoje li u našoj seriji neki elementi. Vidjet ćemo kasnije zašto nam je to korisno."
   ]
  },
  {
   "cell_type": "code",
   "execution_count": 32,
   "id": "249ce5a4",
   "metadata": {},
   "outputs": [
    {
     "data": {
      "text/plain": [
       "0      True\n",
       "1     False\n",
       "2     False\n",
       "3     False\n",
       "4      True\n",
       "5     False\n",
       "6      True\n",
       "7     False\n",
       "8     False\n",
       "9     False\n",
       "10     True\n",
       "11    False\n",
       "12    False\n",
       "13    False\n",
       "14     True\n",
       "15    False\n",
       "16    False\n",
       "17    False\n",
       "18     True\n",
       "19    False\n",
       "Name: Oznaka, dtype: bool"
      ]
     },
     "execution_count": 32,
     "metadata": {},
     "output_type": "execute_result"
    }
   ],
   "source": [
    "serija.isin([0, 5, 9])"
   ]
  },
  {
   "attachments": {},
   "cell_type": "markdown",
   "id": "e131e12e",
   "metadata": {},
   "source": [
    "Ponekad je korisno umjesto *Boolean* vrijednosti *True/False* dohvatiti vrijednosti elemenata koji zadovoljavaju uvjet te njihove indekse. \n",
    "\n",
    "Čitljivije je."
   ]
  },
  {
   "cell_type": "code",
   "execution_count": 33,
   "id": "84499501",
   "metadata": {},
   "outputs": [
    {
     "data": {
      "text/plain": [
       "0     5\n",
       "4     5\n",
       "6     9\n",
       "10    5\n",
       "14    9\n",
       "18    5\n",
       "Name: Oznaka, dtype: int64"
      ]
     },
     "execution_count": 33,
     "metadata": {},
     "output_type": "execute_result"
    }
   ],
   "source": [
    "serija[serija.isin([0, 5, 9])]"
   ]
  },
  {
   "attachments": {},
   "cell_type": "markdown",
   "id": "660b2f56",
   "metadata": {},
   "source": [
    "To je dovoljno informacija o Pandas *Series* objektu. Vrijeme je za vježbu.\n",
    "\n",
    "**Zadatak**<br>\n",
    "Generirajte nasumičnih 100 brojeva te ih pohranite u Python listu. Od te liste kreirajte Pandas seriju te joj dajte nekakav naziv.\n",
    "- Provjerite, koliko ima brojeva koji se ponavljaju te koliko se puta svaki od njih ponavlja?\n",
    "- Koji je broj najveći, a koji najmanji?\n",
    "- Modificirajte podatke u seriji tako da se svedu na postotke (neka budu u rasponu od 0 do 1).\n",
    "- Promijenite vrijednosti najvećeg broja tako da je identična vrijednosti najmanjeg broja. Provjerite koji je sada najveći broj.\n",
    "\n",
    "**Zadatak**<br>\n",
    "Tekst za obradu:<br>\n",
    "*Lorem ipsum dolor sit amet, consectetur adipiscing elit, sed do eiusmod tempor incididunt ut labore et dolore magna aliqua. Ut enim ad minim veniam, quis nostrud exercitation ullamco laboris nisi ut aliquip ex ea commodo consequat. Duis aute irure dolor in reprehenderit in voluptate velit esse cillum dolore eu fugiat nulla pariatur. Excepteur sint occaecat cupidatat non proident, sunt in culpa qui officia deserunt mollit anim id est laborum.*\n",
    "\n",
    "Obradite gore navedeni tekst tako da od njega kreirate listu riječi koje imaju sva mala slova i nemaju znakove interpunkcije. Od te liste kreirajte Pandas seriju te joj dajte nekakav naziv.\n",
    "- Provjerite, koliko ima riječi koje se ponavljaju te koliko puta se svaka od njih ponavlja?\n",
    "- Provjerite koja je najduža, a koja najkraća riječ."
   ]
  },
  {
   "attachments": {},
   "cell_type": "markdown",
   "id": "6361fbe4",
   "metadata": {},
   "source": [
    "### *DataFrame*\n",
    "\n",
    "Vratimo se na *DataFrame* objekt i upoznajmo se s njegovim mogućnostima.\n",
    "\n",
    "Na početku smo kreirali jedan *DataFrame* (dalje u tekstu DF) na osnovi rječnika u kojem su podaci bili bez pravog smisla. Sada ćemo napraviti isto dok ne dođemo do dijela kada ćemo DF kreirati na osnovi podataka iz neke .csv datoteke. Koristit ćemo podatke o proizvodima (naziv, cijena, kategorija, ocjena)."
   ]
  },
  {
   "cell_type": "code",
   "execution_count": 34,
   "id": "c8cb97b5",
   "metadata": {},
   "outputs": [
    {
     "data": {
      "text/html": [
       "<div>\n",
       "<style scoped>\n",
       "    .dataframe tbody tr th:only-of-type {\n",
       "        vertical-align: middle;\n",
       "    }\n",
       "\n",
       "    .dataframe tbody tr th {\n",
       "        vertical-align: top;\n",
       "    }\n",
       "\n",
       "    .dataframe thead th {\n",
       "        text-align: right;\n",
       "    }\n",
       "</style>\n",
       "<table border=\"1\" class=\"dataframe\">\n",
       "  <thead>\n",
       "    <tr style=\"text-align: right;\">\n",
       "      <th></th>\n",
       "      <th>Naziv</th>\n",
       "      <th>Cijena</th>\n",
       "      <th>Kategorija</th>\n",
       "      <th>Ocjena</th>\n",
       "    </tr>\n",
       "  </thead>\n",
       "  <tbody>\n",
       "    <tr>\n",
       "      <th>0</th>\n",
       "      <td>Trek</td>\n",
       "      <td>7699.0</td>\n",
       "      <td>Bicikl</td>\n",
       "      <td>6.70</td>\n",
       "    </tr>\n",
       "    <tr>\n",
       "      <th>1</th>\n",
       "      <td>Kona</td>\n",
       "      <td>4699.0</td>\n",
       "      <td>Bicikl</td>\n",
       "      <td>6.50</td>\n",
       "    </tr>\n",
       "    <tr>\n",
       "      <th>2</th>\n",
       "      <td>Giant</td>\n",
       "      <td>5999.0</td>\n",
       "      <td>Bicikl</td>\n",
       "      <td>6.65</td>\n",
       "    </tr>\n",
       "    <tr>\n",
       "      <th>3</th>\n",
       "      <td>Bianchi</td>\n",
       "      <td>22499.0</td>\n",
       "      <td>Bicikl</td>\n",
       "      <td>7.20</td>\n",
       "    </tr>\n",
       "    <tr>\n",
       "      <th>4</th>\n",
       "      <td>Cosmo Ride</td>\n",
       "      <td>2599.0</td>\n",
       "      <td>E-Romobil</td>\n",
       "      <td>8.64</td>\n",
       "    </tr>\n",
       "    <tr>\n",
       "      <th>5</th>\n",
       "      <td>Neon</td>\n",
       "      <td>1999.0</td>\n",
       "      <td>E-Romobil</td>\n",
       "      <td>8.61</td>\n",
       "    </tr>\n",
       "    <tr>\n",
       "      <th>6</th>\n",
       "      <td>Zeeclo</td>\n",
       "      <td>2799.0</td>\n",
       "      <td>E-Romobil</td>\n",
       "      <td>8.59</td>\n",
       "    </tr>\n",
       "    <tr>\n",
       "      <th>7</th>\n",
       "      <td>Atomic</td>\n",
       "      <td>1499.0</td>\n",
       "      <td>Skije</td>\n",
       "      <td>7.99</td>\n",
       "    </tr>\n",
       "    <tr>\n",
       "      <th>8</th>\n",
       "      <td>Head</td>\n",
       "      <td>1359.0</td>\n",
       "      <td>Skije</td>\n",
       "      <td>8.15</td>\n",
       "    </tr>\n",
       "    <tr>\n",
       "      <th>9</th>\n",
       "      <td>Elan</td>\n",
       "      <td>1499.0</td>\n",
       "      <td>Skije</td>\n",
       "      <td>8.05</td>\n",
       "    </tr>\n",
       "    <tr>\n",
       "      <th>10</th>\n",
       "      <td>Salomon</td>\n",
       "      <td>1699.0</td>\n",
       "      <td>Skije</td>\n",
       "      <td>7.91</td>\n",
       "    </tr>\n",
       "    <tr>\n",
       "      <th>11</th>\n",
       "      <td>Rossignol</td>\n",
       "      <td>999.0</td>\n",
       "      <td>Skije</td>\n",
       "      <td>6.10</td>\n",
       "    </tr>\n",
       "  </tbody>\n",
       "</table>\n",
       "</div>"
      ],
      "text/plain": [
       "         Naziv   Cijena Kategorija  Ocjena\n",
       "0         Trek   7699.0     Bicikl    6.70\n",
       "1         Kona   4699.0     Bicikl    6.50\n",
       "2        Giant   5999.0     Bicikl    6.65\n",
       "3      Bianchi  22499.0     Bicikl    7.20\n",
       "4   Cosmo Ride   2599.0  E-Romobil    8.64\n",
       "5         Neon   1999.0  E-Romobil    8.61\n",
       "6       Zeeclo   2799.0  E-Romobil    8.59\n",
       "7       Atomic   1499.0      Skije    7.99\n",
       "8         Head   1359.0      Skije    8.15\n",
       "9         Elan   1499.0      Skije    8.05\n",
       "10     Salomon   1699.0      Skije    7.91\n",
       "11   Rossignol    999.0      Skije    6.10"
      ]
     },
     "execution_count": 34,
     "metadata": {},
     "output_type": "execute_result"
    }
   ],
   "source": [
    "proizvodi_baza = {\n",
    "    'Naziv': [\n",
    "        'Trek', 'Kona', 'Giant', \n",
    "        'Bianchi', 'Cosmo Ride', 'Neon', \n",
    "        'Zeeclo', 'Atomic', 'Head', \n",
    "        'Elan', 'Salomon', 'Rossignol'\n",
    "    ],\n",
    "    'Cijena': [\n",
    "        7699.00, 4699.00, 5999.00, \n",
    "        22499.00, 2599.00, 1999.00, \n",
    "        2799.00, 1499.00, 1359.00, \n",
    "        1499.00, 1699.00, 999.00\n",
    "    ],\n",
    "    'Kategorija': [\n",
    "        'Bicikl', 'Bicikl', 'Bicikl', \n",
    "        'Bicikl', 'E-Romobil', 'E-Romobil',\n",
    "        'E-Romobil', 'Skije', 'Skije', \n",
    "        'Skije', 'Skije', 'Skije'\n",
    "    ],\n",
    "    'Ocjena': [\n",
    "        6.70, 6.50, 6.65, \n",
    "        7.20, 8.64, 8.61, \n",
    "        8.59, 7.99, 8.15,\n",
    "        8.05, 7.91, 6.10\n",
    "    ]\n",
    "}\n",
    "\n",
    "proizvodi_svi = pd.DataFrame(proizvodi_baza)\n",
    "proizvodi_svi"
   ]
  },
  {
   "attachments": {},
   "cell_type": "markdown",
   "id": "4ef0f939",
   "metadata": {},
   "source": [
    "Možda nam ne trebaju svi podaci, nego samo \"naziv proizvoda\" te \"cijena\". Kreirajmo DF samo od tih podataka."
   ]
  },
  {
   "cell_type": "code",
   "execution_count": 35,
   "id": "5fc2d086",
   "metadata": {},
   "outputs": [
    {
     "data": {
      "text/html": [
       "<div>\n",
       "<style scoped>\n",
       "    .dataframe tbody tr th:only-of-type {\n",
       "        vertical-align: middle;\n",
       "    }\n",
       "\n",
       "    .dataframe tbody tr th {\n",
       "        vertical-align: top;\n",
       "    }\n",
       "\n",
       "    .dataframe thead th {\n",
       "        text-align: right;\n",
       "    }\n",
       "</style>\n",
       "<table border=\"1\" class=\"dataframe\">\n",
       "  <thead>\n",
       "    <tr style=\"text-align: right;\">\n",
       "      <th></th>\n",
       "      <th>Naziv</th>\n",
       "      <th>Cijena</th>\n",
       "    </tr>\n",
       "  </thead>\n",
       "  <tbody>\n",
       "    <tr>\n",
       "      <th>0</th>\n",
       "      <td>Trek</td>\n",
       "      <td>7699.0</td>\n",
       "    </tr>\n",
       "    <tr>\n",
       "      <th>1</th>\n",
       "      <td>Kona</td>\n",
       "      <td>4699.0</td>\n",
       "    </tr>\n",
       "    <tr>\n",
       "      <th>2</th>\n",
       "      <td>Giant</td>\n",
       "      <td>5999.0</td>\n",
       "    </tr>\n",
       "    <tr>\n",
       "      <th>3</th>\n",
       "      <td>Bianchi</td>\n",
       "      <td>22499.0</td>\n",
       "    </tr>\n",
       "    <tr>\n",
       "      <th>4</th>\n",
       "      <td>Cosmo Ride</td>\n",
       "      <td>2599.0</td>\n",
       "    </tr>\n",
       "    <tr>\n",
       "      <th>5</th>\n",
       "      <td>Neon</td>\n",
       "      <td>1999.0</td>\n",
       "    </tr>\n",
       "    <tr>\n",
       "      <th>6</th>\n",
       "      <td>Zeeclo</td>\n",
       "      <td>2799.0</td>\n",
       "    </tr>\n",
       "    <tr>\n",
       "      <th>7</th>\n",
       "      <td>Atomic</td>\n",
       "      <td>1499.0</td>\n",
       "    </tr>\n",
       "    <tr>\n",
       "      <th>8</th>\n",
       "      <td>Head</td>\n",
       "      <td>1359.0</td>\n",
       "    </tr>\n",
       "    <tr>\n",
       "      <th>9</th>\n",
       "      <td>Elan</td>\n",
       "      <td>1499.0</td>\n",
       "    </tr>\n",
       "    <tr>\n",
       "      <th>10</th>\n",
       "      <td>Salomon</td>\n",
       "      <td>1699.0</td>\n",
       "    </tr>\n",
       "    <tr>\n",
       "      <th>11</th>\n",
       "      <td>Rossignol</td>\n",
       "      <td>999.0</td>\n",
       "    </tr>\n",
       "  </tbody>\n",
       "</table>\n",
       "</div>"
      ],
      "text/plain": [
       "         Naziv   Cijena\n",
       "0         Trek   7699.0\n",
       "1         Kona   4699.0\n",
       "2        Giant   5999.0\n",
       "3      Bianchi  22499.0\n",
       "4   Cosmo Ride   2599.0\n",
       "5         Neon   1999.0\n",
       "6       Zeeclo   2799.0\n",
       "7       Atomic   1499.0\n",
       "8         Head   1359.0\n",
       "9         Elan   1499.0\n",
       "10     Salomon   1699.0\n",
       "11   Rossignol    999.0"
      ]
     },
     "execution_count": 35,
     "metadata": {},
     "output_type": "execute_result"
    }
   ],
   "source": [
    "proizvodi_dio = pd.DataFrame(proizvodi_baza, columns=['Naziv', 'Cijena'])\n",
    "proizvodi_dio"
   ]
  },
  {
   "attachments": {},
   "cell_type": "markdown",
   "id": "ba5ad711",
   "metadata": {},
   "source": [
    "Ovaj naš DF objekt je jednostavan, ali ćemo često raditi s puno većim tablicama preuzetim iz .csv datoteka i trebat ćemo se upoznati s tim podacima. Jedan od koraka je provjeriti nazive svih kolona."
   ]
  },
  {
   "cell_type": "code",
   "execution_count": 38,
   "id": "46c14a36",
   "metadata": {},
   "outputs": [
    {
     "data": {
      "text/plain": [
       "Index(['Naziv', 'Cijena', 'Kategorija', 'Ocjena'], dtype='object')"
      ]
     },
     "execution_count": 38,
     "metadata": {},
     "output_type": "execute_result"
    }
   ],
   "source": [
    "proizvodi_svi.columns"
   ]
  },
  {
   "attachments": {},
   "cell_type": "markdown",
   "id": "1aa444ce",
   "metadata": {},
   "source": [
    "Onda postoji mogućnost dohvata samo vrijednosti, bez naziva kolona."
   ]
  },
  {
   "cell_type": "code",
   "execution_count": 39,
   "id": "ccd1dc4f",
   "metadata": {},
   "outputs": [
    {
     "data": {
      "text/plain": [
       "array([['Trek', 7699.0, 'Bicikl', 6.7],\n",
       "       ['Kona', 4699.0, 'Bicikl', 6.5],\n",
       "       ['Giant', 5999.0, 'Bicikl', 6.65],\n",
       "       ['Bianchi', 22499.0, 'Bicikl', 7.2],\n",
       "       ['Cosmo Ride', 2599.0, 'E-Romobil', 8.64],\n",
       "       ['Neon', 1999.0, 'E-Romobil', 8.61],\n",
       "       ['Zeeclo', 2799.0, 'E-Romobil', 8.59],\n",
       "       ['Atomic', 1499.0, 'Skije', 7.99],\n",
       "       ['Head', 1359.0, 'Skije', 8.15],\n",
       "       ['Elan', 1499.0, 'Skije', 8.05],\n",
       "       ['Salomon', 1699.0, 'Skije', 7.91],\n",
       "       ['Rossignol', 999.0, 'Skije', 6.1]], dtype=object)"
      ]
     },
     "execution_count": 39,
     "metadata": {},
     "output_type": "execute_result"
    }
   ],
   "source": [
    "proizvodi_svi.values"
   ]
  },
  {
   "attachments": {},
   "cell_type": "markdown",
   "id": "a9330ab2",
   "metadata": {},
   "source": [
    "**NAPOMENA: Kasnije ćemo pojasniti tip rezultata \"array(\\[...\\])\" zato jer je vezan uz NumPy.**\n",
    "\n",
    "Možemo li možda dohvatiti i indekse kao u Pandas *Series* objektu? Provjerimo."
   ]
  },
  {
   "cell_type": "code",
   "execution_count": 41,
   "id": "21520b08",
   "metadata": {},
   "outputs": [
    {
     "data": {
      "text/plain": [
       "RangeIndex(start=0, stop=12, step=1)"
      ]
     },
     "execution_count": 41,
     "metadata": {},
     "output_type": "execute_result"
    }
   ],
   "source": [
    "proizvodi_svi.index"
   ]
  },
  {
   "attachments": {},
   "cell_type": "markdown",
   "id": "e07818c3",
   "metadata": {},
   "source": [
    "Indeksi se kreću u rasponu od 0 (uključeno) do 12 (isključeno) i korak je 1. Dakle, od 0 do 11.\n",
    "\n",
    "Sve kolone imaju naziv preuzet iz \"ključa\" rječnika od kojeg smo kreirali DF, dok ga samo generirana kolona s indeksima nema. Dodajmo i njoj naziv \"Id\"."
   ]
  },
  {
   "cell_type": "code",
   "execution_count": 42,
   "id": "7c699700",
   "metadata": {},
   "outputs": [
    {
     "data": {
      "text/html": [
       "<div>\n",
       "<style scoped>\n",
       "    .dataframe tbody tr th:only-of-type {\n",
       "        vertical-align: middle;\n",
       "    }\n",
       "\n",
       "    .dataframe tbody tr th {\n",
       "        vertical-align: top;\n",
       "    }\n",
       "\n",
       "    .dataframe thead th {\n",
       "        text-align: right;\n",
       "    }\n",
       "</style>\n",
       "<table border=\"1\" class=\"dataframe\">\n",
       "  <thead>\n",
       "    <tr style=\"text-align: right;\">\n",
       "      <th></th>\n",
       "      <th>Naziv</th>\n",
       "      <th>Cijena</th>\n",
       "      <th>Kategorija</th>\n",
       "      <th>Ocjena</th>\n",
       "    </tr>\n",
       "    <tr>\n",
       "      <th>Id</th>\n",
       "      <th></th>\n",
       "      <th></th>\n",
       "      <th></th>\n",
       "      <th></th>\n",
       "    </tr>\n",
       "  </thead>\n",
       "  <tbody>\n",
       "    <tr>\n",
       "      <th>0</th>\n",
       "      <td>Trek</td>\n",
       "      <td>7699.0</td>\n",
       "      <td>Bicikl</td>\n",
       "      <td>6.70</td>\n",
       "    </tr>\n",
       "    <tr>\n",
       "      <th>1</th>\n",
       "      <td>Kona</td>\n",
       "      <td>4699.0</td>\n",
       "      <td>Bicikl</td>\n",
       "      <td>6.50</td>\n",
       "    </tr>\n",
       "    <tr>\n",
       "      <th>2</th>\n",
       "      <td>Giant</td>\n",
       "      <td>5999.0</td>\n",
       "      <td>Bicikl</td>\n",
       "      <td>6.65</td>\n",
       "    </tr>\n",
       "    <tr>\n",
       "      <th>3</th>\n",
       "      <td>Bianchi</td>\n",
       "      <td>22499.0</td>\n",
       "      <td>Bicikl</td>\n",
       "      <td>7.20</td>\n",
       "    </tr>\n",
       "    <tr>\n",
       "      <th>4</th>\n",
       "      <td>Cosmo Ride</td>\n",
       "      <td>2599.0</td>\n",
       "      <td>E-Romobil</td>\n",
       "      <td>8.64</td>\n",
       "    </tr>\n",
       "    <tr>\n",
       "      <th>5</th>\n",
       "      <td>Neon</td>\n",
       "      <td>1999.0</td>\n",
       "      <td>E-Romobil</td>\n",
       "      <td>8.61</td>\n",
       "    </tr>\n",
       "    <tr>\n",
       "      <th>6</th>\n",
       "      <td>Zeeclo</td>\n",
       "      <td>2799.0</td>\n",
       "      <td>E-Romobil</td>\n",
       "      <td>8.59</td>\n",
       "    </tr>\n",
       "    <tr>\n",
       "      <th>7</th>\n",
       "      <td>Atomic</td>\n",
       "      <td>1499.0</td>\n",
       "      <td>Skije</td>\n",
       "      <td>7.99</td>\n",
       "    </tr>\n",
       "    <tr>\n",
       "      <th>8</th>\n",
       "      <td>Head</td>\n",
       "      <td>1359.0</td>\n",
       "      <td>Skije</td>\n",
       "      <td>8.15</td>\n",
       "    </tr>\n",
       "    <tr>\n",
       "      <th>9</th>\n",
       "      <td>Elan</td>\n",
       "      <td>1499.0</td>\n",
       "      <td>Skije</td>\n",
       "      <td>8.05</td>\n",
       "    </tr>\n",
       "    <tr>\n",
       "      <th>10</th>\n",
       "      <td>Salomon</td>\n",
       "      <td>1699.0</td>\n",
       "      <td>Skije</td>\n",
       "      <td>7.91</td>\n",
       "    </tr>\n",
       "    <tr>\n",
       "      <th>11</th>\n",
       "      <td>Rossignol</td>\n",
       "      <td>999.0</td>\n",
       "      <td>Skije</td>\n",
       "      <td>6.10</td>\n",
       "    </tr>\n",
       "  </tbody>\n",
       "</table>\n",
       "</div>"
      ],
      "text/plain": [
       "         Naziv   Cijena Kategorija  Ocjena\n",
       "Id                                        \n",
       "0         Trek   7699.0     Bicikl    6.70\n",
       "1         Kona   4699.0     Bicikl    6.50\n",
       "2        Giant   5999.0     Bicikl    6.65\n",
       "3      Bianchi  22499.0     Bicikl    7.20\n",
       "4   Cosmo Ride   2599.0  E-Romobil    8.64\n",
       "5         Neon   1999.0  E-Romobil    8.61\n",
       "6       Zeeclo   2799.0  E-Romobil    8.59\n",
       "7       Atomic   1499.0      Skije    7.99\n",
       "8         Head   1359.0      Skije    8.15\n",
       "9         Elan   1499.0      Skije    8.05\n",
       "10     Salomon   1699.0      Skije    7.91\n",
       "11   Rossignol    999.0      Skije    6.10"
      ]
     },
     "execution_count": 42,
     "metadata": {},
     "output_type": "execute_result"
    }
   ],
   "source": [
    "proizvodi_svi.index.name = 'Id'\n",
    "proizvodi_svi"
   ]
  },
  {
   "attachments": {},
   "cell_type": "markdown",
   "id": "253854b4",
   "metadata": {},
   "source": [
    "Ako želimo izdvojiti samo jednu kolonu (Pandas seriju), to već znamo. Treba samo navesti naziv DF-a i u uglatim zagradama naziv kolone."
   ]
  },
  {
   "cell_type": "code",
   "execution_count": 43,
   "id": "775e4ba6",
   "metadata": {},
   "outputs": [
    {
     "data": {
      "text/plain": [
       "Id\n",
       "0     6.70\n",
       "1     6.50\n",
       "2     6.65\n",
       "3     7.20\n",
       "4     8.64\n",
       "5     8.61\n",
       "6     8.59\n",
       "7     7.99\n",
       "8     8.15\n",
       "9     8.05\n",
       "10    7.91\n",
       "11    6.10\n",
       "Name: Ocjena, dtype: float64"
      ]
     },
     "execution_count": 43,
     "metadata": {},
     "output_type": "execute_result"
    }
   ],
   "source": [
    "proizvodi_svi['Ocjena']"
   ]
  },
  {
   "attachments": {},
   "cell_type": "markdown",
   "id": "f72d822a",
   "metadata": {},
   "source": [
    "Ovo je bilo lako, no što kada trebamo dohvatiti jedan ili tri reda za koje znamo njihove indekse? Možda Python sintaksa može pomoći. Provjerimo."
   ]
  },
  {
   "cell_type": "code",
   "execution_count": 44,
   "id": "a650aa9b",
   "metadata": {},
   "outputs": [
    {
     "ename": "KeyError",
     "evalue": "2",
     "output_type": "error",
     "traceback": [
      "\u001b[0;31m---------------------------------------------------------------------------\u001b[0m",
      "\u001b[0;31mKeyError\u001b[0m                                  Traceback (most recent call last)",
      "\u001b[0;32m~/opt/anaconda3/lib/python3.8/site-packages/pandas/core/indexes/base.py\u001b[0m in \u001b[0;36mget_loc\u001b[0;34m(self, key, method, tolerance)\u001b[0m\n\u001b[1;32m   3079\u001b[0m             \u001b[0;32mtry\u001b[0m\u001b[0;34m:\u001b[0m\u001b[0;34m\u001b[0m\u001b[0;34m\u001b[0m\u001b[0m\n\u001b[0;32m-> 3080\u001b[0;31m                 \u001b[0;32mreturn\u001b[0m \u001b[0mself\u001b[0m\u001b[0;34m.\u001b[0m\u001b[0m_engine\u001b[0m\u001b[0;34m.\u001b[0m\u001b[0mget_loc\u001b[0m\u001b[0;34m(\u001b[0m\u001b[0mcasted_key\u001b[0m\u001b[0;34m)\u001b[0m\u001b[0;34m\u001b[0m\u001b[0;34m\u001b[0m\u001b[0m\n\u001b[0m\u001b[1;32m   3081\u001b[0m             \u001b[0;32mexcept\u001b[0m \u001b[0mKeyError\u001b[0m \u001b[0;32mas\u001b[0m \u001b[0merr\u001b[0m\u001b[0;34m:\u001b[0m\u001b[0;34m\u001b[0m\u001b[0;34m\u001b[0m\u001b[0m\n",
      "\u001b[0;32mpandas/_libs/index.pyx\u001b[0m in \u001b[0;36mpandas._libs.index.IndexEngine.get_loc\u001b[0;34m()\u001b[0m\n",
      "\u001b[0;32mpandas/_libs/index.pyx\u001b[0m in \u001b[0;36mpandas._libs.index.IndexEngine.get_loc\u001b[0;34m()\u001b[0m\n",
      "\u001b[0;32mpandas/_libs/hashtable_class_helper.pxi\u001b[0m in \u001b[0;36mpandas._libs.hashtable.PyObjectHashTable.get_item\u001b[0;34m()\u001b[0m\n",
      "\u001b[0;32mpandas/_libs/hashtable_class_helper.pxi\u001b[0m in \u001b[0;36mpandas._libs.hashtable.PyObjectHashTable.get_item\u001b[0;34m()\u001b[0m\n",
      "\u001b[0;31mKeyError\u001b[0m: 2",
      "\nThe above exception was the direct cause of the following exception:\n",
      "\u001b[0;31mKeyError\u001b[0m                                  Traceback (most recent call last)",
      "\u001b[0;32m<ipython-input-44-50cefa232de7>\u001b[0m in \u001b[0;36m<module>\u001b[0;34m\u001b[0m\n\u001b[0;32m----> 1\u001b[0;31m \u001b[0mproizvodi_svi\u001b[0m\u001b[0;34m[\u001b[0m\u001b[0;36m2\u001b[0m\u001b[0;34m]\u001b[0m\u001b[0;34m\u001b[0m\u001b[0;34m\u001b[0m\u001b[0m\n\u001b[0m",
      "\u001b[0;32m~/opt/anaconda3/lib/python3.8/site-packages/pandas/core/frame.py\u001b[0m in \u001b[0;36m__getitem__\u001b[0;34m(self, key)\u001b[0m\n\u001b[1;32m   3022\u001b[0m             \u001b[0;32mif\u001b[0m \u001b[0mself\u001b[0m\u001b[0;34m.\u001b[0m\u001b[0mcolumns\u001b[0m\u001b[0;34m.\u001b[0m\u001b[0mnlevels\u001b[0m \u001b[0;34m>\u001b[0m \u001b[0;36m1\u001b[0m\u001b[0;34m:\u001b[0m\u001b[0;34m\u001b[0m\u001b[0;34m\u001b[0m\u001b[0m\n\u001b[1;32m   3023\u001b[0m                 \u001b[0;32mreturn\u001b[0m \u001b[0mself\u001b[0m\u001b[0;34m.\u001b[0m\u001b[0m_getitem_multilevel\u001b[0m\u001b[0;34m(\u001b[0m\u001b[0mkey\u001b[0m\u001b[0;34m)\u001b[0m\u001b[0;34m\u001b[0m\u001b[0;34m\u001b[0m\u001b[0m\n\u001b[0;32m-> 3024\u001b[0;31m             \u001b[0mindexer\u001b[0m \u001b[0;34m=\u001b[0m \u001b[0mself\u001b[0m\u001b[0;34m.\u001b[0m\u001b[0mcolumns\u001b[0m\u001b[0;34m.\u001b[0m\u001b[0mget_loc\u001b[0m\u001b[0;34m(\u001b[0m\u001b[0mkey\u001b[0m\u001b[0;34m)\u001b[0m\u001b[0;34m\u001b[0m\u001b[0;34m\u001b[0m\u001b[0m\n\u001b[0m\u001b[1;32m   3025\u001b[0m             \u001b[0;32mif\u001b[0m \u001b[0mis_integer\u001b[0m\u001b[0;34m(\u001b[0m\u001b[0mindexer\u001b[0m\u001b[0;34m)\u001b[0m\u001b[0;34m:\u001b[0m\u001b[0;34m\u001b[0m\u001b[0;34m\u001b[0m\u001b[0m\n\u001b[1;32m   3026\u001b[0m                 \u001b[0mindexer\u001b[0m \u001b[0;34m=\u001b[0m \u001b[0;34m[\u001b[0m\u001b[0mindexer\u001b[0m\u001b[0;34m]\u001b[0m\u001b[0;34m\u001b[0m\u001b[0;34m\u001b[0m\u001b[0m\n",
      "\u001b[0;32m~/opt/anaconda3/lib/python3.8/site-packages/pandas/core/indexes/base.py\u001b[0m in \u001b[0;36mget_loc\u001b[0;34m(self, key, method, tolerance)\u001b[0m\n\u001b[1;32m   3080\u001b[0m                 \u001b[0;32mreturn\u001b[0m \u001b[0mself\u001b[0m\u001b[0;34m.\u001b[0m\u001b[0m_engine\u001b[0m\u001b[0;34m.\u001b[0m\u001b[0mget_loc\u001b[0m\u001b[0;34m(\u001b[0m\u001b[0mcasted_key\u001b[0m\u001b[0;34m)\u001b[0m\u001b[0;34m\u001b[0m\u001b[0;34m\u001b[0m\u001b[0m\n\u001b[1;32m   3081\u001b[0m             \u001b[0;32mexcept\u001b[0m \u001b[0mKeyError\u001b[0m \u001b[0;32mas\u001b[0m \u001b[0merr\u001b[0m\u001b[0;34m:\u001b[0m\u001b[0;34m\u001b[0m\u001b[0;34m\u001b[0m\u001b[0m\n\u001b[0;32m-> 3082\u001b[0;31m                 \u001b[0;32mraise\u001b[0m \u001b[0mKeyError\u001b[0m\u001b[0;34m(\u001b[0m\u001b[0mkey\u001b[0m\u001b[0;34m)\u001b[0m \u001b[0;32mfrom\u001b[0m \u001b[0merr\u001b[0m\u001b[0;34m\u001b[0m\u001b[0;34m\u001b[0m\u001b[0m\n\u001b[0m\u001b[1;32m   3083\u001b[0m \u001b[0;34m\u001b[0m\u001b[0m\n\u001b[1;32m   3084\u001b[0m         \u001b[0;32mif\u001b[0m \u001b[0mtolerance\u001b[0m \u001b[0;32mis\u001b[0m \u001b[0;32mnot\u001b[0m \u001b[0;32mNone\u001b[0m\u001b[0;34m:\u001b[0m\u001b[0;34m\u001b[0m\u001b[0;34m\u001b[0m\u001b[0m\n",
      "\u001b[0;31mKeyError\u001b[0m: 2"
     ]
    }
   ],
   "source": [
    "proizvodi_svi[2]"
   ]
  },
  {
   "attachments": {},
   "cell_type": "markdown",
   "id": "a854761b",
   "metadata": {},
   "source": [
    "Ne pomaže. Ako si tablicu predočimo kao listu (redove) unutar liste (kolone), možda bismo mogli koristiti sintaksu za dvostruku listu **naziv_liste\\[kolona\\]\\[red\\]**. Provjerimo."
   ]
  },
  {
   "cell_type": "code",
   "execution_count": 45,
   "id": "99917d33",
   "metadata": {},
   "outputs": [
    {
     "data": {
      "text/plain": [
       "22499.0"
      ]
     },
     "execution_count": 45,
     "metadata": {},
     "output_type": "execute_result"
    }
   ],
   "source": [
    "proizvodi_svi['Cijena'][3]"
   ]
  },
  {
   "attachments": {},
   "cell_type": "markdown",
   "id": "d9aee1ba",
   "metadata": {},
   "source": [
    "Radi, ali dobivamo samo jedan podatak.\n",
    "\n",
    "Sintaksa dohvata redaka, kao u Python listama, NE radi za DF, nego dobijemo samo jedan podatak (jednu ćeliju). Radi li možda sintaksa za *slice* liste? Provjerimo tako što ćemo dohvatiti zadnjih 6 elemenata."
   ]
  },
  {
   "cell_type": "code",
   "execution_count": 47,
   "id": "87b63e82",
   "metadata": {},
   "outputs": [
    {
     "name": "stdout",
     "output_type": "stream",
     "text": [
      "        Naziv  Cijena Kategorija  Ocjena\n",
      "Id                                      \n",
      "11  Rossignol   999.0      Skije    6.10\n",
      "10    Salomon  1699.0      Skije    7.91\n",
      "9        Elan  1499.0      Skije    8.05\n",
      "8        Head  1359.0      Skije    8.15\n",
      "7      Atomic  1499.0      Skije    7.99\n"
     ]
    },
    {
     "data": {
      "text/html": [
       "<div>\n",
       "<style scoped>\n",
       "    .dataframe tbody tr th:only-of-type {\n",
       "        vertical-align: middle;\n",
       "    }\n",
       "\n",
       "    .dataframe tbody tr th {\n",
       "        vertical-align: top;\n",
       "    }\n",
       "\n",
       "    .dataframe thead th {\n",
       "        text-align: right;\n",
       "    }\n",
       "</style>\n",
       "<table border=\"1\" class=\"dataframe\">\n",
       "  <thead>\n",
       "    <tr style=\"text-align: right;\">\n",
       "      <th></th>\n",
       "      <th>Naziv</th>\n",
       "      <th>Cijena</th>\n",
       "      <th>Kategorija</th>\n",
       "      <th>Ocjena</th>\n",
       "    </tr>\n",
       "    <tr>\n",
       "      <th>Id</th>\n",
       "      <th></th>\n",
       "      <th></th>\n",
       "      <th></th>\n",
       "      <th></th>\n",
       "    </tr>\n",
       "  </thead>\n",
       "  <tbody>\n",
       "    <tr>\n",
       "      <th>11</th>\n",
       "      <td>Rossignol</td>\n",
       "      <td>999.0</td>\n",
       "      <td>Skije</td>\n",
       "      <td>6.10</td>\n",
       "    </tr>\n",
       "    <tr>\n",
       "      <th>10</th>\n",
       "      <td>Salomon</td>\n",
       "      <td>1699.0</td>\n",
       "      <td>Skije</td>\n",
       "      <td>7.91</td>\n",
       "    </tr>\n",
       "    <tr>\n",
       "      <th>9</th>\n",
       "      <td>Elan</td>\n",
       "      <td>1499.0</td>\n",
       "      <td>Skije</td>\n",
       "      <td>8.05</td>\n",
       "    </tr>\n",
       "    <tr>\n",
       "      <th>8</th>\n",
       "      <td>Head</td>\n",
       "      <td>1359.0</td>\n",
       "      <td>Skije</td>\n",
       "      <td>8.15</td>\n",
       "    </tr>\n",
       "    <tr>\n",
       "      <th>7</th>\n",
       "      <td>Atomic</td>\n",
       "      <td>1499.0</td>\n",
       "      <td>Skije</td>\n",
       "      <td>7.99</td>\n",
       "    </tr>\n",
       "    <tr>\n",
       "      <th>6</th>\n",
       "      <td>Zeeclo</td>\n",
       "      <td>2799.0</td>\n",
       "      <td>E-Romobil</td>\n",
       "      <td>8.59</td>\n",
       "    </tr>\n",
       "  </tbody>\n",
       "</table>\n",
       "</div>"
      ],
      "text/plain": [
       "        Naziv  Cijena Kategorija  Ocjena\n",
       "Id                                      \n",
       "11  Rossignol   999.0      Skije    6.10\n",
       "10    Salomon  1699.0      Skije    7.91\n",
       "9        Elan  1499.0      Skije    8.05\n",
       "8        Head  1359.0      Skije    8.15\n",
       "7      Atomic  1499.0      Skije    7.99\n",
       "6      Zeeclo  2799.0  E-Romobil    8.59"
      ]
     },
     "execution_count": 47,
     "metadata": {},
     "output_type": "execute_result"
    }
   ],
   "source": [
    "print(proizvodi_svi[ : 6 : -1])\n",
    "\n",
    "proizvodi_svi[ : 11-6 : -1]"
   ]
  },
  {
   "attachments": {},
   "cell_type": "markdown",
   "id": "adb165cd",
   "metadata": {},
   "source": [
    "Ovo radi na način da i dalje koristimo *slice*, da prvo navedemo prvi element i zadnji element pa korak. Ako za korak koristimo negativan predznak, onda se krećemo u suprotnom smjeru. Važno je primijetiti da moramo ispravno definirati raspon. Najbolji način je uzeti zadnji indeks i od njega oduzeti onoliko elemenata koliko želimo dohvatiti.\n",
    "\n",
    "DF ima jedan atribut naziva *loc* (od *location*) kojem predamo *listu* s jednim ili više indeksa. Probajmo:"
   ]
  },
  {
   "cell_type": "code",
   "execution_count": 48,
   "id": "8a807206",
   "metadata": {},
   "outputs": [
    {
     "data": {
      "text/html": [
       "<div>\n",
       "<style scoped>\n",
       "    .dataframe tbody tr th:only-of-type {\n",
       "        vertical-align: middle;\n",
       "    }\n",
       "\n",
       "    .dataframe tbody tr th {\n",
       "        vertical-align: top;\n",
       "    }\n",
       "\n",
       "    .dataframe thead th {\n",
       "        text-align: right;\n",
       "    }\n",
       "</style>\n",
       "<table border=\"1\" class=\"dataframe\">\n",
       "  <thead>\n",
       "    <tr style=\"text-align: right;\">\n",
       "      <th></th>\n",
       "      <th>Naziv</th>\n",
       "      <th>Cijena</th>\n",
       "      <th>Kategorija</th>\n",
       "      <th>Ocjena</th>\n",
       "    </tr>\n",
       "    <tr>\n",
       "      <th>Id</th>\n",
       "      <th></th>\n",
       "      <th></th>\n",
       "      <th></th>\n",
       "      <th></th>\n",
       "    </tr>\n",
       "  </thead>\n",
       "  <tbody>\n",
       "    <tr>\n",
       "      <th>2</th>\n",
       "      <td>Giant</td>\n",
       "      <td>5999.0</td>\n",
       "      <td>Bicikl</td>\n",
       "      <td>6.65</td>\n",
       "    </tr>\n",
       "    <tr>\n",
       "      <th>5</th>\n",
       "      <td>Neon</td>\n",
       "      <td>1999.0</td>\n",
       "      <td>E-Romobil</td>\n",
       "      <td>8.61</td>\n",
       "    </tr>\n",
       "    <tr>\n",
       "      <th>6</th>\n",
       "      <td>Zeeclo</td>\n",
       "      <td>2799.0</td>\n",
       "      <td>E-Romobil</td>\n",
       "      <td>8.59</td>\n",
       "    </tr>\n",
       "  </tbody>\n",
       "</table>\n",
       "</div>"
      ],
      "text/plain": [
       "     Naziv  Cijena Kategorija  Ocjena\n",
       "Id                                   \n",
       "2    Giant  5999.0     Bicikl    6.65\n",
       "5     Neon  1999.0  E-Romobil    8.61\n",
       "6   Zeeclo  2799.0  E-Romobil    8.59"
      ]
     },
     "execution_count": 48,
     "metadata": {},
     "output_type": "execute_result"
    }
   ],
   "source": [
    "proizvodi_svi.loc[[2, 5, 6]] # Obratite pažnju da je sintaksa kao lista u listi"
   ]
  },
  {
   "attachments": {},
   "cell_type": "markdown",
   "id": "1ff6c573",
   "metadata": {},
   "source": [
    "#### Dodavanje i brisanje podataka\n",
    "\n",
    "Dodajmo novu kolonu u naš DF. Nazvat ćemo je 'Količina na skladištu'. Ako smo kolone dodali na osnovi ključa rječnika, onda bismo se mogli poslužiti tom sintaksom. Probat ćemo nekoliko opcija generiranja vrijednosti da vidimo kako se ponaša dodavanje kolona."
   ]
  },
  {
   "cell_type": "code",
   "execution_count": 49,
   "id": "f829bfd8",
   "metadata": {},
   "outputs": [
    {
     "data": {
      "text/html": [
       "<div>\n",
       "<style scoped>\n",
       "    .dataframe tbody tr th:only-of-type {\n",
       "        vertical-align: middle;\n",
       "    }\n",
       "\n",
       "    .dataframe tbody tr th {\n",
       "        vertical-align: top;\n",
       "    }\n",
       "\n",
       "    .dataframe thead th {\n",
       "        text-align: right;\n",
       "    }\n",
       "</style>\n",
       "<table border=\"1\" class=\"dataframe\">\n",
       "  <thead>\n",
       "    <tr style=\"text-align: right;\">\n",
       "      <th></th>\n",
       "      <th>Naziv</th>\n",
       "      <th>Cijena</th>\n",
       "      <th>Kategorija</th>\n",
       "      <th>Ocjena</th>\n",
       "      <th>Količina na skladištu</th>\n",
       "    </tr>\n",
       "    <tr>\n",
       "      <th>Id</th>\n",
       "      <th></th>\n",
       "      <th></th>\n",
       "      <th></th>\n",
       "      <th></th>\n",
       "      <th></th>\n",
       "    </tr>\n",
       "  </thead>\n",
       "  <tbody>\n",
       "    <tr>\n",
       "      <th>0</th>\n",
       "      <td>Trek</td>\n",
       "      <td>7699.0</td>\n",
       "      <td>Bicikl</td>\n",
       "      <td>6.70</td>\n",
       "      <td>15</td>\n",
       "    </tr>\n",
       "    <tr>\n",
       "      <th>1</th>\n",
       "      <td>Kona</td>\n",
       "      <td>4699.0</td>\n",
       "      <td>Bicikl</td>\n",
       "      <td>6.50</td>\n",
       "      <td>15</td>\n",
       "    </tr>\n",
       "    <tr>\n",
       "      <th>2</th>\n",
       "      <td>Giant</td>\n",
       "      <td>5999.0</td>\n",
       "      <td>Bicikl</td>\n",
       "      <td>6.65</td>\n",
       "      <td>15</td>\n",
       "    </tr>\n",
       "    <tr>\n",
       "      <th>3</th>\n",
       "      <td>Bianchi</td>\n",
       "      <td>22499.0</td>\n",
       "      <td>Bicikl</td>\n",
       "      <td>7.20</td>\n",
       "      <td>15</td>\n",
       "    </tr>\n",
       "    <tr>\n",
       "      <th>4</th>\n",
       "      <td>Cosmo Ride</td>\n",
       "      <td>2599.0</td>\n",
       "      <td>E-Romobil</td>\n",
       "      <td>8.64</td>\n",
       "      <td>15</td>\n",
       "    </tr>\n",
       "    <tr>\n",
       "      <th>5</th>\n",
       "      <td>Neon</td>\n",
       "      <td>1999.0</td>\n",
       "      <td>E-Romobil</td>\n",
       "      <td>8.61</td>\n",
       "      <td>15</td>\n",
       "    </tr>\n",
       "    <tr>\n",
       "      <th>6</th>\n",
       "      <td>Zeeclo</td>\n",
       "      <td>2799.0</td>\n",
       "      <td>E-Romobil</td>\n",
       "      <td>8.59</td>\n",
       "      <td>15</td>\n",
       "    </tr>\n",
       "    <tr>\n",
       "      <th>7</th>\n",
       "      <td>Atomic</td>\n",
       "      <td>1499.0</td>\n",
       "      <td>Skije</td>\n",
       "      <td>7.99</td>\n",
       "      <td>15</td>\n",
       "    </tr>\n",
       "    <tr>\n",
       "      <th>8</th>\n",
       "      <td>Head</td>\n",
       "      <td>1359.0</td>\n",
       "      <td>Skije</td>\n",
       "      <td>8.15</td>\n",
       "      <td>15</td>\n",
       "    </tr>\n",
       "    <tr>\n",
       "      <th>9</th>\n",
       "      <td>Elan</td>\n",
       "      <td>1499.0</td>\n",
       "      <td>Skije</td>\n",
       "      <td>8.05</td>\n",
       "      <td>15</td>\n",
       "    </tr>\n",
       "    <tr>\n",
       "      <th>10</th>\n",
       "      <td>Salomon</td>\n",
       "      <td>1699.0</td>\n",
       "      <td>Skije</td>\n",
       "      <td>7.91</td>\n",
       "      <td>15</td>\n",
       "    </tr>\n",
       "    <tr>\n",
       "      <th>11</th>\n",
       "      <td>Rossignol</td>\n",
       "      <td>999.0</td>\n",
       "      <td>Skije</td>\n",
       "      <td>6.10</td>\n",
       "      <td>15</td>\n",
       "    </tr>\n",
       "  </tbody>\n",
       "</table>\n",
       "</div>"
      ],
      "text/plain": [
       "         Naziv   Cijena Kategorija  Ocjena  Količina na skladištu\n",
       "Id                                                               \n",
       "0         Trek   7699.0     Bicikl    6.70                     15\n",
       "1         Kona   4699.0     Bicikl    6.50                     15\n",
       "2        Giant   5999.0     Bicikl    6.65                     15\n",
       "3      Bianchi  22499.0     Bicikl    7.20                     15\n",
       "4   Cosmo Ride   2599.0  E-Romobil    8.64                     15\n",
       "5         Neon   1999.0  E-Romobil    8.61                     15\n",
       "6       Zeeclo   2799.0  E-Romobil    8.59                     15\n",
       "7       Atomic   1499.0      Skije    7.99                     15\n",
       "8         Head   1359.0      Skije    8.15                     15\n",
       "9         Elan   1499.0      Skije    8.05                     15\n",
       "10     Salomon   1699.0      Skije    7.91                     15\n",
       "11   Rossignol    999.0      Skije    6.10                     15"
      ]
     },
     "execution_count": 49,
     "metadata": {},
     "output_type": "execute_result"
    }
   ],
   "source": [
    "proizvodi_svi['Količina na skladištu'] = 15\n",
    "proizvodi_svi"
   ]
  },
  {
   "attachments": {},
   "cell_type": "markdown",
   "id": "b67e2ecf",
   "metadata": {},
   "source": [
    "Možda da dodamo listu vrijednosti u novu kolonu. Prvo ćemo probati s nekoliko brojeva da vidimo kako se ponaša pa ćemo onda probati dodatne opcije."
   ]
  },
  {
   "cell_type": "code",
   "execution_count": 50,
   "id": "fa24ea49",
   "metadata": {},
   "outputs": [
    {
     "ename": "ValueError",
     "evalue": "Length of values (6) does not match length of index (12)",
     "output_type": "error",
     "traceback": [
      "\u001b[0;31m---------------------------------------------------------------------------\u001b[0m",
      "\u001b[0;31mValueError\u001b[0m                                Traceback (most recent call last)",
      "\u001b[0;32m<ipython-input-50-87261d1d7d86>\u001b[0m in \u001b[0;36m<module>\u001b[0;34m\u001b[0m\n\u001b[0;32m----> 1\u001b[0;31m \u001b[0mproizvodi_svi\u001b[0m\u001b[0;34m[\u001b[0m\u001b[0;34m'Količina na skladištu'\u001b[0m\u001b[0;34m]\u001b[0m \u001b[0;34m=\u001b[0m \u001b[0;34m[\u001b[0m\u001b[0;36m156\u001b[0m\u001b[0;34m,\u001b[0m \u001b[0;36m5648\u001b[0m\u001b[0;34m,\u001b[0m \u001b[0;36m5454\u001b[0m\u001b[0;34m,\u001b[0m \u001b[0;36m125\u001b[0m\u001b[0;34m,\u001b[0m \u001b[0;36m12\u001b[0m\u001b[0;34m,\u001b[0m \u001b[0;36m4\u001b[0m\u001b[0;34m]\u001b[0m\u001b[0;34m\u001b[0m\u001b[0;34m\u001b[0m\u001b[0m\n\u001b[0m\u001b[1;32m      2\u001b[0m \u001b[0mproizvodi_svi\u001b[0m\u001b[0;34m\u001b[0m\u001b[0;34m\u001b[0m\u001b[0m\n",
      "\u001b[0;32m~/opt/anaconda3/lib/python3.8/site-packages/pandas/core/frame.py\u001b[0m in \u001b[0;36m__setitem__\u001b[0;34m(self, key, value)\u001b[0m\n\u001b[1;32m   3161\u001b[0m         \u001b[0;32melse\u001b[0m\u001b[0;34m:\u001b[0m\u001b[0;34m\u001b[0m\u001b[0;34m\u001b[0m\u001b[0m\n\u001b[1;32m   3162\u001b[0m             \u001b[0;31m# set column\u001b[0m\u001b[0;34m\u001b[0m\u001b[0;34m\u001b[0m\u001b[0;34m\u001b[0m\u001b[0m\n\u001b[0;32m-> 3163\u001b[0;31m             \u001b[0mself\u001b[0m\u001b[0;34m.\u001b[0m\u001b[0m_set_item\u001b[0m\u001b[0;34m(\u001b[0m\u001b[0mkey\u001b[0m\u001b[0;34m,\u001b[0m \u001b[0mvalue\u001b[0m\u001b[0;34m)\u001b[0m\u001b[0;34m\u001b[0m\u001b[0;34m\u001b[0m\u001b[0m\n\u001b[0m\u001b[1;32m   3164\u001b[0m \u001b[0;34m\u001b[0m\u001b[0m\n\u001b[1;32m   3165\u001b[0m     \u001b[0;32mdef\u001b[0m \u001b[0m_setitem_slice\u001b[0m\u001b[0;34m(\u001b[0m\u001b[0mself\u001b[0m\u001b[0;34m,\u001b[0m \u001b[0mkey\u001b[0m\u001b[0;34m:\u001b[0m \u001b[0mslice\u001b[0m\u001b[0;34m,\u001b[0m \u001b[0mvalue\u001b[0m\u001b[0;34m)\u001b[0m\u001b[0;34m:\u001b[0m\u001b[0;34m\u001b[0m\u001b[0;34m\u001b[0m\u001b[0m\n",
      "\u001b[0;32m~/opt/anaconda3/lib/python3.8/site-packages/pandas/core/frame.py\u001b[0m in \u001b[0;36m_set_item\u001b[0;34m(self, key, value)\u001b[0m\n\u001b[1;32m   3240\u001b[0m         \"\"\"\n\u001b[1;32m   3241\u001b[0m         \u001b[0mself\u001b[0m\u001b[0;34m.\u001b[0m\u001b[0m_ensure_valid_index\u001b[0m\u001b[0;34m(\u001b[0m\u001b[0mvalue\u001b[0m\u001b[0;34m)\u001b[0m\u001b[0;34m\u001b[0m\u001b[0;34m\u001b[0m\u001b[0m\n\u001b[0;32m-> 3242\u001b[0;31m         \u001b[0mvalue\u001b[0m \u001b[0;34m=\u001b[0m \u001b[0mself\u001b[0m\u001b[0;34m.\u001b[0m\u001b[0m_sanitize_column\u001b[0m\u001b[0;34m(\u001b[0m\u001b[0mkey\u001b[0m\u001b[0;34m,\u001b[0m \u001b[0mvalue\u001b[0m\u001b[0;34m)\u001b[0m\u001b[0;34m\u001b[0m\u001b[0;34m\u001b[0m\u001b[0m\n\u001b[0m\u001b[1;32m   3243\u001b[0m         \u001b[0mNDFrame\u001b[0m\u001b[0;34m.\u001b[0m\u001b[0m_set_item\u001b[0m\u001b[0;34m(\u001b[0m\u001b[0mself\u001b[0m\u001b[0;34m,\u001b[0m \u001b[0mkey\u001b[0m\u001b[0;34m,\u001b[0m \u001b[0mvalue\u001b[0m\u001b[0;34m)\u001b[0m\u001b[0;34m\u001b[0m\u001b[0;34m\u001b[0m\u001b[0m\n\u001b[1;32m   3244\u001b[0m \u001b[0;34m\u001b[0m\u001b[0m\n",
      "\u001b[0;32m~/opt/anaconda3/lib/python3.8/site-packages/pandas/core/frame.py\u001b[0m in \u001b[0;36m_sanitize_column\u001b[0;34m(self, key, value, broadcast)\u001b[0m\n\u001b[1;32m   3897\u001b[0m \u001b[0;34m\u001b[0m\u001b[0m\n\u001b[1;32m   3898\u001b[0m             \u001b[0;31m# turn me into an ndarray\u001b[0m\u001b[0;34m\u001b[0m\u001b[0;34m\u001b[0m\u001b[0;34m\u001b[0m\u001b[0m\n\u001b[0;32m-> 3899\u001b[0;31m             \u001b[0mvalue\u001b[0m \u001b[0;34m=\u001b[0m \u001b[0msanitize_index\u001b[0m\u001b[0;34m(\u001b[0m\u001b[0mvalue\u001b[0m\u001b[0;34m,\u001b[0m \u001b[0mself\u001b[0m\u001b[0;34m.\u001b[0m\u001b[0mindex\u001b[0m\u001b[0;34m)\u001b[0m\u001b[0;34m\u001b[0m\u001b[0;34m\u001b[0m\u001b[0m\n\u001b[0m\u001b[1;32m   3900\u001b[0m             \u001b[0;32mif\u001b[0m \u001b[0;32mnot\u001b[0m \u001b[0misinstance\u001b[0m\u001b[0;34m(\u001b[0m\u001b[0mvalue\u001b[0m\u001b[0;34m,\u001b[0m \u001b[0;34m(\u001b[0m\u001b[0mnp\u001b[0m\u001b[0;34m.\u001b[0m\u001b[0mndarray\u001b[0m\u001b[0;34m,\u001b[0m \u001b[0mIndex\u001b[0m\u001b[0;34m)\u001b[0m\u001b[0;34m)\u001b[0m\u001b[0;34m:\u001b[0m\u001b[0;34m\u001b[0m\u001b[0;34m\u001b[0m\u001b[0m\n\u001b[1;32m   3901\u001b[0m                 \u001b[0;32mif\u001b[0m \u001b[0misinstance\u001b[0m\u001b[0;34m(\u001b[0m\u001b[0mvalue\u001b[0m\u001b[0;34m,\u001b[0m \u001b[0mlist\u001b[0m\u001b[0;34m)\u001b[0m \u001b[0;32mand\u001b[0m \u001b[0mlen\u001b[0m\u001b[0;34m(\u001b[0m\u001b[0mvalue\u001b[0m\u001b[0;34m)\u001b[0m \u001b[0;34m>\u001b[0m \u001b[0;36m0\u001b[0m\u001b[0;34m:\u001b[0m\u001b[0;34m\u001b[0m\u001b[0;34m\u001b[0m\u001b[0m\n",
      "\u001b[0;32m~/opt/anaconda3/lib/python3.8/site-packages/pandas/core/internals/construction.py\u001b[0m in \u001b[0;36msanitize_index\u001b[0;34m(data, index)\u001b[0m\n\u001b[1;32m    749\u001b[0m     \"\"\"\n\u001b[1;32m    750\u001b[0m     \u001b[0;32mif\u001b[0m \u001b[0mlen\u001b[0m\u001b[0;34m(\u001b[0m\u001b[0mdata\u001b[0m\u001b[0;34m)\u001b[0m \u001b[0;34m!=\u001b[0m \u001b[0mlen\u001b[0m\u001b[0;34m(\u001b[0m\u001b[0mindex\u001b[0m\u001b[0;34m)\u001b[0m\u001b[0;34m:\u001b[0m\u001b[0;34m\u001b[0m\u001b[0;34m\u001b[0m\u001b[0m\n\u001b[0;32m--> 751\u001b[0;31m         raise ValueError(\n\u001b[0m\u001b[1;32m    752\u001b[0m             \u001b[0;34m\"Length of values \"\u001b[0m\u001b[0;34m\u001b[0m\u001b[0;34m\u001b[0m\u001b[0m\n\u001b[1;32m    753\u001b[0m             \u001b[0;34mf\"({len(data)}) \"\u001b[0m\u001b[0;34m\u001b[0m\u001b[0;34m\u001b[0m\u001b[0m\n",
      "\u001b[0;31mValueError\u001b[0m: Length of values (6) does not match length of index (12)"
     ]
    }
   ],
   "source": [
    "proizvodi_svi['Količina na skladištu'] = [156, 5648, 5454, 125, 12, 4]\n",
    "proizvodi_svi"
   ]
  },
  {
   "attachments": {},
   "cell_type": "markdown",
   "id": "066bbeae",
   "metadata": {},
   "source": [
    "***ValueError: Length of values (6) does not match length of index (12)* greška govori da moramo dodati točno onoliko brojeva koliko imamo redaka.**"
   ]
  },
  {
   "cell_type": "code",
   "execution_count": 51,
   "id": "c0e32352",
   "metadata": {},
   "outputs": [
    {
     "data": {
      "text/html": [
       "<div>\n",
       "<style scoped>\n",
       "    .dataframe tbody tr th:only-of-type {\n",
       "        vertical-align: middle;\n",
       "    }\n",
       "\n",
       "    .dataframe tbody tr th {\n",
       "        vertical-align: top;\n",
       "    }\n",
       "\n",
       "    .dataframe thead th {\n",
       "        text-align: right;\n",
       "    }\n",
       "</style>\n",
       "<table border=\"1\" class=\"dataframe\">\n",
       "  <thead>\n",
       "    <tr style=\"text-align: right;\">\n",
       "      <th></th>\n",
       "      <th>Naziv</th>\n",
       "      <th>Cijena</th>\n",
       "      <th>Kategorija</th>\n",
       "      <th>Ocjena</th>\n",
       "      <th>Količina na skladištu</th>\n",
       "    </tr>\n",
       "    <tr>\n",
       "      <th>Id</th>\n",
       "      <th></th>\n",
       "      <th></th>\n",
       "      <th></th>\n",
       "      <th></th>\n",
       "      <th></th>\n",
       "    </tr>\n",
       "  </thead>\n",
       "  <tbody>\n",
       "    <tr>\n",
       "      <th>0</th>\n",
       "      <td>Trek</td>\n",
       "      <td>7699.0</td>\n",
       "      <td>Bicikl</td>\n",
       "      <td>6.70</td>\n",
       "      <td>156</td>\n",
       "    </tr>\n",
       "    <tr>\n",
       "      <th>1</th>\n",
       "      <td>Kona</td>\n",
       "      <td>4699.0</td>\n",
       "      <td>Bicikl</td>\n",
       "      <td>6.50</td>\n",
       "      <td>5648</td>\n",
       "    </tr>\n",
       "    <tr>\n",
       "      <th>2</th>\n",
       "      <td>Giant</td>\n",
       "      <td>5999.0</td>\n",
       "      <td>Bicikl</td>\n",
       "      <td>6.65</td>\n",
       "      <td>5454</td>\n",
       "    </tr>\n",
       "    <tr>\n",
       "      <th>3</th>\n",
       "      <td>Bianchi</td>\n",
       "      <td>22499.0</td>\n",
       "      <td>Bicikl</td>\n",
       "      <td>7.20</td>\n",
       "      <td>125</td>\n",
       "    </tr>\n",
       "    <tr>\n",
       "      <th>4</th>\n",
       "      <td>Cosmo Ride</td>\n",
       "      <td>2599.0</td>\n",
       "      <td>E-Romobil</td>\n",
       "      <td>8.64</td>\n",
       "      <td>12</td>\n",
       "    </tr>\n",
       "    <tr>\n",
       "      <th>5</th>\n",
       "      <td>Neon</td>\n",
       "      <td>1999.0</td>\n",
       "      <td>E-Romobil</td>\n",
       "      <td>8.61</td>\n",
       "      <td>4</td>\n",
       "    </tr>\n",
       "    <tr>\n",
       "      <th>6</th>\n",
       "      <td>Zeeclo</td>\n",
       "      <td>2799.0</td>\n",
       "      <td>E-Romobil</td>\n",
       "      <td>8.59</td>\n",
       "      <td>156</td>\n",
       "    </tr>\n",
       "    <tr>\n",
       "      <th>7</th>\n",
       "      <td>Atomic</td>\n",
       "      <td>1499.0</td>\n",
       "      <td>Skije</td>\n",
       "      <td>7.99</td>\n",
       "      <td>5648</td>\n",
       "    </tr>\n",
       "    <tr>\n",
       "      <th>8</th>\n",
       "      <td>Head</td>\n",
       "      <td>1359.0</td>\n",
       "      <td>Skije</td>\n",
       "      <td>8.15</td>\n",
       "      <td>5454</td>\n",
       "    </tr>\n",
       "    <tr>\n",
       "      <th>9</th>\n",
       "      <td>Elan</td>\n",
       "      <td>1499.0</td>\n",
       "      <td>Skije</td>\n",
       "      <td>8.05</td>\n",
       "      <td>125</td>\n",
       "    </tr>\n",
       "    <tr>\n",
       "      <th>10</th>\n",
       "      <td>Salomon</td>\n",
       "      <td>1699.0</td>\n",
       "      <td>Skije</td>\n",
       "      <td>7.91</td>\n",
       "      <td>12</td>\n",
       "    </tr>\n",
       "    <tr>\n",
       "      <th>11</th>\n",
       "      <td>Rossignol</td>\n",
       "      <td>999.0</td>\n",
       "      <td>Skije</td>\n",
       "      <td>6.10</td>\n",
       "      <td>4</td>\n",
       "    </tr>\n",
       "  </tbody>\n",
       "</table>\n",
       "</div>"
      ],
      "text/plain": [
       "         Naziv   Cijena Kategorija  Ocjena  Količina na skladištu\n",
       "Id                                                               \n",
       "0         Trek   7699.0     Bicikl    6.70                    156\n",
       "1         Kona   4699.0     Bicikl    6.50                   5648\n",
       "2        Giant   5999.0     Bicikl    6.65                   5454\n",
       "3      Bianchi  22499.0     Bicikl    7.20                    125\n",
       "4   Cosmo Ride   2599.0  E-Romobil    8.64                     12\n",
       "5         Neon   1999.0  E-Romobil    8.61                      4\n",
       "6       Zeeclo   2799.0  E-Romobil    8.59                    156\n",
       "7       Atomic   1499.0      Skije    7.99                   5648\n",
       "8         Head   1359.0      Skije    8.15                   5454\n",
       "9         Elan   1499.0      Skije    8.05                    125\n",
       "10     Salomon   1699.0      Skije    7.91                     12\n",
       "11   Rossignol    999.0      Skije    6.10                      4"
      ]
     },
     "execution_count": 51,
     "metadata": {},
     "output_type": "execute_result"
    }
   ],
   "source": [
    "proizvodi_svi['Količina na skladištu'] = [156, 5648, 5454, 125, 12, 4, 156, 5648, 5454, 125, 12, 4]\n",
    "proizvodi_svi"
   ]
  },
  {
   "attachments": {},
   "cell_type": "markdown",
   "id": "e4d4f4a0",
   "metadata": {},
   "source": [
    "Probajmo s generiranjem nasumičnih brojeva za ovu novu kolonu na stari Python način, tako što ćemo, kada budemo radili s NumPy bibliotekom, koristiti generator nasumičnih brojeva ove biblioteke koji je jednako tako učinkovit i koristan."
   ]
  },
  {
   "cell_type": "code",
   "execution_count": 53,
   "id": "f736eb69",
   "metadata": {},
   "outputs": [
    {
     "data": {
      "text/html": [
       "<div>\n",
       "<style scoped>\n",
       "    .dataframe tbody tr th:only-of-type {\n",
       "        vertical-align: middle;\n",
       "    }\n",
       "\n",
       "    .dataframe tbody tr th {\n",
       "        vertical-align: top;\n",
       "    }\n",
       "\n",
       "    .dataframe thead th {\n",
       "        text-align: right;\n",
       "    }\n",
       "</style>\n",
       "<table border=\"1\" class=\"dataframe\">\n",
       "  <thead>\n",
       "    <tr style=\"text-align: right;\">\n",
       "      <th></th>\n",
       "      <th>Naziv</th>\n",
       "      <th>Cijena</th>\n",
       "      <th>Kategorija</th>\n",
       "      <th>Ocjena</th>\n",
       "      <th>Količina na skladištu</th>\n",
       "    </tr>\n",
       "    <tr>\n",
       "      <th>Id</th>\n",
       "      <th></th>\n",
       "      <th></th>\n",
       "      <th></th>\n",
       "      <th></th>\n",
       "      <th></th>\n",
       "    </tr>\n",
       "  </thead>\n",
       "  <tbody>\n",
       "    <tr>\n",
       "      <th>0</th>\n",
       "      <td>Trek</td>\n",
       "      <td>7699.0</td>\n",
       "      <td>Bicikl</td>\n",
       "      <td>6.70</td>\n",
       "      <td>192</td>\n",
       "    </tr>\n",
       "    <tr>\n",
       "      <th>1</th>\n",
       "      <td>Kona</td>\n",
       "      <td>4699.0</td>\n",
       "      <td>Bicikl</td>\n",
       "      <td>6.50</td>\n",
       "      <td>7179</td>\n",
       "    </tr>\n",
       "    <tr>\n",
       "      <th>2</th>\n",
       "      <td>Giant</td>\n",
       "      <td>5999.0</td>\n",
       "      <td>Bicikl</td>\n",
       "      <td>6.65</td>\n",
       "      <td>4027</td>\n",
       "    </tr>\n",
       "    <tr>\n",
       "      <th>3</th>\n",
       "      <td>Bianchi</td>\n",
       "      <td>22499.0</td>\n",
       "      <td>Bicikl</td>\n",
       "      <td>7.20</td>\n",
       "      <td>2077</td>\n",
       "    </tr>\n",
       "    <tr>\n",
       "      <th>4</th>\n",
       "      <td>Cosmo Ride</td>\n",
       "      <td>2599.0</td>\n",
       "      <td>E-Romobil</td>\n",
       "      <td>8.64</td>\n",
       "      <td>8737</td>\n",
       "    </tr>\n",
       "    <tr>\n",
       "      <th>5</th>\n",
       "      <td>Neon</td>\n",
       "      <td>1999.0</td>\n",
       "      <td>E-Romobil</td>\n",
       "      <td>8.61</td>\n",
       "      <td>3187</td>\n",
       "    </tr>\n",
       "    <tr>\n",
       "      <th>6</th>\n",
       "      <td>Zeeclo</td>\n",
       "      <td>2799.0</td>\n",
       "      <td>E-Romobil</td>\n",
       "      <td>8.59</td>\n",
       "      <td>7371</td>\n",
       "    </tr>\n",
       "    <tr>\n",
       "      <th>7</th>\n",
       "      <td>Atomic</td>\n",
       "      <td>1499.0</td>\n",
       "      <td>Skije</td>\n",
       "      <td>7.99</td>\n",
       "      <td>8171</td>\n",
       "    </tr>\n",
       "    <tr>\n",
       "      <th>8</th>\n",
       "      <td>Head</td>\n",
       "      <td>1359.0</td>\n",
       "      <td>Skije</td>\n",
       "      <td>8.15</td>\n",
       "      <td>6673</td>\n",
       "    </tr>\n",
       "    <tr>\n",
       "      <th>9</th>\n",
       "      <td>Elan</td>\n",
       "      <td>1499.0</td>\n",
       "      <td>Skije</td>\n",
       "      <td>8.05</td>\n",
       "      <td>2428</td>\n",
       "    </tr>\n",
       "    <tr>\n",
       "      <th>10</th>\n",
       "      <td>Salomon</td>\n",
       "      <td>1699.0</td>\n",
       "      <td>Skije</td>\n",
       "      <td>7.91</td>\n",
       "      <td>7063</td>\n",
       "    </tr>\n",
       "    <tr>\n",
       "      <th>11</th>\n",
       "      <td>Rossignol</td>\n",
       "      <td>999.0</td>\n",
       "      <td>Skije</td>\n",
       "      <td>6.10</td>\n",
       "      <td>2419</td>\n",
       "    </tr>\n",
       "  </tbody>\n",
       "</table>\n",
       "</div>"
      ],
      "text/plain": [
       "         Naziv   Cijena Kategorija  Ocjena  Količina na skladištu\n",
       "Id                                                               \n",
       "0         Trek   7699.0     Bicikl    6.70                    192\n",
       "1         Kona   4699.0     Bicikl    6.50                   7179\n",
       "2        Giant   5999.0     Bicikl    6.65                   4027\n",
       "3      Bianchi  22499.0     Bicikl    7.20                   2077\n",
       "4   Cosmo Ride   2599.0  E-Romobil    8.64                   8737\n",
       "5         Neon   1999.0  E-Romobil    8.61                   3187\n",
       "6       Zeeclo   2799.0  E-Romobil    8.59                   7371\n",
       "7       Atomic   1499.0      Skije    7.99                   8171\n",
       "8         Head   1359.0      Skije    8.15                   6673\n",
       "9         Elan   1499.0      Skije    8.05                   2428\n",
       "10     Salomon   1699.0      Skije    7.91                   7063\n",
       "11   Rossignol    999.0      Skije    6.10                   2419"
      ]
     },
     "execution_count": 53,
     "metadata": {},
     "output_type": "execute_result"
    }
   ],
   "source": [
    "import random as rand\n",
    "\n",
    "vrijednosti = []\n",
    "for _ in range(len(proizvodi_svi.index)):\n",
    "    vrijednosti.append(rand.randrange(100, 9999))\n",
    "\n",
    "proizvodi_svi['Količina na skladištu'] = vrijednosti\n",
    "proizvodi_svi"
   ]
  },
  {
   "attachments": {},
   "cell_type": "markdown",
   "id": "1b0fb120",
   "metadata": {},
   "source": [
    "Za brisanje kolone, uključujući i sadržaj kolone, koristimo komandu *del*."
   ]
  },
  {
   "cell_type": "code",
   "execution_count": 54,
   "id": "0b03d7ec",
   "metadata": {},
   "outputs": [
    {
     "data": {
      "text/html": [
       "<div>\n",
       "<style scoped>\n",
       "    .dataframe tbody tr th:only-of-type {\n",
       "        vertical-align: middle;\n",
       "    }\n",
       "\n",
       "    .dataframe tbody tr th {\n",
       "        vertical-align: top;\n",
       "    }\n",
       "\n",
       "    .dataframe thead th {\n",
       "        text-align: right;\n",
       "    }\n",
       "</style>\n",
       "<table border=\"1\" class=\"dataframe\">\n",
       "  <thead>\n",
       "    <tr style=\"text-align: right;\">\n",
       "      <th></th>\n",
       "      <th>Naziv</th>\n",
       "      <th>Cijena</th>\n",
       "      <th>Kategorija</th>\n",
       "      <th>Ocjena</th>\n",
       "    </tr>\n",
       "    <tr>\n",
       "      <th>Id</th>\n",
       "      <th></th>\n",
       "      <th></th>\n",
       "      <th></th>\n",
       "      <th></th>\n",
       "    </tr>\n",
       "  </thead>\n",
       "  <tbody>\n",
       "    <tr>\n",
       "      <th>0</th>\n",
       "      <td>Trek</td>\n",
       "      <td>7699.0</td>\n",
       "      <td>Bicikl</td>\n",
       "      <td>6.70</td>\n",
       "    </tr>\n",
       "    <tr>\n",
       "      <th>1</th>\n",
       "      <td>Kona</td>\n",
       "      <td>4699.0</td>\n",
       "      <td>Bicikl</td>\n",
       "      <td>6.50</td>\n",
       "    </tr>\n",
       "    <tr>\n",
       "      <th>2</th>\n",
       "      <td>Giant</td>\n",
       "      <td>5999.0</td>\n",
       "      <td>Bicikl</td>\n",
       "      <td>6.65</td>\n",
       "    </tr>\n",
       "    <tr>\n",
       "      <th>3</th>\n",
       "      <td>Bianchi</td>\n",
       "      <td>22499.0</td>\n",
       "      <td>Bicikl</td>\n",
       "      <td>7.20</td>\n",
       "    </tr>\n",
       "    <tr>\n",
       "      <th>4</th>\n",
       "      <td>Cosmo Ride</td>\n",
       "      <td>2599.0</td>\n",
       "      <td>E-Romobil</td>\n",
       "      <td>8.64</td>\n",
       "    </tr>\n",
       "    <tr>\n",
       "      <th>5</th>\n",
       "      <td>Neon</td>\n",
       "      <td>1999.0</td>\n",
       "      <td>E-Romobil</td>\n",
       "      <td>8.61</td>\n",
       "    </tr>\n",
       "    <tr>\n",
       "      <th>6</th>\n",
       "      <td>Zeeclo</td>\n",
       "      <td>2799.0</td>\n",
       "      <td>E-Romobil</td>\n",
       "      <td>8.59</td>\n",
       "    </tr>\n",
       "    <tr>\n",
       "      <th>7</th>\n",
       "      <td>Atomic</td>\n",
       "      <td>1499.0</td>\n",
       "      <td>Skije</td>\n",
       "      <td>7.99</td>\n",
       "    </tr>\n",
       "    <tr>\n",
       "      <th>8</th>\n",
       "      <td>Head</td>\n",
       "      <td>1359.0</td>\n",
       "      <td>Skije</td>\n",
       "      <td>8.15</td>\n",
       "    </tr>\n",
       "    <tr>\n",
       "      <th>9</th>\n",
       "      <td>Elan</td>\n",
       "      <td>1499.0</td>\n",
       "      <td>Skije</td>\n",
       "      <td>8.05</td>\n",
       "    </tr>\n",
       "    <tr>\n",
       "      <th>10</th>\n",
       "      <td>Salomon</td>\n",
       "      <td>1699.0</td>\n",
       "      <td>Skije</td>\n",
       "      <td>7.91</td>\n",
       "    </tr>\n",
       "    <tr>\n",
       "      <th>11</th>\n",
       "      <td>Rossignol</td>\n",
       "      <td>999.0</td>\n",
       "      <td>Skije</td>\n",
       "      <td>6.10</td>\n",
       "    </tr>\n",
       "  </tbody>\n",
       "</table>\n",
       "</div>"
      ],
      "text/plain": [
       "         Naziv   Cijena Kategorija  Ocjena\n",
       "Id                                        \n",
       "0         Trek   7699.0     Bicikl    6.70\n",
       "1         Kona   4699.0     Bicikl    6.50\n",
       "2        Giant   5999.0     Bicikl    6.65\n",
       "3      Bianchi  22499.0     Bicikl    7.20\n",
       "4   Cosmo Ride   2599.0  E-Romobil    8.64\n",
       "5         Neon   1999.0  E-Romobil    8.61\n",
       "6       Zeeclo   2799.0  E-Romobil    8.59\n",
       "7       Atomic   1499.0      Skije    7.99\n",
       "8         Head   1359.0      Skije    8.15\n",
       "9         Elan   1499.0      Skije    8.05\n",
       "10     Salomon   1699.0      Skije    7.91\n",
       "11   Rossignol    999.0      Skije    6.10"
      ]
     },
     "execution_count": 54,
     "metadata": {},
     "output_type": "execute_result"
    }
   ],
   "source": [
    "del proizvodi_svi['Količina na skladištu']\n",
    "proizvodi_svi"
   ]
  },
  {
   "attachments": {},
   "cell_type": "markdown",
   "id": "f6b816fa",
   "metadata": {},
   "source": [
    "Već smo koristili naredbu *isin()* na Pandas *Series*. Ista naredba vrijedi i nad Pandas *DataFrame* objektima. Provjerimo, imamo li proizvod naziva Neon i pojavljuje li se negdje broj 1499.00?"
   ]
  },
  {
   "cell_type": "code",
   "execution_count": 55,
   "id": "c155edd0",
   "metadata": {},
   "outputs": [
    {
     "data": {
      "text/html": [
       "<div>\n",
       "<style scoped>\n",
       "    .dataframe tbody tr th:only-of-type {\n",
       "        vertical-align: middle;\n",
       "    }\n",
       "\n",
       "    .dataframe tbody tr th {\n",
       "        vertical-align: top;\n",
       "    }\n",
       "\n",
       "    .dataframe thead th {\n",
       "        text-align: right;\n",
       "    }\n",
       "</style>\n",
       "<table border=\"1\" class=\"dataframe\">\n",
       "  <thead>\n",
       "    <tr style=\"text-align: right;\">\n",
       "      <th></th>\n",
       "      <th>Naziv</th>\n",
       "      <th>Cijena</th>\n",
       "      <th>Kategorija</th>\n",
       "      <th>Ocjena</th>\n",
       "    </tr>\n",
       "    <tr>\n",
       "      <th>Id</th>\n",
       "      <th></th>\n",
       "      <th></th>\n",
       "      <th></th>\n",
       "      <th></th>\n",
       "    </tr>\n",
       "  </thead>\n",
       "  <tbody>\n",
       "    <tr>\n",
       "      <th>0</th>\n",
       "      <td>False</td>\n",
       "      <td>False</td>\n",
       "      <td>False</td>\n",
       "      <td>False</td>\n",
       "    </tr>\n",
       "    <tr>\n",
       "      <th>1</th>\n",
       "      <td>False</td>\n",
       "      <td>False</td>\n",
       "      <td>False</td>\n",
       "      <td>False</td>\n",
       "    </tr>\n",
       "    <tr>\n",
       "      <th>2</th>\n",
       "      <td>False</td>\n",
       "      <td>False</td>\n",
       "      <td>False</td>\n",
       "      <td>False</td>\n",
       "    </tr>\n",
       "    <tr>\n",
       "      <th>3</th>\n",
       "      <td>False</td>\n",
       "      <td>False</td>\n",
       "      <td>False</td>\n",
       "      <td>False</td>\n",
       "    </tr>\n",
       "    <tr>\n",
       "      <th>4</th>\n",
       "      <td>False</td>\n",
       "      <td>False</td>\n",
       "      <td>False</td>\n",
       "      <td>False</td>\n",
       "    </tr>\n",
       "    <tr>\n",
       "      <th>5</th>\n",
       "      <td>True</td>\n",
       "      <td>False</td>\n",
       "      <td>False</td>\n",
       "      <td>False</td>\n",
       "    </tr>\n",
       "    <tr>\n",
       "      <th>6</th>\n",
       "      <td>False</td>\n",
       "      <td>False</td>\n",
       "      <td>False</td>\n",
       "      <td>False</td>\n",
       "    </tr>\n",
       "    <tr>\n",
       "      <th>7</th>\n",
       "      <td>False</td>\n",
       "      <td>True</td>\n",
       "      <td>False</td>\n",
       "      <td>False</td>\n",
       "    </tr>\n",
       "    <tr>\n",
       "      <th>8</th>\n",
       "      <td>False</td>\n",
       "      <td>False</td>\n",
       "      <td>False</td>\n",
       "      <td>False</td>\n",
       "    </tr>\n",
       "    <tr>\n",
       "      <th>9</th>\n",
       "      <td>False</td>\n",
       "      <td>True</td>\n",
       "      <td>False</td>\n",
       "      <td>False</td>\n",
       "    </tr>\n",
       "    <tr>\n",
       "      <th>10</th>\n",
       "      <td>False</td>\n",
       "      <td>False</td>\n",
       "      <td>False</td>\n",
       "      <td>False</td>\n",
       "    </tr>\n",
       "    <tr>\n",
       "      <th>11</th>\n",
       "      <td>False</td>\n",
       "      <td>False</td>\n",
       "      <td>False</td>\n",
       "      <td>False</td>\n",
       "    </tr>\n",
       "  </tbody>\n",
       "</table>\n",
       "</div>"
      ],
      "text/plain": [
       "    Naziv  Cijena  Kategorija  Ocjena\n",
       "Id                                   \n",
       "0   False   False       False   False\n",
       "1   False   False       False   False\n",
       "2   False   False       False   False\n",
       "3   False   False       False   False\n",
       "4   False   False       False   False\n",
       "5    True   False       False   False\n",
       "6   False   False       False   False\n",
       "7   False    True       False   False\n",
       "8   False   False       False   False\n",
       "9   False    True       False   False\n",
       "10  False   False       False   False\n",
       "11  False   False       False   False"
      ]
     },
     "execution_count": 55,
     "metadata": {},
     "output_type": "execute_result"
    }
   ],
   "source": [
    "proizvodi_svi.isin(['Neon', 1499.00])"
   ]
  },
  {
   "attachments": {},
   "cell_type": "markdown",
   "id": "546b20b5",
   "metadata": {},
   "source": [
    "Ili čitljivije formatirano:"
   ]
  },
  {
   "cell_type": "code",
   "execution_count": 56,
   "id": "e80cc8e2",
   "metadata": {},
   "outputs": [
    {
     "data": {
      "text/html": [
       "<div>\n",
       "<style scoped>\n",
       "    .dataframe tbody tr th:only-of-type {\n",
       "        vertical-align: middle;\n",
       "    }\n",
       "\n",
       "    .dataframe tbody tr th {\n",
       "        vertical-align: top;\n",
       "    }\n",
       "\n",
       "    .dataframe thead th {\n",
       "        text-align: right;\n",
       "    }\n",
       "</style>\n",
       "<table border=\"1\" class=\"dataframe\">\n",
       "  <thead>\n",
       "    <tr style=\"text-align: right;\">\n",
       "      <th></th>\n",
       "      <th>Naziv</th>\n",
       "      <th>Cijena</th>\n",
       "      <th>Kategorija</th>\n",
       "      <th>Ocjena</th>\n",
       "    </tr>\n",
       "    <tr>\n",
       "      <th>Id</th>\n",
       "      <th></th>\n",
       "      <th></th>\n",
       "      <th></th>\n",
       "      <th></th>\n",
       "    </tr>\n",
       "  </thead>\n",
       "  <tbody>\n",
       "    <tr>\n",
       "      <th>0</th>\n",
       "      <td>NaN</td>\n",
       "      <td>NaN</td>\n",
       "      <td>NaN</td>\n",
       "      <td>NaN</td>\n",
       "    </tr>\n",
       "    <tr>\n",
       "      <th>1</th>\n",
       "      <td>NaN</td>\n",
       "      <td>NaN</td>\n",
       "      <td>NaN</td>\n",
       "      <td>NaN</td>\n",
       "    </tr>\n",
       "    <tr>\n",
       "      <th>2</th>\n",
       "      <td>NaN</td>\n",
       "      <td>NaN</td>\n",
       "      <td>NaN</td>\n",
       "      <td>NaN</td>\n",
       "    </tr>\n",
       "    <tr>\n",
       "      <th>3</th>\n",
       "      <td>NaN</td>\n",
       "      <td>NaN</td>\n",
       "      <td>NaN</td>\n",
       "      <td>NaN</td>\n",
       "    </tr>\n",
       "    <tr>\n",
       "      <th>4</th>\n",
       "      <td>NaN</td>\n",
       "      <td>NaN</td>\n",
       "      <td>NaN</td>\n",
       "      <td>NaN</td>\n",
       "    </tr>\n",
       "    <tr>\n",
       "      <th>5</th>\n",
       "      <td>Neon</td>\n",
       "      <td>NaN</td>\n",
       "      <td>NaN</td>\n",
       "      <td>NaN</td>\n",
       "    </tr>\n",
       "    <tr>\n",
       "      <th>6</th>\n",
       "      <td>NaN</td>\n",
       "      <td>NaN</td>\n",
       "      <td>NaN</td>\n",
       "      <td>NaN</td>\n",
       "    </tr>\n",
       "    <tr>\n",
       "      <th>7</th>\n",
       "      <td>NaN</td>\n",
       "      <td>1499.0</td>\n",
       "      <td>NaN</td>\n",
       "      <td>NaN</td>\n",
       "    </tr>\n",
       "    <tr>\n",
       "      <th>8</th>\n",
       "      <td>NaN</td>\n",
       "      <td>NaN</td>\n",
       "      <td>NaN</td>\n",
       "      <td>NaN</td>\n",
       "    </tr>\n",
       "    <tr>\n",
       "      <th>9</th>\n",
       "      <td>NaN</td>\n",
       "      <td>1499.0</td>\n",
       "      <td>NaN</td>\n",
       "      <td>NaN</td>\n",
       "    </tr>\n",
       "    <tr>\n",
       "      <th>10</th>\n",
       "      <td>NaN</td>\n",
       "      <td>NaN</td>\n",
       "      <td>NaN</td>\n",
       "      <td>NaN</td>\n",
       "    </tr>\n",
       "    <tr>\n",
       "      <th>11</th>\n",
       "      <td>NaN</td>\n",
       "      <td>NaN</td>\n",
       "      <td>NaN</td>\n",
       "      <td>NaN</td>\n",
       "    </tr>\n",
       "  </tbody>\n",
       "</table>\n",
       "</div>"
      ],
      "text/plain": [
       "   Naziv  Cijena Kategorija  Ocjena\n",
       "Id                                 \n",
       "0    NaN     NaN        NaN     NaN\n",
       "1    NaN     NaN        NaN     NaN\n",
       "2    NaN     NaN        NaN     NaN\n",
       "3    NaN     NaN        NaN     NaN\n",
       "4    NaN     NaN        NaN     NaN\n",
       "5   Neon     NaN        NaN     NaN\n",
       "6    NaN     NaN        NaN     NaN\n",
       "7    NaN  1499.0        NaN     NaN\n",
       "8    NaN     NaN        NaN     NaN\n",
       "9    NaN  1499.0        NaN     NaN\n",
       "10   NaN     NaN        NaN     NaN\n",
       "11   NaN     NaN        NaN     NaN"
      ]
     },
     "execution_count": 56,
     "metadata": {},
     "output_type": "execute_result"
    }
   ],
   "source": [
    "proizvodi_svi[proizvodi_svi.isin(['Neon', 1499.00])]"
   ]
  },
  {
   "attachments": {},
   "cell_type": "markdown",
   "id": "011b711f",
   "metadata": {},
   "source": [
    "#### Čitanje i pisanje podataka\n",
    "\n",
    "Tijekom ovog seminara, podatke ćemo učitavati iz .csv datoteka. Međutim, Pandas omogućava učitavanje podataka i iz drugih izvora kao što su baze podataka, JSON datoteke i sl. Čitanje i pisanje je omogućeno preko metoda koje za čitanje koriste englesku riječ read te dodatak naziva izvora. Za .csv datoteke to je metoda *read_csv()*. Za pisanje se koriste metode koje počinju s engleskom riječi to (prema) i opet je u nastavku naziv odredišta. Za .csv datoteku, to bi bila metoda *to_csv()*.\n",
    "\n",
    "|**Čitanje**|**Pisanje**|\n",
    "|---|---|\n",
    "|read_csv|to_csv|\n",
    "|read_sql|to_sql|\n",
    "|read_json|to_JSON|\n",
    "|read_clipboard|to_clipboard|\n",
    "\n",
    "Kao što smo rekli, mi ćemo se tijekom ovog seminara koristiti .csv datotekama tako da ćemo koristiti *read_csv()* metodu, ali ćemo za demonstraciju koristiti pisanje u druge formate.\n",
    "\n",
    "Iskoristimo Python *help()* metodu za upoznavanje s dostupnim opcijama metode *read_csv()*."
   ]
  },
  {
   "cell_type": "code",
   "execution_count": null,
   "id": "097f4115",
   "metadata": {},
   "outputs": [],
   "source": [
    "help(pd.read_csv)"
   ]
  },
  {
   "attachments": {},
   "cell_type": "markdown",
   "id": "440164c3",
   "metadata": {},
   "source": [
    "**NAPOMENA: za daljnje primjere, vježbe i zadatke koristit ćemo .csv datoteke iz mape *Data*.**<br>\n",
    "**Sve datoteke su preuzete s javno dostupnih izvora koje svaka zemlja objavljuje na stranicama određenih statističkih zavoda. Ove datoteke namijenjene su znanstvenim istraživanjima i podučavanju.\n",
    "Postoje i neke datoteke za čije se korištenje treba platiti, ali se one ne mogu preuzeti prije nego se izvrši uplata.**\n",
    "\n",
    "Krenut ćemo s datotekom *'cars.csv'*. Idemo je učitati u *DataFrame* i prikazati."
   ]
  },
  {
   "cell_type": "code",
   "execution_count": 58,
   "id": "ae85c6c4",
   "metadata": {},
   "outputs": [
    {
     "data": {
      "text/html": [
       "<div>\n",
       "<style scoped>\n",
       "    .dataframe tbody tr th:only-of-type {\n",
       "        vertical-align: middle;\n",
       "    }\n",
       "\n",
       "    .dataframe tbody tr th {\n",
       "        vertical-align: top;\n",
       "    }\n",
       "\n",
       "    .dataframe thead th {\n",
       "        text-align: right;\n",
       "    }\n",
       "</style>\n",
       "<table border=\"1\" class=\"dataframe\">\n",
       "  <thead>\n",
       "    <tr style=\"text-align: right;\">\n",
       "      <th></th>\n",
       "      <th>Car;MPG;Cylinders;Displacement;Horsepower;Weight;Acceleration;Model;Origin</th>\n",
       "    </tr>\n",
       "  </thead>\n",
       "  <tbody>\n",
       "    <tr>\n",
       "      <th>0</th>\n",
       "      <td>STRING;DOUBLE;INT;DOUBLE;DOUBLE;DOUBLE;DOUBLE;...</td>\n",
       "    </tr>\n",
       "    <tr>\n",
       "      <th>1</th>\n",
       "      <td>Chevrolet Chevelle Malibu;18.0;8;307.0;130.0;3...</td>\n",
       "    </tr>\n",
       "    <tr>\n",
       "      <th>2</th>\n",
       "      <td>Buick Skylark 320;15.0;8;350.0;165.0;3693.;11....</td>\n",
       "    </tr>\n",
       "    <tr>\n",
       "      <th>3</th>\n",
       "      <td>Plymouth Satellite;18.0;8;318.0;150.0;3436.;11...</td>\n",
       "    </tr>\n",
       "    <tr>\n",
       "      <th>4</th>\n",
       "      <td>AMC Rebel SST;16.0;8;304.0;150.0;3433.;12.0;70;US</td>\n",
       "    </tr>\n",
       "    <tr>\n",
       "      <th>...</th>\n",
       "      <td>...</td>\n",
       "    </tr>\n",
       "    <tr>\n",
       "      <th>402</th>\n",
       "      <td>Ford Mustang GL;27.0;4;140.0;86.00;2790.;15.6;...</td>\n",
       "    </tr>\n",
       "    <tr>\n",
       "      <th>403</th>\n",
       "      <td>Volkswagen Pickup;44.0;4;97.00;52.00;2130.;24....</td>\n",
       "    </tr>\n",
       "    <tr>\n",
       "      <th>404</th>\n",
       "      <td>Dodge Rampage;32.0;4;135.0;84.00;2295.;11.6;82;US</td>\n",
       "    </tr>\n",
       "    <tr>\n",
       "      <th>405</th>\n",
       "      <td>Ford Ranger;28.0;4;120.0;79.00;2625.;18.6;82;US</td>\n",
       "    </tr>\n",
       "    <tr>\n",
       "      <th>406</th>\n",
       "      <td>Chevy S-10;31.0;4;119.0;82.00;2720.;19.4;82;US</td>\n",
       "    </tr>\n",
       "  </tbody>\n",
       "</table>\n",
       "<p>407 rows × 1 columns</p>\n",
       "</div>"
      ],
      "text/plain": [
       "    Car;MPG;Cylinders;Displacement;Horsepower;Weight;Acceleration;Model;Origin\n",
       "0    STRING;DOUBLE;INT;DOUBLE;DOUBLE;DOUBLE;DOUBLE;...                        \n",
       "1    Chevrolet Chevelle Malibu;18.0;8;307.0;130.0;3...                        \n",
       "2    Buick Skylark 320;15.0;8;350.0;165.0;3693.;11....                        \n",
       "3    Plymouth Satellite;18.0;8;318.0;150.0;3436.;11...                        \n",
       "4    AMC Rebel SST;16.0;8;304.0;150.0;3433.;12.0;70;US                        \n",
       "..                                                 ...                        \n",
       "402  Ford Mustang GL;27.0;4;140.0;86.00;2790.;15.6;...                        \n",
       "403  Volkswagen Pickup;44.0;4;97.00;52.00;2130.;24....                        \n",
       "404  Dodge Rampage;32.0;4;135.0;84.00;2295.;11.6;82;US                        \n",
       "405    Ford Ranger;28.0;4;120.0;79.00;2625.;18.6;82;US                        \n",
       "406     Chevy S-10;31.0;4;119.0;82.00;2720.;19.4;82;US                        \n",
       "\n",
       "[407 rows x 1 columns]"
      ]
     },
     "execution_count": 58,
     "metadata": {},
     "output_type": "execute_result"
    }
   ],
   "source": [
    "cars_csv = pd.read_csv('../Data/Vjezbe_Primjeri/cars.csv')\n",
    "cars_csv"
   ]
  },
  {
   "attachments": {},
   "cell_type": "markdown",
   "id": "1b44af7f",
   "metadata": {},
   "source": [
    "Obratite pažnju na zadnju liniju u kojoj piše \"407 rows × 1 columns\". Dobili smo samo jednu kolonu. To nije dobro. Ako pogledamo rezultat koji smo dobili preko *help* metode za *read_csv()*, vidjet ćemo da imamo na raspolaganju *sep* argument (eng. *separator ili delimiter*). CSV je skraćenica od \"*Comma-Separated Values*\", odnosno zarezom odvojenih vrijednosti. Dakle, primarni *delimiter* je zarez, a mi u našem primjeru imamo ; kao *delimiter*. \n",
    "\n",
    "Ponovimo čitanje iz CSV datoteke, ali ovaj put ćemo dodati i argument za *delimiter*."
   ]
  },
  {
   "cell_type": "code",
   "execution_count": 59,
   "id": "c77c208c",
   "metadata": {
    "scrolled": false
   },
   "outputs": [
    {
     "data": {
      "text/html": [
       "<div>\n",
       "<style scoped>\n",
       "    .dataframe tbody tr th:only-of-type {\n",
       "        vertical-align: middle;\n",
       "    }\n",
       "\n",
       "    .dataframe tbody tr th {\n",
       "        vertical-align: top;\n",
       "    }\n",
       "\n",
       "    .dataframe thead th {\n",
       "        text-align: right;\n",
       "    }\n",
       "</style>\n",
       "<table border=\"1\" class=\"dataframe\">\n",
       "  <thead>\n",
       "    <tr style=\"text-align: right;\">\n",
       "      <th></th>\n",
       "      <th>Car</th>\n",
       "      <th>MPG</th>\n",
       "      <th>Cylinders</th>\n",
       "      <th>Displacement</th>\n",
       "      <th>Horsepower</th>\n",
       "      <th>Weight</th>\n",
       "      <th>Acceleration</th>\n",
       "      <th>Model</th>\n",
       "      <th>Origin</th>\n",
       "    </tr>\n",
       "  </thead>\n",
       "  <tbody>\n",
       "    <tr>\n",
       "      <th>0</th>\n",
       "      <td>STRING</td>\n",
       "      <td>DOUBLE</td>\n",
       "      <td>INT</td>\n",
       "      <td>DOUBLE</td>\n",
       "      <td>DOUBLE</td>\n",
       "      <td>DOUBLE</td>\n",
       "      <td>DOUBLE</td>\n",
       "      <td>INT</td>\n",
       "      <td>CAT</td>\n",
       "    </tr>\n",
       "    <tr>\n",
       "      <th>1</th>\n",
       "      <td>Chevrolet Chevelle Malibu</td>\n",
       "      <td>18.0</td>\n",
       "      <td>8</td>\n",
       "      <td>307.0</td>\n",
       "      <td>130.0</td>\n",
       "      <td>3504.</td>\n",
       "      <td>12.0</td>\n",
       "      <td>70</td>\n",
       "      <td>US</td>\n",
       "    </tr>\n",
       "    <tr>\n",
       "      <th>2</th>\n",
       "      <td>Buick Skylark 320</td>\n",
       "      <td>15.0</td>\n",
       "      <td>8</td>\n",
       "      <td>350.0</td>\n",
       "      <td>165.0</td>\n",
       "      <td>3693.</td>\n",
       "      <td>11.5</td>\n",
       "      <td>70</td>\n",
       "      <td>US</td>\n",
       "    </tr>\n",
       "    <tr>\n",
       "      <th>3</th>\n",
       "      <td>Plymouth Satellite</td>\n",
       "      <td>18.0</td>\n",
       "      <td>8</td>\n",
       "      <td>318.0</td>\n",
       "      <td>150.0</td>\n",
       "      <td>3436.</td>\n",
       "      <td>11.0</td>\n",
       "      <td>70</td>\n",
       "      <td>US</td>\n",
       "    </tr>\n",
       "    <tr>\n",
       "      <th>4</th>\n",
       "      <td>AMC Rebel SST</td>\n",
       "      <td>16.0</td>\n",
       "      <td>8</td>\n",
       "      <td>304.0</td>\n",
       "      <td>150.0</td>\n",
       "      <td>3433.</td>\n",
       "      <td>12.0</td>\n",
       "      <td>70</td>\n",
       "      <td>US</td>\n",
       "    </tr>\n",
       "    <tr>\n",
       "      <th>...</th>\n",
       "      <td>...</td>\n",
       "      <td>...</td>\n",
       "      <td>...</td>\n",
       "      <td>...</td>\n",
       "      <td>...</td>\n",
       "      <td>...</td>\n",
       "      <td>...</td>\n",
       "      <td>...</td>\n",
       "      <td>...</td>\n",
       "    </tr>\n",
       "    <tr>\n",
       "      <th>402</th>\n",
       "      <td>Ford Mustang GL</td>\n",
       "      <td>27.0</td>\n",
       "      <td>4</td>\n",
       "      <td>140.0</td>\n",
       "      <td>86.00</td>\n",
       "      <td>2790.</td>\n",
       "      <td>15.6</td>\n",
       "      <td>82</td>\n",
       "      <td>US</td>\n",
       "    </tr>\n",
       "    <tr>\n",
       "      <th>403</th>\n",
       "      <td>Volkswagen Pickup</td>\n",
       "      <td>44.0</td>\n",
       "      <td>4</td>\n",
       "      <td>97.00</td>\n",
       "      <td>52.00</td>\n",
       "      <td>2130.</td>\n",
       "      <td>24.6</td>\n",
       "      <td>82</td>\n",
       "      <td>Europe</td>\n",
       "    </tr>\n",
       "    <tr>\n",
       "      <th>404</th>\n",
       "      <td>Dodge Rampage</td>\n",
       "      <td>32.0</td>\n",
       "      <td>4</td>\n",
       "      <td>135.0</td>\n",
       "      <td>84.00</td>\n",
       "      <td>2295.</td>\n",
       "      <td>11.6</td>\n",
       "      <td>82</td>\n",
       "      <td>US</td>\n",
       "    </tr>\n",
       "    <tr>\n",
       "      <th>405</th>\n",
       "      <td>Ford Ranger</td>\n",
       "      <td>28.0</td>\n",
       "      <td>4</td>\n",
       "      <td>120.0</td>\n",
       "      <td>79.00</td>\n",
       "      <td>2625.</td>\n",
       "      <td>18.6</td>\n",
       "      <td>82</td>\n",
       "      <td>US</td>\n",
       "    </tr>\n",
       "    <tr>\n",
       "      <th>406</th>\n",
       "      <td>Chevy S-10</td>\n",
       "      <td>31.0</td>\n",
       "      <td>4</td>\n",
       "      <td>119.0</td>\n",
       "      <td>82.00</td>\n",
       "      <td>2720.</td>\n",
       "      <td>19.4</td>\n",
       "      <td>82</td>\n",
       "      <td>US</td>\n",
       "    </tr>\n",
       "  </tbody>\n",
       "</table>\n",
       "<p>407 rows × 9 columns</p>\n",
       "</div>"
      ],
      "text/plain": [
       "                           Car     MPG Cylinders Displacement Horsepower  \\\n",
       "0                       STRING  DOUBLE       INT       DOUBLE     DOUBLE   \n",
       "1    Chevrolet Chevelle Malibu    18.0         8        307.0      130.0   \n",
       "2            Buick Skylark 320    15.0         8        350.0      165.0   \n",
       "3           Plymouth Satellite    18.0         8        318.0      150.0   \n",
       "4                AMC Rebel SST    16.0         8        304.0      150.0   \n",
       "..                         ...     ...       ...          ...        ...   \n",
       "402            Ford Mustang GL    27.0         4        140.0      86.00   \n",
       "403          Volkswagen Pickup    44.0         4        97.00      52.00   \n",
       "404              Dodge Rampage    32.0         4        135.0      84.00   \n",
       "405                Ford Ranger    28.0         4        120.0      79.00   \n",
       "406                 Chevy S-10    31.0         4        119.0      82.00   \n",
       "\n",
       "     Weight Acceleration Model  Origin  \n",
       "0    DOUBLE       DOUBLE   INT     CAT  \n",
       "1     3504.         12.0    70      US  \n",
       "2     3693.         11.5    70      US  \n",
       "3     3436.         11.0    70      US  \n",
       "4     3433.         12.0    70      US  \n",
       "..      ...          ...   ...     ...  \n",
       "402   2790.         15.6    82      US  \n",
       "403   2130.         24.6    82  Europe  \n",
       "404   2295.         11.6    82      US  \n",
       "405   2625.         18.6    82      US  \n",
       "406   2720.         19.4    82      US  \n",
       "\n",
       "[407 rows x 9 columns]"
      ]
     },
     "execution_count": 59,
     "metadata": {},
     "output_type": "execute_result"
    }
   ],
   "source": [
    "cars_csv = pd.read_csv('../Data/Vjezbe_Primjeri/cars.csv', sep=';')\n",
    "cars_csv"
   ]
  },
  {
   "attachments": {},
   "cell_type": "markdown",
   "id": "05772213",
   "metadata": {},
   "source": [
    "Sada je već puno bolje. I dalje imamo 407 redaka, ali sada smo dobili 9 kolona.\n",
    "\n",
    "Provjerimo što ćemo dobiti ako koristimo svojstva: *columns, values i index.*"
   ]
  },
  {
   "cell_type": "code",
   "execution_count": 61,
   "id": "64c94349",
   "metadata": {},
   "outputs": [
    {
     "data": {
      "text/html": [
       "<div>\n",
       "<style scoped>\n",
       "    .dataframe tbody tr th:only-of-type {\n",
       "        vertical-align: middle;\n",
       "    }\n",
       "\n",
       "    .dataframe tbody tr th {\n",
       "        vertical-align: top;\n",
       "    }\n",
       "\n",
       "    .dataframe thead th {\n",
       "        text-align: right;\n",
       "    }\n",
       "</style>\n",
       "<table border=\"1\" class=\"dataframe\">\n",
       "  <thead>\n",
       "    <tr style=\"text-align: right;\">\n",
       "      <th></th>\n",
       "      <th>Car</th>\n",
       "      <th>MPG</th>\n",
       "      <th>Cylinders</th>\n",
       "      <th>Displacement</th>\n",
       "      <th>Horsepower</th>\n",
       "      <th>Weight</th>\n",
       "      <th>Acceleration</th>\n",
       "      <th>Model</th>\n",
       "      <th>Origin</th>\n",
       "    </tr>\n",
       "  </thead>\n",
       "  <tbody>\n",
       "    <tr>\n",
       "      <th>0</th>\n",
       "      <td>STRING</td>\n",
       "      <td>DOUBLE</td>\n",
       "      <td>INT</td>\n",
       "      <td>DOUBLE</td>\n",
       "      <td>DOUBLE</td>\n",
       "      <td>DOUBLE</td>\n",
       "      <td>DOUBLE</td>\n",
       "      <td>INT</td>\n",
       "      <td>CAT</td>\n",
       "    </tr>\n",
       "    <tr>\n",
       "      <th>1</th>\n",
       "      <td>Chevrolet Chevelle Malibu</td>\n",
       "      <td>18.0</td>\n",
       "      <td>8</td>\n",
       "      <td>307.0</td>\n",
       "      <td>130.0</td>\n",
       "      <td>3504.</td>\n",
       "      <td>12.0</td>\n",
       "      <td>70</td>\n",
       "      <td>US</td>\n",
       "    </tr>\n",
       "    <tr>\n",
       "      <th>2</th>\n",
       "      <td>Buick Skylark 320</td>\n",
       "      <td>15.0</td>\n",
       "      <td>8</td>\n",
       "      <td>350.0</td>\n",
       "      <td>165.0</td>\n",
       "      <td>3693.</td>\n",
       "      <td>11.5</td>\n",
       "      <td>70</td>\n",
       "      <td>US</td>\n",
       "    </tr>\n",
       "    <tr>\n",
       "      <th>3</th>\n",
       "      <td>Plymouth Satellite</td>\n",
       "      <td>18.0</td>\n",
       "      <td>8</td>\n",
       "      <td>318.0</td>\n",
       "      <td>150.0</td>\n",
       "      <td>3436.</td>\n",
       "      <td>11.0</td>\n",
       "      <td>70</td>\n",
       "      <td>US</td>\n",
       "    </tr>\n",
       "    <tr>\n",
       "      <th>4</th>\n",
       "      <td>AMC Rebel SST</td>\n",
       "      <td>16.0</td>\n",
       "      <td>8</td>\n",
       "      <td>304.0</td>\n",
       "      <td>150.0</td>\n",
       "      <td>3433.</td>\n",
       "      <td>12.0</td>\n",
       "      <td>70</td>\n",
       "      <td>US</td>\n",
       "    </tr>\n",
       "    <tr>\n",
       "      <th>...</th>\n",
       "      <td>...</td>\n",
       "      <td>...</td>\n",
       "      <td>...</td>\n",
       "      <td>...</td>\n",
       "      <td>...</td>\n",
       "      <td>...</td>\n",
       "      <td>...</td>\n",
       "      <td>...</td>\n",
       "      <td>...</td>\n",
       "    </tr>\n",
       "    <tr>\n",
       "      <th>402</th>\n",
       "      <td>Ford Mustang GL</td>\n",
       "      <td>27.0</td>\n",
       "      <td>4</td>\n",
       "      <td>140.0</td>\n",
       "      <td>86.00</td>\n",
       "      <td>2790.</td>\n",
       "      <td>15.6</td>\n",
       "      <td>82</td>\n",
       "      <td>US</td>\n",
       "    </tr>\n",
       "    <tr>\n",
       "      <th>403</th>\n",
       "      <td>Volkswagen Pickup</td>\n",
       "      <td>44.0</td>\n",
       "      <td>4</td>\n",
       "      <td>97.00</td>\n",
       "      <td>52.00</td>\n",
       "      <td>2130.</td>\n",
       "      <td>24.6</td>\n",
       "      <td>82</td>\n",
       "      <td>Europe</td>\n",
       "    </tr>\n",
       "    <tr>\n",
       "      <th>404</th>\n",
       "      <td>Dodge Rampage</td>\n",
       "      <td>32.0</td>\n",
       "      <td>4</td>\n",
       "      <td>135.0</td>\n",
       "      <td>84.00</td>\n",
       "      <td>2295.</td>\n",
       "      <td>11.6</td>\n",
       "      <td>82</td>\n",
       "      <td>US</td>\n",
       "    </tr>\n",
       "    <tr>\n",
       "      <th>405</th>\n",
       "      <td>Ford Ranger</td>\n",
       "      <td>28.0</td>\n",
       "      <td>4</td>\n",
       "      <td>120.0</td>\n",
       "      <td>79.00</td>\n",
       "      <td>2625.</td>\n",
       "      <td>18.6</td>\n",
       "      <td>82</td>\n",
       "      <td>US</td>\n",
       "    </tr>\n",
       "    <tr>\n",
       "      <th>406</th>\n",
       "      <td>Chevy S-10</td>\n",
       "      <td>31.0</td>\n",
       "      <td>4</td>\n",
       "      <td>119.0</td>\n",
       "      <td>82.00</td>\n",
       "      <td>2720.</td>\n",
       "      <td>19.4</td>\n",
       "      <td>82</td>\n",
       "      <td>US</td>\n",
       "    </tr>\n",
       "  </tbody>\n",
       "</table>\n",
       "<p>407 rows × 9 columns</p>\n",
       "</div>"
      ],
      "text/plain": [
       "                           Car     MPG Cylinders Displacement Horsepower  \\\n",
       "0                       STRING  DOUBLE       INT       DOUBLE     DOUBLE   \n",
       "1    Chevrolet Chevelle Malibu    18.0         8        307.0      130.0   \n",
       "2            Buick Skylark 320    15.0         8        350.0      165.0   \n",
       "3           Plymouth Satellite    18.0         8        318.0      150.0   \n",
       "4                AMC Rebel SST    16.0         8        304.0      150.0   \n",
       "..                         ...     ...       ...          ...        ...   \n",
       "402            Ford Mustang GL    27.0         4        140.0      86.00   \n",
       "403          Volkswagen Pickup    44.0         4        97.00      52.00   \n",
       "404              Dodge Rampage    32.0         4        135.0      84.00   \n",
       "405                Ford Ranger    28.0         4        120.0      79.00   \n",
       "406                 Chevy S-10    31.0         4        119.0      82.00   \n",
       "\n",
       "     Weight Acceleration Model  Origin  \n",
       "0    DOUBLE       DOUBLE   INT     CAT  \n",
       "1     3504.         12.0    70      US  \n",
       "2     3693.         11.5    70      US  \n",
       "3     3436.         11.0    70      US  \n",
       "4     3433.         12.0    70      US  \n",
       "..      ...          ...   ...     ...  \n",
       "402   2790.         15.6    82      US  \n",
       "403   2130.         24.6    82  Europe  \n",
       "404   2295.         11.6    82      US  \n",
       "405   2625.         18.6    82      US  \n",
       "406   2720.         19.4    82      US  \n",
       "\n",
       "[407 rows x 9 columns]"
      ]
     },
     "execution_count": 61,
     "metadata": {},
     "output_type": "execute_result"
    }
   ],
   "source": [
    "cars_csv = pd.read_csv('../Data/Vjezbe_Primjeri/cars.csv', sep=';')\n",
    "cars_csv"
   ]
  },
  {
   "cell_type": "code",
   "execution_count": 62,
   "id": "5835a031",
   "metadata": {},
   "outputs": [
    {
     "data": {
      "text/plain": [
       "RangeIndex(start=0, stop=407, step=1)"
      ]
     },
     "execution_count": 62,
     "metadata": {},
     "output_type": "execute_result"
    }
   ],
   "source": [
    "cars_csv.index"
   ]
  },
  {
   "cell_type": "code",
   "execution_count": 63,
   "id": "be0e29ca",
   "metadata": {},
   "outputs": [
    {
     "data": {
      "text/plain": [
       "Index(['Car', 'MPG', 'Cylinders', 'Displacement', 'Horsepower', 'Weight',\n",
       "       'Acceleration', 'Model', 'Origin'],\n",
       "      dtype='object')"
      ]
     },
     "execution_count": 63,
     "metadata": {},
     "output_type": "execute_result"
    }
   ],
   "source": [
    "cars_csv.columns"
   ]
  },
  {
   "cell_type": "code",
   "execution_count": 64,
   "id": "363b5460",
   "metadata": {},
   "outputs": [
    {
     "data": {
      "text/plain": [
       "array([['STRING', 'DOUBLE', 'INT', ..., 'DOUBLE', 'INT', 'CAT'],\n",
       "       ['Chevrolet Chevelle Malibu', '18.0', '8', ..., '12.0', '70',\n",
       "        'US'],\n",
       "       ['Buick Skylark 320', '15.0', '8', ..., '11.5', '70', 'US'],\n",
       "       ...,\n",
       "       ['Dodge Rampage', '32.0', '4', ..., '11.6', '82', 'US'],\n",
       "       ['Ford Ranger', '28.0', '4', ..., '18.6', '82', 'US'],\n",
       "       ['Chevy S-10', '31.0', '4', ..., '19.4', '82', 'US']], dtype=object)"
      ]
     },
     "execution_count": 64,
     "metadata": {},
     "output_type": "execute_result"
    }
   ],
   "source": [
    "cars_csv.values"
   ]
  },
  {
   "attachments": {},
   "cell_type": "markdown",
   "id": "eb077662",
   "metadata": {},
   "source": [
    "Svojstva *columns* i *index* su nam korisna, dok values i nije toliko. Puno korisnije informacije možemo dobiti ako saznamo koji tip podatka se nalazi u svakoj koloni. Za to koristimo *DataFrame* svojstvo *dtypes*."
   ]
  },
  {
   "cell_type": "code",
   "execution_count": 65,
   "id": "c18978dc",
   "metadata": {},
   "outputs": [
    {
     "data": {
      "text/plain": [
       "Car             object\n",
       "MPG             object\n",
       "Cylinders       object\n",
       "Displacement    object\n",
       "Horsepower      object\n",
       "Weight          object\n",
       "Acceleration    object\n",
       "Model           object\n",
       "Origin          object\n",
       "dtype: object"
      ]
     },
     "execution_count": 65,
     "metadata": {},
     "output_type": "execute_result"
    }
   ],
   "source": [
    "cars_csv.dtypes"
   ]
  },
  {
   "attachments": {},
   "cell_type": "markdown",
   "id": "f4eb22d2",
   "metadata": {},
   "source": [
    "Tip podataka za sve kolone je \"object\", što najčešće predstavlja tekstualni tip podatka ili tip podatka nad kojim se ne mogu izvršavati matematičke operacije. Međutim, u ovom slučaju to nije točno. Postoje kolone, čak ih je većina, koje sadrže numeričke podatke.\n",
    "\n",
    "Ako malo bolje pogledate prikaz *DataFramea*, vidjet ćete da je red s indeksom 0, red u kojem su navedeni tipovi podatka za svaku kolonu. Taj red nam nije potreban. Navedene podatke možemo dobiti pomoću metoda Pandas *DataFramea*. \n",
    "\n",
    "Izbrišimo ga."
   ]
  },
  {
   "cell_type": "code",
   "execution_count": 66,
   "id": "0e7f7a26",
   "metadata": {},
   "outputs": [
    {
     "data": {
      "text/html": [
       "<div>\n",
       "<style scoped>\n",
       "    .dataframe tbody tr th:only-of-type {\n",
       "        vertical-align: middle;\n",
       "    }\n",
       "\n",
       "    .dataframe tbody tr th {\n",
       "        vertical-align: top;\n",
       "    }\n",
       "\n",
       "    .dataframe thead th {\n",
       "        text-align: right;\n",
       "    }\n",
       "</style>\n",
       "<table border=\"1\" class=\"dataframe\">\n",
       "  <thead>\n",
       "    <tr style=\"text-align: right;\">\n",
       "      <th></th>\n",
       "      <th>Car</th>\n",
       "      <th>MPG</th>\n",
       "      <th>Cylinders</th>\n",
       "      <th>Displacement</th>\n",
       "      <th>Horsepower</th>\n",
       "      <th>Weight</th>\n",
       "      <th>Acceleration</th>\n",
       "      <th>Model</th>\n",
       "      <th>Origin</th>\n",
       "    </tr>\n",
       "  </thead>\n",
       "  <tbody>\n",
       "    <tr>\n",
       "      <th>1</th>\n",
       "      <td>Chevrolet Chevelle Malibu</td>\n",
       "      <td>18.0</td>\n",
       "      <td>8</td>\n",
       "      <td>307.0</td>\n",
       "      <td>130.0</td>\n",
       "      <td>3504.</td>\n",
       "      <td>12.0</td>\n",
       "      <td>70</td>\n",
       "      <td>US</td>\n",
       "    </tr>\n",
       "    <tr>\n",
       "      <th>2</th>\n",
       "      <td>Buick Skylark 320</td>\n",
       "      <td>15.0</td>\n",
       "      <td>8</td>\n",
       "      <td>350.0</td>\n",
       "      <td>165.0</td>\n",
       "      <td>3693.</td>\n",
       "      <td>11.5</td>\n",
       "      <td>70</td>\n",
       "      <td>US</td>\n",
       "    </tr>\n",
       "    <tr>\n",
       "      <th>3</th>\n",
       "      <td>Plymouth Satellite</td>\n",
       "      <td>18.0</td>\n",
       "      <td>8</td>\n",
       "      <td>318.0</td>\n",
       "      <td>150.0</td>\n",
       "      <td>3436.</td>\n",
       "      <td>11.0</td>\n",
       "      <td>70</td>\n",
       "      <td>US</td>\n",
       "    </tr>\n",
       "    <tr>\n",
       "      <th>4</th>\n",
       "      <td>AMC Rebel SST</td>\n",
       "      <td>16.0</td>\n",
       "      <td>8</td>\n",
       "      <td>304.0</td>\n",
       "      <td>150.0</td>\n",
       "      <td>3433.</td>\n",
       "      <td>12.0</td>\n",
       "      <td>70</td>\n",
       "      <td>US</td>\n",
       "    </tr>\n",
       "    <tr>\n",
       "      <th>5</th>\n",
       "      <td>Ford Torino</td>\n",
       "      <td>17.0</td>\n",
       "      <td>8</td>\n",
       "      <td>302.0</td>\n",
       "      <td>140.0</td>\n",
       "      <td>3449.</td>\n",
       "      <td>10.5</td>\n",
       "      <td>70</td>\n",
       "      <td>US</td>\n",
       "    </tr>\n",
       "    <tr>\n",
       "      <th>...</th>\n",
       "      <td>...</td>\n",
       "      <td>...</td>\n",
       "      <td>...</td>\n",
       "      <td>...</td>\n",
       "      <td>...</td>\n",
       "      <td>...</td>\n",
       "      <td>...</td>\n",
       "      <td>...</td>\n",
       "      <td>...</td>\n",
       "    </tr>\n",
       "    <tr>\n",
       "      <th>402</th>\n",
       "      <td>Ford Mustang GL</td>\n",
       "      <td>27.0</td>\n",
       "      <td>4</td>\n",
       "      <td>140.0</td>\n",
       "      <td>86.00</td>\n",
       "      <td>2790.</td>\n",
       "      <td>15.6</td>\n",
       "      <td>82</td>\n",
       "      <td>US</td>\n",
       "    </tr>\n",
       "    <tr>\n",
       "      <th>403</th>\n",
       "      <td>Volkswagen Pickup</td>\n",
       "      <td>44.0</td>\n",
       "      <td>4</td>\n",
       "      <td>97.00</td>\n",
       "      <td>52.00</td>\n",
       "      <td>2130.</td>\n",
       "      <td>24.6</td>\n",
       "      <td>82</td>\n",
       "      <td>Europe</td>\n",
       "    </tr>\n",
       "    <tr>\n",
       "      <th>404</th>\n",
       "      <td>Dodge Rampage</td>\n",
       "      <td>32.0</td>\n",
       "      <td>4</td>\n",
       "      <td>135.0</td>\n",
       "      <td>84.00</td>\n",
       "      <td>2295.</td>\n",
       "      <td>11.6</td>\n",
       "      <td>82</td>\n",
       "      <td>US</td>\n",
       "    </tr>\n",
       "    <tr>\n",
       "      <th>405</th>\n",
       "      <td>Ford Ranger</td>\n",
       "      <td>28.0</td>\n",
       "      <td>4</td>\n",
       "      <td>120.0</td>\n",
       "      <td>79.00</td>\n",
       "      <td>2625.</td>\n",
       "      <td>18.6</td>\n",
       "      <td>82</td>\n",
       "      <td>US</td>\n",
       "    </tr>\n",
       "    <tr>\n",
       "      <th>406</th>\n",
       "      <td>Chevy S-10</td>\n",
       "      <td>31.0</td>\n",
       "      <td>4</td>\n",
       "      <td>119.0</td>\n",
       "      <td>82.00</td>\n",
       "      <td>2720.</td>\n",
       "      <td>19.4</td>\n",
       "      <td>82</td>\n",
       "      <td>US</td>\n",
       "    </tr>\n",
       "  </tbody>\n",
       "</table>\n",
       "<p>406 rows × 9 columns</p>\n",
       "</div>"
      ],
      "text/plain": [
       "                           Car   MPG Cylinders Displacement Horsepower Weight  \\\n",
       "1    Chevrolet Chevelle Malibu  18.0         8        307.0      130.0  3504.   \n",
       "2            Buick Skylark 320  15.0         8        350.0      165.0  3693.   \n",
       "3           Plymouth Satellite  18.0         8        318.0      150.0  3436.   \n",
       "4                AMC Rebel SST  16.0         8        304.0      150.0  3433.   \n",
       "5                  Ford Torino  17.0         8        302.0      140.0  3449.   \n",
       "..                         ...   ...       ...          ...        ...    ...   \n",
       "402            Ford Mustang GL  27.0         4        140.0      86.00  2790.   \n",
       "403          Volkswagen Pickup  44.0         4        97.00      52.00  2130.   \n",
       "404              Dodge Rampage  32.0         4        135.0      84.00  2295.   \n",
       "405                Ford Ranger  28.0         4        120.0      79.00  2625.   \n",
       "406                 Chevy S-10  31.0         4        119.0      82.00  2720.   \n",
       "\n",
       "    Acceleration Model  Origin  \n",
       "1           12.0    70      US  \n",
       "2           11.5    70      US  \n",
       "3           11.0    70      US  \n",
       "4           12.0    70      US  \n",
       "5           10.5    70      US  \n",
       "..           ...   ...     ...  \n",
       "402         15.6    82      US  \n",
       "403         24.6    82  Europe  \n",
       "404         11.6    82      US  \n",
       "405         18.6    82      US  \n",
       "406         19.4    82      US  \n",
       "\n",
       "[406 rows x 9 columns]"
      ]
     },
     "execution_count": 66,
     "metadata": {},
     "output_type": "execute_result"
    }
   ],
   "source": [
    "cars_df = cars_csv.drop([0])\n",
    "cars_df"
   ]
  },
  {
   "attachments": {},
   "cell_type": "markdown",
   "id": "73aeb8c9",
   "metadata": {},
   "source": [
    "Provjerimo ponovno tip podataka u ćelijama."
   ]
  },
  {
   "cell_type": "code",
   "execution_count": 68,
   "id": "69cddc1d",
   "metadata": {
    "scrolled": true
   },
   "outputs": [
    {
     "data": {
      "text/plain": [
       "Car             object\n",
       "MPG             object\n",
       "Cylinders       object\n",
       "Displacement    object\n",
       "Horsepower      object\n",
       "Weight          object\n",
       "Acceleration    object\n",
       "Model           object\n",
       "Origin          object\n",
       "dtype: object"
      ]
     },
     "execution_count": 68,
     "metadata": {},
     "output_type": "execute_result"
    }
   ],
   "source": [
    "cars_df.dtypes"
   ]
  },
  {
   "attachments": {},
   "cell_type": "markdown",
   "id": "5ff64fb3",
   "metadata": {},
   "source": [
    "I dalje je navedeno da se radi o 'object' tipu podataka. Pandas *DataFrame*, prilikom uvoza podataka, automatski prilagodi tip podatka, ali kako je u našem primjeru prvi podatak bio tekstualnog tipa (redak koji smo izbrisali), onda je cijela kolona ostavljena u tekstualnom tipu. U našem primjeru postoje kolone koje zaista imaju tekstualne podatke (naziv automobila u koloni *Car*) pa nije moguće koristiti naredbu *astype()* nad cijelim DF-om, već samo na pojedinačnim kolonama.\n",
    "\n",
    "Za konverziju tipa podataka, koristi se metoda *astype()* koja kao argument prihvaća naziv tipa podataka. Metoda vraća konvertirane podatke na način da ih je potrebno pohraniti.\n",
    "\n",
    "*Informativno: pokušajte pokrenuti **cars_df.astype(float).***"
   ]
  },
  {
   "cell_type": "code",
   "execution_count": 69,
   "id": "7837a3b2",
   "metadata": {},
   "outputs": [
    {
     "data": {
      "text/html": [
       "<div>\n",
       "<style scoped>\n",
       "    .dataframe tbody tr th:only-of-type {\n",
       "        vertical-align: middle;\n",
       "    }\n",
       "\n",
       "    .dataframe tbody tr th {\n",
       "        vertical-align: top;\n",
       "    }\n",
       "\n",
       "    .dataframe thead th {\n",
       "        text-align: right;\n",
       "    }\n",
       "</style>\n",
       "<table border=\"1\" class=\"dataframe\">\n",
       "  <thead>\n",
       "    <tr style=\"text-align: right;\">\n",
       "      <th></th>\n",
       "      <th>Car</th>\n",
       "      <th>MPG</th>\n",
       "      <th>Cylinders</th>\n",
       "      <th>Displacement</th>\n",
       "      <th>Horsepower</th>\n",
       "      <th>Weight</th>\n",
       "      <th>Acceleration</th>\n",
       "      <th>Model</th>\n",
       "      <th>Origin</th>\n",
       "    </tr>\n",
       "  </thead>\n",
       "  <tbody>\n",
       "    <tr>\n",
       "      <th>1</th>\n",
       "      <td>Chevrolet Chevelle Malibu</td>\n",
       "      <td>18.0</td>\n",
       "      <td>8</td>\n",
       "      <td>307.0</td>\n",
       "      <td>130.0</td>\n",
       "      <td>3504.</td>\n",
       "      <td>12.0</td>\n",
       "      <td>70</td>\n",
       "      <td>US</td>\n",
       "    </tr>\n",
       "    <tr>\n",
       "      <th>2</th>\n",
       "      <td>Buick Skylark 320</td>\n",
       "      <td>15.0</td>\n",
       "      <td>8</td>\n",
       "      <td>350.0</td>\n",
       "      <td>165.0</td>\n",
       "      <td>3693.</td>\n",
       "      <td>11.5</td>\n",
       "      <td>70</td>\n",
       "      <td>US</td>\n",
       "    </tr>\n",
       "    <tr>\n",
       "      <th>3</th>\n",
       "      <td>Plymouth Satellite</td>\n",
       "      <td>18.0</td>\n",
       "      <td>8</td>\n",
       "      <td>318.0</td>\n",
       "      <td>150.0</td>\n",
       "      <td>3436.</td>\n",
       "      <td>11.0</td>\n",
       "      <td>70</td>\n",
       "      <td>US</td>\n",
       "    </tr>\n",
       "    <tr>\n",
       "      <th>4</th>\n",
       "      <td>AMC Rebel SST</td>\n",
       "      <td>16.0</td>\n",
       "      <td>8</td>\n",
       "      <td>304.0</td>\n",
       "      <td>150.0</td>\n",
       "      <td>3433.</td>\n",
       "      <td>12.0</td>\n",
       "      <td>70</td>\n",
       "      <td>US</td>\n",
       "    </tr>\n",
       "    <tr>\n",
       "      <th>5</th>\n",
       "      <td>Ford Torino</td>\n",
       "      <td>17.0</td>\n",
       "      <td>8</td>\n",
       "      <td>302.0</td>\n",
       "      <td>140.0</td>\n",
       "      <td>3449.</td>\n",
       "      <td>10.5</td>\n",
       "      <td>70</td>\n",
       "      <td>US</td>\n",
       "    </tr>\n",
       "    <tr>\n",
       "      <th>...</th>\n",
       "      <td>...</td>\n",
       "      <td>...</td>\n",
       "      <td>...</td>\n",
       "      <td>...</td>\n",
       "      <td>...</td>\n",
       "      <td>...</td>\n",
       "      <td>...</td>\n",
       "      <td>...</td>\n",
       "      <td>...</td>\n",
       "    </tr>\n",
       "    <tr>\n",
       "      <th>402</th>\n",
       "      <td>Ford Mustang GL</td>\n",
       "      <td>27.0</td>\n",
       "      <td>4</td>\n",
       "      <td>140.0</td>\n",
       "      <td>86.00</td>\n",
       "      <td>2790.</td>\n",
       "      <td>15.6</td>\n",
       "      <td>82</td>\n",
       "      <td>US</td>\n",
       "    </tr>\n",
       "    <tr>\n",
       "      <th>403</th>\n",
       "      <td>Volkswagen Pickup</td>\n",
       "      <td>44.0</td>\n",
       "      <td>4</td>\n",
       "      <td>97.00</td>\n",
       "      <td>52.00</td>\n",
       "      <td>2130.</td>\n",
       "      <td>24.6</td>\n",
       "      <td>82</td>\n",
       "      <td>Europe</td>\n",
       "    </tr>\n",
       "    <tr>\n",
       "      <th>404</th>\n",
       "      <td>Dodge Rampage</td>\n",
       "      <td>32.0</td>\n",
       "      <td>4</td>\n",
       "      <td>135.0</td>\n",
       "      <td>84.00</td>\n",
       "      <td>2295.</td>\n",
       "      <td>11.6</td>\n",
       "      <td>82</td>\n",
       "      <td>US</td>\n",
       "    </tr>\n",
       "    <tr>\n",
       "      <th>405</th>\n",
       "      <td>Ford Ranger</td>\n",
       "      <td>28.0</td>\n",
       "      <td>4</td>\n",
       "      <td>120.0</td>\n",
       "      <td>79.00</td>\n",
       "      <td>2625.</td>\n",
       "      <td>18.6</td>\n",
       "      <td>82</td>\n",
       "      <td>US</td>\n",
       "    </tr>\n",
       "    <tr>\n",
       "      <th>406</th>\n",
       "      <td>Chevy S-10</td>\n",
       "      <td>31.0</td>\n",
       "      <td>4</td>\n",
       "      <td>119.0</td>\n",
       "      <td>82.00</td>\n",
       "      <td>2720.</td>\n",
       "      <td>19.4</td>\n",
       "      <td>82</td>\n",
       "      <td>US</td>\n",
       "    </tr>\n",
       "  </tbody>\n",
       "</table>\n",
       "<p>406 rows × 9 columns</p>\n",
       "</div>"
      ],
      "text/plain": [
       "                           Car   MPG Cylinders Displacement Horsepower Weight  \\\n",
       "1    Chevrolet Chevelle Malibu  18.0         8        307.0      130.0  3504.   \n",
       "2            Buick Skylark 320  15.0         8        350.0      165.0  3693.   \n",
       "3           Plymouth Satellite  18.0         8        318.0      150.0  3436.   \n",
       "4                AMC Rebel SST  16.0         8        304.0      150.0  3433.   \n",
       "5                  Ford Torino  17.0         8        302.0      140.0  3449.   \n",
       "..                         ...   ...       ...          ...        ...    ...   \n",
       "402            Ford Mustang GL  27.0         4        140.0      86.00  2790.   \n",
       "403          Volkswagen Pickup  44.0         4        97.00      52.00  2130.   \n",
       "404              Dodge Rampage  32.0         4        135.0      84.00  2295.   \n",
       "405                Ford Ranger  28.0         4        120.0      79.00  2625.   \n",
       "406                 Chevy S-10  31.0         4        119.0      82.00  2720.   \n",
       "\n",
       "    Acceleration Model  Origin  \n",
       "1           12.0    70      US  \n",
       "2           11.5    70      US  \n",
       "3           11.0    70      US  \n",
       "4           12.0    70      US  \n",
       "5           10.5    70      US  \n",
       "..           ...   ...     ...  \n",
       "402         15.6    82      US  \n",
       "403         24.6    82  Europe  \n",
       "404         11.6    82      US  \n",
       "405         18.6    82      US  \n",
       "406         19.4    82      US  \n",
       "\n",
       "[406 rows x 9 columns]"
      ]
     },
     "execution_count": 69,
     "metadata": {},
     "output_type": "execute_result"
    }
   ],
   "source": [
    "cars_df['MPG'] = cars_df['MPG'].astype('float')\n",
    "cars_df"
   ]
  },
  {
   "attachments": {},
   "cell_type": "markdown",
   "id": "90683aa6",
   "metadata": {},
   "source": [
    "Provjerimo još jednom tipove podataka."
   ]
  },
  {
   "cell_type": "code",
   "execution_count": 70,
   "id": "babd983f",
   "metadata": {},
   "outputs": [
    {
     "data": {
      "text/plain": [
       "Car              object\n",
       "MPG             float64\n",
       "Cylinders        object\n",
       "Displacement     object\n",
       "Horsepower       object\n",
       "Weight           object\n",
       "Acceleration     object\n",
       "Model            object\n",
       "Origin           object\n",
       "dtype: object"
      ]
     },
     "execution_count": 70,
     "metadata": {},
     "output_type": "execute_result"
    }
   ],
   "source": [
    "cars_df.dtypes"
   ]
  },
  {
   "attachments": {},
   "cell_type": "markdown",
   "id": "e9e0db0d",
   "metadata": {},
   "source": [
    "Sada smo dobili kolonu koja čuva podatke o potrošnji (milja po galonu).\n",
    "\n",
    "**Zadatak**<br>\n",
    "**Napravite konverziju preostalih kolona koje čuvaju numeričke podatke.**"
   ]
  },
  {
   "cell_type": "code",
   "execution_count": 71,
   "id": "36167f49",
   "metadata": {},
   "outputs": [],
   "source": [
    "cars_df['Cylinders'] = cars_df['Cylinders'].astype('int64')\n",
    "cars_df['Displacement'] = cars_df['Displacement'].astype('float')\n",
    "cars_df['Horsepower'] = cars_df['Horsepower'].astype('float')\n",
    "cars_df['Weight'] = cars_df['Weight'].astype('float')\n",
    "cars_df['Acceleration'] = cars_df['Acceleration'].astype('float')\n",
    "cars_df['Model'] = cars_df['Model'].astype('int64')"
   ]
  },
  {
   "cell_type": "code",
   "execution_count": 72,
   "id": "c4ea7e53",
   "metadata": {},
   "outputs": [
    {
     "data": {
      "text/plain": [
       "Car              object\n",
       "MPG             float64\n",
       "Cylinders         int64\n",
       "Displacement    float64\n",
       "Horsepower      float64\n",
       "Weight          float64\n",
       "Acceleration    float64\n",
       "Model             int64\n",
       "Origin           object\n",
       "dtype: object"
      ]
     },
     "execution_count": 72,
     "metadata": {},
     "output_type": "execute_result"
    }
   ],
   "source": [
    "cars_df.dtypes"
   ]
  },
  {
   "cell_type": "code",
   "execution_count": 73,
   "id": "d1044c54",
   "metadata": {},
   "outputs": [
    {
     "data": {
      "text/html": [
       "<div>\n",
       "<style scoped>\n",
       "    .dataframe tbody tr th:only-of-type {\n",
       "        vertical-align: middle;\n",
       "    }\n",
       "\n",
       "    .dataframe tbody tr th {\n",
       "        vertical-align: top;\n",
       "    }\n",
       "\n",
       "    .dataframe thead th {\n",
       "        text-align: right;\n",
       "    }\n",
       "</style>\n",
       "<table border=\"1\" class=\"dataframe\">\n",
       "  <thead>\n",
       "    <tr style=\"text-align: right;\">\n",
       "      <th></th>\n",
       "      <th>Car</th>\n",
       "      <th>MPG</th>\n",
       "      <th>Cylinders</th>\n",
       "      <th>Displacement</th>\n",
       "      <th>Horsepower</th>\n",
       "      <th>Weight</th>\n",
       "      <th>Acceleration</th>\n",
       "      <th>Model</th>\n",
       "      <th>Origin</th>\n",
       "    </tr>\n",
       "  </thead>\n",
       "  <tbody>\n",
       "    <tr>\n",
       "      <th>1</th>\n",
       "      <td>Chevrolet Chevelle Malibu</td>\n",
       "      <td>18.0</td>\n",
       "      <td>8</td>\n",
       "      <td>307.0</td>\n",
       "      <td>130.0</td>\n",
       "      <td>3504.0</td>\n",
       "      <td>12.0</td>\n",
       "      <td>70</td>\n",
       "      <td>US</td>\n",
       "    </tr>\n",
       "    <tr>\n",
       "      <th>2</th>\n",
       "      <td>Buick Skylark 320</td>\n",
       "      <td>15.0</td>\n",
       "      <td>8</td>\n",
       "      <td>350.0</td>\n",
       "      <td>165.0</td>\n",
       "      <td>3693.0</td>\n",
       "      <td>11.5</td>\n",
       "      <td>70</td>\n",
       "      <td>US</td>\n",
       "    </tr>\n",
       "    <tr>\n",
       "      <th>3</th>\n",
       "      <td>Plymouth Satellite</td>\n",
       "      <td>18.0</td>\n",
       "      <td>8</td>\n",
       "      <td>318.0</td>\n",
       "      <td>150.0</td>\n",
       "      <td>3436.0</td>\n",
       "      <td>11.0</td>\n",
       "      <td>70</td>\n",
       "      <td>US</td>\n",
       "    </tr>\n",
       "    <tr>\n",
       "      <th>4</th>\n",
       "      <td>AMC Rebel SST</td>\n",
       "      <td>16.0</td>\n",
       "      <td>8</td>\n",
       "      <td>304.0</td>\n",
       "      <td>150.0</td>\n",
       "      <td>3433.0</td>\n",
       "      <td>12.0</td>\n",
       "      <td>70</td>\n",
       "      <td>US</td>\n",
       "    </tr>\n",
       "    <tr>\n",
       "      <th>5</th>\n",
       "      <td>Ford Torino</td>\n",
       "      <td>17.0</td>\n",
       "      <td>8</td>\n",
       "      <td>302.0</td>\n",
       "      <td>140.0</td>\n",
       "      <td>3449.0</td>\n",
       "      <td>10.5</td>\n",
       "      <td>70</td>\n",
       "      <td>US</td>\n",
       "    </tr>\n",
       "    <tr>\n",
       "      <th>...</th>\n",
       "      <td>...</td>\n",
       "      <td>...</td>\n",
       "      <td>...</td>\n",
       "      <td>...</td>\n",
       "      <td>...</td>\n",
       "      <td>...</td>\n",
       "      <td>...</td>\n",
       "      <td>...</td>\n",
       "      <td>...</td>\n",
       "    </tr>\n",
       "    <tr>\n",
       "      <th>402</th>\n",
       "      <td>Ford Mustang GL</td>\n",
       "      <td>27.0</td>\n",
       "      <td>4</td>\n",
       "      <td>140.0</td>\n",
       "      <td>86.0</td>\n",
       "      <td>2790.0</td>\n",
       "      <td>15.6</td>\n",
       "      <td>82</td>\n",
       "      <td>US</td>\n",
       "    </tr>\n",
       "    <tr>\n",
       "      <th>403</th>\n",
       "      <td>Volkswagen Pickup</td>\n",
       "      <td>44.0</td>\n",
       "      <td>4</td>\n",
       "      <td>97.0</td>\n",
       "      <td>52.0</td>\n",
       "      <td>2130.0</td>\n",
       "      <td>24.6</td>\n",
       "      <td>82</td>\n",
       "      <td>Europe</td>\n",
       "    </tr>\n",
       "    <tr>\n",
       "      <th>404</th>\n",
       "      <td>Dodge Rampage</td>\n",
       "      <td>32.0</td>\n",
       "      <td>4</td>\n",
       "      <td>135.0</td>\n",
       "      <td>84.0</td>\n",
       "      <td>2295.0</td>\n",
       "      <td>11.6</td>\n",
       "      <td>82</td>\n",
       "      <td>US</td>\n",
       "    </tr>\n",
       "    <tr>\n",
       "      <th>405</th>\n",
       "      <td>Ford Ranger</td>\n",
       "      <td>28.0</td>\n",
       "      <td>4</td>\n",
       "      <td>120.0</td>\n",
       "      <td>79.0</td>\n",
       "      <td>2625.0</td>\n",
       "      <td>18.6</td>\n",
       "      <td>82</td>\n",
       "      <td>US</td>\n",
       "    </tr>\n",
       "    <tr>\n",
       "      <th>406</th>\n",
       "      <td>Chevy S-10</td>\n",
       "      <td>31.0</td>\n",
       "      <td>4</td>\n",
       "      <td>119.0</td>\n",
       "      <td>82.0</td>\n",
       "      <td>2720.0</td>\n",
       "      <td>19.4</td>\n",
       "      <td>82</td>\n",
       "      <td>US</td>\n",
       "    </tr>\n",
       "  </tbody>\n",
       "</table>\n",
       "<p>406 rows × 9 columns</p>\n",
       "</div>"
      ],
      "text/plain": [
       "                           Car   MPG  Cylinders  Displacement  Horsepower  \\\n",
       "1    Chevrolet Chevelle Malibu  18.0          8         307.0       130.0   \n",
       "2            Buick Skylark 320  15.0          8         350.0       165.0   \n",
       "3           Plymouth Satellite  18.0          8         318.0       150.0   \n",
       "4                AMC Rebel SST  16.0          8         304.0       150.0   \n",
       "5                  Ford Torino  17.0          8         302.0       140.0   \n",
       "..                         ...   ...        ...           ...         ...   \n",
       "402            Ford Mustang GL  27.0          4         140.0        86.0   \n",
       "403          Volkswagen Pickup  44.0          4          97.0        52.0   \n",
       "404              Dodge Rampage  32.0          4         135.0        84.0   \n",
       "405                Ford Ranger  28.0          4         120.0        79.0   \n",
       "406                 Chevy S-10  31.0          4         119.0        82.0   \n",
       "\n",
       "     Weight  Acceleration  Model  Origin  \n",
       "1    3504.0          12.0     70      US  \n",
       "2    3693.0          11.5     70      US  \n",
       "3    3436.0          11.0     70      US  \n",
       "4    3433.0          12.0     70      US  \n",
       "5    3449.0          10.5     70      US  \n",
       "..      ...           ...    ...     ...  \n",
       "402  2790.0          15.6     82      US  \n",
       "403  2130.0          24.6     82  Europe  \n",
       "404  2295.0          11.6     82      US  \n",
       "405  2625.0          18.6     82      US  \n",
       "406  2720.0          19.4     82      US  \n",
       "\n",
       "[406 rows x 9 columns]"
      ]
     },
     "execution_count": 73,
     "metadata": {},
     "output_type": "execute_result"
    }
   ],
   "source": [
    "cars_df"
   ]
  },
  {
   "attachments": {},
   "cell_type": "markdown",
   "id": "11699ae9",
   "metadata": {},
   "source": [
    "Svo ovo smo mogli napraviti puno jednostavnije i brže. Gornji primjer je naveden zato da bismo pokazali kako se mogu raditi konverzije pojedinačnih kolona.\n",
    "\n",
    "Vratimo se ispravnom uvozu podataka. Sada kada znamo da nam prvi red radi poteškoće, onda ćemo ga odmah tijekom uvoza izostaviti tako što ćemo koristiti argument *skiprows* koji predstavlja listu indeksa redova koje želimo izostaviti."
   ]
  },
  {
   "cell_type": "code",
   "execution_count": 74,
   "id": "9053da8f",
   "metadata": {},
   "outputs": [
    {
     "data": {
      "text/html": [
       "<div>\n",
       "<style scoped>\n",
       "    .dataframe tbody tr th:only-of-type {\n",
       "        vertical-align: middle;\n",
       "    }\n",
       "\n",
       "    .dataframe tbody tr th {\n",
       "        vertical-align: top;\n",
       "    }\n",
       "\n",
       "    .dataframe thead th {\n",
       "        text-align: right;\n",
       "    }\n",
       "</style>\n",
       "<table border=\"1\" class=\"dataframe\">\n",
       "  <thead>\n",
       "    <tr style=\"text-align: right;\">\n",
       "      <th></th>\n",
       "      <th>STRING</th>\n",
       "      <th>DOUBLE</th>\n",
       "      <th>INT</th>\n",
       "      <th>DOUBLE.1</th>\n",
       "      <th>DOUBLE.2</th>\n",
       "      <th>DOUBLE.3</th>\n",
       "      <th>DOUBLE.4</th>\n",
       "      <th>INT.1</th>\n",
       "      <th>CAT</th>\n",
       "    </tr>\n",
       "  </thead>\n",
       "  <tbody>\n",
       "    <tr>\n",
       "      <th>0</th>\n",
       "      <td>Chevrolet Chevelle Malibu</td>\n",
       "      <td>18.0</td>\n",
       "      <td>8</td>\n",
       "      <td>307.0</td>\n",
       "      <td>130.0</td>\n",
       "      <td>3504.0</td>\n",
       "      <td>12.0</td>\n",
       "      <td>70</td>\n",
       "      <td>US</td>\n",
       "    </tr>\n",
       "    <tr>\n",
       "      <th>1</th>\n",
       "      <td>Buick Skylark 320</td>\n",
       "      <td>15.0</td>\n",
       "      <td>8</td>\n",
       "      <td>350.0</td>\n",
       "      <td>165.0</td>\n",
       "      <td>3693.0</td>\n",
       "      <td>11.5</td>\n",
       "      <td>70</td>\n",
       "      <td>US</td>\n",
       "    </tr>\n",
       "    <tr>\n",
       "      <th>2</th>\n",
       "      <td>Plymouth Satellite</td>\n",
       "      <td>18.0</td>\n",
       "      <td>8</td>\n",
       "      <td>318.0</td>\n",
       "      <td>150.0</td>\n",
       "      <td>3436.0</td>\n",
       "      <td>11.0</td>\n",
       "      <td>70</td>\n",
       "      <td>US</td>\n",
       "    </tr>\n",
       "    <tr>\n",
       "      <th>3</th>\n",
       "      <td>AMC Rebel SST</td>\n",
       "      <td>16.0</td>\n",
       "      <td>8</td>\n",
       "      <td>304.0</td>\n",
       "      <td>150.0</td>\n",
       "      <td>3433.0</td>\n",
       "      <td>12.0</td>\n",
       "      <td>70</td>\n",
       "      <td>US</td>\n",
       "    </tr>\n",
       "    <tr>\n",
       "      <th>4</th>\n",
       "      <td>Ford Torino</td>\n",
       "      <td>17.0</td>\n",
       "      <td>8</td>\n",
       "      <td>302.0</td>\n",
       "      <td>140.0</td>\n",
       "      <td>3449.0</td>\n",
       "      <td>10.5</td>\n",
       "      <td>70</td>\n",
       "      <td>US</td>\n",
       "    </tr>\n",
       "    <tr>\n",
       "      <th>...</th>\n",
       "      <td>...</td>\n",
       "      <td>...</td>\n",
       "      <td>...</td>\n",
       "      <td>...</td>\n",
       "      <td>...</td>\n",
       "      <td>...</td>\n",
       "      <td>...</td>\n",
       "      <td>...</td>\n",
       "      <td>...</td>\n",
       "    </tr>\n",
       "    <tr>\n",
       "      <th>401</th>\n",
       "      <td>Ford Mustang GL</td>\n",
       "      <td>27.0</td>\n",
       "      <td>4</td>\n",
       "      <td>140.0</td>\n",
       "      <td>86.0</td>\n",
       "      <td>2790.0</td>\n",
       "      <td>15.6</td>\n",
       "      <td>82</td>\n",
       "      <td>US</td>\n",
       "    </tr>\n",
       "    <tr>\n",
       "      <th>402</th>\n",
       "      <td>Volkswagen Pickup</td>\n",
       "      <td>44.0</td>\n",
       "      <td>4</td>\n",
       "      <td>97.0</td>\n",
       "      <td>52.0</td>\n",
       "      <td>2130.0</td>\n",
       "      <td>24.6</td>\n",
       "      <td>82</td>\n",
       "      <td>Europe</td>\n",
       "    </tr>\n",
       "    <tr>\n",
       "      <th>403</th>\n",
       "      <td>Dodge Rampage</td>\n",
       "      <td>32.0</td>\n",
       "      <td>4</td>\n",
       "      <td>135.0</td>\n",
       "      <td>84.0</td>\n",
       "      <td>2295.0</td>\n",
       "      <td>11.6</td>\n",
       "      <td>82</td>\n",
       "      <td>US</td>\n",
       "    </tr>\n",
       "    <tr>\n",
       "      <th>404</th>\n",
       "      <td>Ford Ranger</td>\n",
       "      <td>28.0</td>\n",
       "      <td>4</td>\n",
       "      <td>120.0</td>\n",
       "      <td>79.0</td>\n",
       "      <td>2625.0</td>\n",
       "      <td>18.6</td>\n",
       "      <td>82</td>\n",
       "      <td>US</td>\n",
       "    </tr>\n",
       "    <tr>\n",
       "      <th>405</th>\n",
       "      <td>Chevy S-10</td>\n",
       "      <td>31.0</td>\n",
       "      <td>4</td>\n",
       "      <td>119.0</td>\n",
       "      <td>82.0</td>\n",
       "      <td>2720.0</td>\n",
       "      <td>19.4</td>\n",
       "      <td>82</td>\n",
       "      <td>US</td>\n",
       "    </tr>\n",
       "  </tbody>\n",
       "</table>\n",
       "<p>406 rows × 9 columns</p>\n",
       "</div>"
      ],
      "text/plain": [
       "                        STRING  DOUBLE  INT  DOUBLE.1  DOUBLE.2  DOUBLE.3  \\\n",
       "0    Chevrolet Chevelle Malibu    18.0    8     307.0     130.0    3504.0   \n",
       "1            Buick Skylark 320    15.0    8     350.0     165.0    3693.0   \n",
       "2           Plymouth Satellite    18.0    8     318.0     150.0    3436.0   \n",
       "3                AMC Rebel SST    16.0    8     304.0     150.0    3433.0   \n",
       "4                  Ford Torino    17.0    8     302.0     140.0    3449.0   \n",
       "..                         ...     ...  ...       ...       ...       ...   \n",
       "401            Ford Mustang GL    27.0    4     140.0      86.0    2790.0   \n",
       "402          Volkswagen Pickup    44.0    4      97.0      52.0    2130.0   \n",
       "403              Dodge Rampage    32.0    4     135.0      84.0    2295.0   \n",
       "404                Ford Ranger    28.0    4     120.0      79.0    2625.0   \n",
       "405                 Chevy S-10    31.0    4     119.0      82.0    2720.0   \n",
       "\n",
       "     DOUBLE.4  INT.1     CAT  \n",
       "0        12.0     70      US  \n",
       "1        11.5     70      US  \n",
       "2        11.0     70      US  \n",
       "3        12.0     70      US  \n",
       "4        10.5     70      US  \n",
       "..        ...    ...     ...  \n",
       "401      15.6     82      US  \n",
       "402      24.6     82  Europe  \n",
       "403      11.6     82      US  \n",
       "404      18.6     82      US  \n",
       "405      19.4     82      US  \n",
       "\n",
       "[406 rows x 9 columns]"
      ]
     },
     "execution_count": 74,
     "metadata": {},
     "output_type": "execute_result"
    }
   ],
   "source": [
    "cars_csv = pd.read_csv('../Data/Vjezbe_Primjeri/cars.csv', sep=';', skiprows=[0])\n",
    "cars_csv"
   ]
  },
  {
   "cell_type": "code",
   "execution_count": 75,
   "id": "c6d0c8ff",
   "metadata": {},
   "outputs": [
    {
     "data": {
      "text/plain": [
       "Car              object\n",
       "MPG             float64\n",
       "Cylinders         int64\n",
       "Displacement    float64\n",
       "Horsepower      float64\n",
       "Weight          float64\n",
       "Acceleration    float64\n",
       "Model             int64\n",
       "Origin           object\n",
       "dtype: object"
      ]
     },
     "execution_count": 75,
     "metadata": {},
     "output_type": "execute_result"
    }
   ],
   "source": [
    "cars_df.dtypes"
   ]
  },
  {
   "attachments": {},
   "cell_type": "markdown",
   "id": "e632af14",
   "metadata": {},
   "source": [
    "Dobili smo ispravno uvezene tipove podataka u jednom redu. Ovo je jako važno kada imamo velike datoteke koje imaju jako puno redova, ali i kolona, zato je prolazak kolonu po kolonu kako bi se promijenio tip podatka zamoran, neučinkovit i podliježe greškama.\n",
    "\n",
    "*Dodatna informacija: postoje još dodatni argumenti koje ćemo upoznati kasnije ili čiju primjenu možete sami istraživati.*\n",
    "\n",
    "Sada kada smo prilagodili tip podatka u kolonama na način da nama odgovara. Nastavimo dalje s upoznavanjem s našim podacima te njihovom normalizacijom.\n",
    "\n",
    "Provjerimo imamo li prazne ćelije. To su ćelije koje ne čuvaju nikakve podatke. Za to koristimo svojstvo *empty*. Ovo svojstvo vraća True ako nađe praznu ćeliju, odnosno *False* ako nema praznih ćelija."
   ]
  },
  {
   "cell_type": "code",
   "execution_count": 76,
   "id": "9a458562",
   "metadata": {},
   "outputs": [
    {
     "data": {
      "text/plain": [
       "False"
      ]
     },
     "execution_count": 76,
     "metadata": {},
     "output_type": "execute_result"
    }
   ],
   "source": [
    "cars_df.empty"
   ]
  },
  {
   "attachments": {},
   "cell_type": "markdown",
   "id": "7c2a007b",
   "metadata": {},
   "source": [
    "U našem primjeru imamo \"samo\" 406 redaka. Vidjet ćete iz kasnijih primjera da ovakve tablice imaju i po desetak tisuća redaka. Nakon uvoza podataka, koristili smo integrirani tablični prikaz DF-a koji prikazuje prvih 5 redova pa onda jedan red s po tri točkice, zadnjih pet redova te na kraju broj redova i kolona. Ponekad će i ovakav prikaz biti nejasan pa se ovi dijelovi prikaza mogu prikazati zasebno.\n",
    "\n",
    "- *head()* - prikazuje prvih pet redova, a ako kao argument dajemo cijeli broj, vratit će nam toliko redova\n",
    "- *tail()* - prikazuje zadnjih pet redova, a ako kao argument dajemo cijeli broj, vratit će nam toliko redova\n",
    "- *shape* - svojstvo koje vraća broj redaka i broj kolona u obliku n-terca (broj_redaka, broj_kolona)"
   ]
  },
  {
   "cell_type": "code",
   "execution_count": 77,
   "id": "cd460187",
   "metadata": {},
   "outputs": [
    {
     "data": {
      "text/html": [
       "<div>\n",
       "<style scoped>\n",
       "    .dataframe tbody tr th:only-of-type {\n",
       "        vertical-align: middle;\n",
       "    }\n",
       "\n",
       "    .dataframe tbody tr th {\n",
       "        vertical-align: top;\n",
       "    }\n",
       "\n",
       "    .dataframe thead th {\n",
       "        text-align: right;\n",
       "    }\n",
       "</style>\n",
       "<table border=\"1\" class=\"dataframe\">\n",
       "  <thead>\n",
       "    <tr style=\"text-align: right;\">\n",
       "      <th></th>\n",
       "      <th>Car</th>\n",
       "      <th>MPG</th>\n",
       "      <th>Cylinders</th>\n",
       "      <th>Displacement</th>\n",
       "      <th>Horsepower</th>\n",
       "      <th>Weight</th>\n",
       "      <th>Acceleration</th>\n",
       "      <th>Model</th>\n",
       "      <th>Origin</th>\n",
       "    </tr>\n",
       "  </thead>\n",
       "  <tbody>\n",
       "    <tr>\n",
       "      <th>1</th>\n",
       "      <td>Chevrolet Chevelle Malibu</td>\n",
       "      <td>18.0</td>\n",
       "      <td>8</td>\n",
       "      <td>307.0</td>\n",
       "      <td>130.0</td>\n",
       "      <td>3504.0</td>\n",
       "      <td>12.0</td>\n",
       "      <td>70</td>\n",
       "      <td>US</td>\n",
       "    </tr>\n",
       "    <tr>\n",
       "      <th>2</th>\n",
       "      <td>Buick Skylark 320</td>\n",
       "      <td>15.0</td>\n",
       "      <td>8</td>\n",
       "      <td>350.0</td>\n",
       "      <td>165.0</td>\n",
       "      <td>3693.0</td>\n",
       "      <td>11.5</td>\n",
       "      <td>70</td>\n",
       "      <td>US</td>\n",
       "    </tr>\n",
       "    <tr>\n",
       "      <th>3</th>\n",
       "      <td>Plymouth Satellite</td>\n",
       "      <td>18.0</td>\n",
       "      <td>8</td>\n",
       "      <td>318.0</td>\n",
       "      <td>150.0</td>\n",
       "      <td>3436.0</td>\n",
       "      <td>11.0</td>\n",
       "      <td>70</td>\n",
       "      <td>US</td>\n",
       "    </tr>\n",
       "    <tr>\n",
       "      <th>4</th>\n",
       "      <td>AMC Rebel SST</td>\n",
       "      <td>16.0</td>\n",
       "      <td>8</td>\n",
       "      <td>304.0</td>\n",
       "      <td>150.0</td>\n",
       "      <td>3433.0</td>\n",
       "      <td>12.0</td>\n",
       "      <td>70</td>\n",
       "      <td>US</td>\n",
       "    </tr>\n",
       "    <tr>\n",
       "      <th>5</th>\n",
       "      <td>Ford Torino</td>\n",
       "      <td>17.0</td>\n",
       "      <td>8</td>\n",
       "      <td>302.0</td>\n",
       "      <td>140.0</td>\n",
       "      <td>3449.0</td>\n",
       "      <td>10.5</td>\n",
       "      <td>70</td>\n",
       "      <td>US</td>\n",
       "    </tr>\n",
       "  </tbody>\n",
       "</table>\n",
       "</div>"
      ],
      "text/plain": [
       "                         Car   MPG  Cylinders  Displacement  Horsepower  \\\n",
       "1  Chevrolet Chevelle Malibu  18.0          8         307.0       130.0   \n",
       "2          Buick Skylark 320  15.0          8         350.0       165.0   \n",
       "3         Plymouth Satellite  18.0          8         318.0       150.0   \n",
       "4              AMC Rebel SST  16.0          8         304.0       150.0   \n",
       "5                Ford Torino  17.0          8         302.0       140.0   \n",
       "\n",
       "   Weight  Acceleration  Model Origin  \n",
       "1  3504.0          12.0     70     US  \n",
       "2  3693.0          11.5     70     US  \n",
       "3  3436.0          11.0     70     US  \n",
       "4  3433.0          12.0     70     US  \n",
       "5  3449.0          10.5     70     US  "
      ]
     },
     "execution_count": 77,
     "metadata": {},
     "output_type": "execute_result"
    }
   ],
   "source": [
    "cars_df.head()"
   ]
  },
  {
   "cell_type": "code",
   "execution_count": 78,
   "id": "21990c79",
   "metadata": {},
   "outputs": [
    {
     "data": {
      "text/html": [
       "<div>\n",
       "<style scoped>\n",
       "    .dataframe tbody tr th:only-of-type {\n",
       "        vertical-align: middle;\n",
       "    }\n",
       "\n",
       "    .dataframe tbody tr th {\n",
       "        vertical-align: top;\n",
       "    }\n",
       "\n",
       "    .dataframe thead th {\n",
       "        text-align: right;\n",
       "    }\n",
       "</style>\n",
       "<table border=\"1\" class=\"dataframe\">\n",
       "  <thead>\n",
       "    <tr style=\"text-align: right;\">\n",
       "      <th></th>\n",
       "      <th>Car</th>\n",
       "      <th>MPG</th>\n",
       "      <th>Cylinders</th>\n",
       "      <th>Displacement</th>\n",
       "      <th>Horsepower</th>\n",
       "      <th>Weight</th>\n",
       "      <th>Acceleration</th>\n",
       "      <th>Model</th>\n",
       "      <th>Origin</th>\n",
       "    </tr>\n",
       "  </thead>\n",
       "  <tbody>\n",
       "    <tr>\n",
       "      <th>402</th>\n",
       "      <td>Ford Mustang GL</td>\n",
       "      <td>27.0</td>\n",
       "      <td>4</td>\n",
       "      <td>140.0</td>\n",
       "      <td>86.0</td>\n",
       "      <td>2790.0</td>\n",
       "      <td>15.6</td>\n",
       "      <td>82</td>\n",
       "      <td>US</td>\n",
       "    </tr>\n",
       "    <tr>\n",
       "      <th>403</th>\n",
       "      <td>Volkswagen Pickup</td>\n",
       "      <td>44.0</td>\n",
       "      <td>4</td>\n",
       "      <td>97.0</td>\n",
       "      <td>52.0</td>\n",
       "      <td>2130.0</td>\n",
       "      <td>24.6</td>\n",
       "      <td>82</td>\n",
       "      <td>Europe</td>\n",
       "    </tr>\n",
       "    <tr>\n",
       "      <th>404</th>\n",
       "      <td>Dodge Rampage</td>\n",
       "      <td>32.0</td>\n",
       "      <td>4</td>\n",
       "      <td>135.0</td>\n",
       "      <td>84.0</td>\n",
       "      <td>2295.0</td>\n",
       "      <td>11.6</td>\n",
       "      <td>82</td>\n",
       "      <td>US</td>\n",
       "    </tr>\n",
       "    <tr>\n",
       "      <th>405</th>\n",
       "      <td>Ford Ranger</td>\n",
       "      <td>28.0</td>\n",
       "      <td>4</td>\n",
       "      <td>120.0</td>\n",
       "      <td>79.0</td>\n",
       "      <td>2625.0</td>\n",
       "      <td>18.6</td>\n",
       "      <td>82</td>\n",
       "      <td>US</td>\n",
       "    </tr>\n",
       "    <tr>\n",
       "      <th>406</th>\n",
       "      <td>Chevy S-10</td>\n",
       "      <td>31.0</td>\n",
       "      <td>4</td>\n",
       "      <td>119.0</td>\n",
       "      <td>82.0</td>\n",
       "      <td>2720.0</td>\n",
       "      <td>19.4</td>\n",
       "      <td>82</td>\n",
       "      <td>US</td>\n",
       "    </tr>\n",
       "  </tbody>\n",
       "</table>\n",
       "</div>"
      ],
      "text/plain": [
       "                   Car   MPG  Cylinders  Displacement  Horsepower  Weight  \\\n",
       "402    Ford Mustang GL  27.0          4         140.0        86.0  2790.0   \n",
       "403  Volkswagen Pickup  44.0          4          97.0        52.0  2130.0   \n",
       "404      Dodge Rampage  32.0          4         135.0        84.0  2295.0   \n",
       "405        Ford Ranger  28.0          4         120.0        79.0  2625.0   \n",
       "406         Chevy S-10  31.0          4         119.0        82.0  2720.0   \n",
       "\n",
       "     Acceleration  Model  Origin  \n",
       "402          15.6     82      US  \n",
       "403          24.6     82  Europe  \n",
       "404          11.6     82      US  \n",
       "405          18.6     82      US  \n",
       "406          19.4     82      US  "
      ]
     },
     "execution_count": 78,
     "metadata": {},
     "output_type": "execute_result"
    }
   ],
   "source": [
    "cars_df.tail()"
   ]
  },
  {
   "cell_type": "code",
   "execution_count": 79,
   "id": "d7ca2329",
   "metadata": {},
   "outputs": [
    {
     "data": {
      "text/plain": [
       "(406, 9)"
      ]
     },
     "execution_count": 79,
     "metadata": {},
     "output_type": "execute_result"
    }
   ],
   "source": [
    "cars_df.shape"
   ]
  },
  {
   "attachments": {},
   "cell_type": "markdown",
   "id": "7f35d5bc",
   "metadata": {},
   "source": [
    "**VJEŽBA Dohvatite 3., 8. i 15 prvih, odnosno zadnjih redaka.**\n",
    "\n",
    "Upoznajmo se s još jednom metodom za upoznavanje s podacima, odnosno cijelim DF-om. To je metoda *info()*."
   ]
  },
  {
   "cell_type": "code",
   "execution_count": 80,
   "id": "df8dafbe",
   "metadata": {},
   "outputs": [
    {
     "name": "stdout",
     "output_type": "stream",
     "text": [
      "<class 'pandas.core.frame.DataFrame'>\n",
      "Int64Index: 406 entries, 1 to 406\n",
      "Data columns (total 9 columns):\n",
      " #   Column        Non-Null Count  Dtype  \n",
      "---  ------        --------------  -----  \n",
      " 0   Car           406 non-null    object \n",
      " 1   MPG           406 non-null    float64\n",
      " 2   Cylinders     406 non-null    int64  \n",
      " 3   Displacement  406 non-null    float64\n",
      " 4   Horsepower    406 non-null    float64\n",
      " 5   Weight        406 non-null    float64\n",
      " 6   Acceleration  406 non-null    float64\n",
      " 7   Model         406 non-null    int64  \n",
      " 8   Origin        406 non-null    object \n",
      "dtypes: float64(5), int64(2), object(2)\n",
      "memory usage: 31.7+ KB\n"
     ]
    }
   ],
   "source": [
    "cars_df.info()"
   ]
  },
  {
   "attachments": {},
   "cell_type": "markdown",
   "id": "fba57fb6",
   "metadata": {},
   "source": [
    "Uvoz podatka u Pandas je jako opširno područje, no zajedno smo prošli najvažnije dijelove. Uvoz podataka iz drugih izvora, kao što su JSON, Excel i baze podataka (SQLite3 i sl.) nismo radili, ali se puno ne razlikuju. Za rad s bazama podataka UVIJEK trebate imati jedan objekt koji predstavlja konekciju prema bazi, taj ćete objekt trebati i za Pandas pa vodite računa da radite na način jedna tablica, jedan DF.\n",
    "\n",
    "Pisanje u datoteke je također jednostavno. Koristite metodu *to_csv()* kojoj kao argument predate naziv datoteke i to je dovoljno. Naravno, možete koristiti i neke dodatne argumente za formatiranje, izbacivanje nekih podataka i slično.\n",
    "\n",
    "**ZADACI**\n",
    "\n",
    "Uvezite, normalizirajte te dokumentirajte sljedeće skupove podataka iz mape Data\\Vjezbe_Primjeri:<br>\n",
    "- *baby_names_France_from_nat1900-2017.tsv* - .tsv ekstenzija je isto kao i .csv, samo što je *tab delimiter*\n",
    "- *e-cars.csv*\n",
    "- *mall_customers.csv*\n",
    "- *titanic_data.csv*\n",
    "- *airbnb_new_york_city_reviews.csv*\n",
    "- *airbnb_new_york_city_listings.csv*\n",
    "\n",
    "*Dodatna informacija:  dokumentacija skupa podataka predstavlja opis toga kakav je skup bio u izvornom obliku (kakve podatke je imao, koliko redaka, kolona, praznih ćelija, tipova podatka ...) te kako skup izgleda nakon normalizacije. Ovo je važan korak jer ćete ponekad trebati samo pripremiti podatke, dok će njihovu obradu raditi netko drugi.*"
   ]
  }
 ],
 "metadata": {
  "kernelspec": {
   "display_name": "Python 3",
   "language": "python",
   "name": "python3"
  },
  "language_info": {
   "codemirror_mode": {
    "name": "ipython",
    "version": 3
   },
   "file_extension": ".py",
   "mimetype": "text/x-python",
   "name": "python",
   "nbconvert_exporter": "python",
   "pygments_lexer": "ipython3",
   "version": "3.8.8"
  }
 },
 "nbformat": 4,
 "nbformat_minor": 5
}
